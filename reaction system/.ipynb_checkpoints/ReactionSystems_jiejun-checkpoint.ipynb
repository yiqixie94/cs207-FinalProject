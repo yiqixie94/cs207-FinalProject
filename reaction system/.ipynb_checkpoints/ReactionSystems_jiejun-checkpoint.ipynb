{
 "cells": [
  {
   "cell_type": "code",
   "execution_count": 1,
   "metadata": {},
   "outputs": [
    {
     "name": "stdout",
     "output_type": "stream",
     "text": [
      "Overwriting ReactionSystem.py\n"
     ]
    }
   ],
   "source": [
    "%%file ReactionSystem.py\n",
    "\n",
    "import numpy as np\n",
    "import Reaction\n",
    "\n",
    "class ReactionSystem:\n",
    "    \"\"\"ReactionSystem formats and calculates information for a system of irreversible, elementary reactions, \n",
    "    including progress rate and reaction rate.\n",
    "    \n",
    "    INPUTS:\n",
    "    =======\n",
    "    r_ls: list of class Reaction, reactions included in the system\n",
    "    \n",
    "    e_ls: list of str, concentration element\n",
    "    \n",
    "    kwargs: non-positional arguments, dictionary of initial state, \n",
    "            including Temperature kwargs['T'] and concentration kwargs['concs']\n",
    "    \n",
    "    \n",
    "    ATTRIBUTES\n",
    "    ===========\n",
    "    _num_reaction: integer, number of reactions\n",
    "    \n",
    "    _num_element: integer, number of elements\n",
    "    \n",
    "    _r_ls: list of class Reaction, reactions included in the system\n",
    "    \n",
    "    _e_ls: list of str, concentration element\n",
    "    \n",
    "    _T: float, temperature\n",
    "    \n",
    "    _concs: array of float, concentration\n",
    "    \n",
    "    _k: array of float, coefficient rates for every equation\n",
    "    \n",
    "    _reactants: matrix of float, formatted reactant matrix\n",
    "    \n",
    "    _products: matrix of float, formatted product matrix\n",
    "    \n",
    "    progress: array of float, progress rate\n",
    "    \n",
    "    reac_rate: array of float, reaction rate\n",
    "    \n",
    "    METHODS:\n",
    "    ========\n",
    "    set_state(self, **kwargs): \n",
    "            set initial state Temperature kwargs['T'] and concentration kwargs['concs']\n",
    "            if length of e_ls is not equal to number of concentration kwargs['concs'], raise ValueError\n",
    "    \n",
    "    get_state(self):\n",
    "            return initial state\n",
    "            OUTPUTS: dictionary\n",
    "    \n",
    "    __len__(self):\n",
    "            return number of reaction\n",
    "            OUTPUTS: integer\n",
    "            \n",
    "    __repr__(self):\n",
    "            return a wrapped dict of all params for every reaction, namely str(self._params)\n",
    "            OUTPUTS: representational str\n",
    "    \n",
    "    rateCoeff(self):\n",
    "            function in class Reaction to calculate coefficient rate under given conditions\n",
    "            OUTPUTS: k, float, reaction rate coefficient\n",
    "    \n",
    "    calculate_nu_1(self):\n",
    "            return formatted reactant matrix\n",
    "            OUTPUTS: matrix of float\n",
    "            \n",
    "    calculate_nu_2(self):\n",
    "            return formatted product matrix\n",
    "            OUTPUTS: matrix of float\n",
    "    \n",
    "    get_progress_rate(self):\n",
    "            return the progress rate of a system of irreversible, elementary reactions\n",
    "            OUTPUTS: numpy array of floats, size: num_reactions, progress rate of each reaction\n",
    "            \n",
    "    get_reac_rate(self):\n",
    "            returns the reaction rate of a system of irreversible, elementary reactions\n",
    "            OUTPUTS: numpy array of floats, size: num_species, reaction rate of each specie\n",
    "            \n",
    "    compute_all(self):\n",
    "            return the reaction rate of a system reactions without calling the other methods\n",
    "            OUTPUTS: numpy array of floats, size: num_species, reaction rate of each specie\n",
    "            \n",
    "    EXAMPLES:\n",
    "    =========\n",
    "    >>> r_ls = []\\\n",
    "        r_ls.append(Reaction.Reaction(\\\n",
    "            reactants=dict(H=1,O2=1), products=dict(OH=1,O=1),\\\n",
    "            coeffLaw='Arrhenius', coeffParams=dict(A=2.0)\\\n",
    "        ))\\\n",
    "        r_ls.append(Reaction.Reaction(\\\n",
    "            reactants=dict(H2=1,O=1), products=dict(OH=1,H=1),\\\n",
    "            coeffLaw='Arrhenius', coeffParams=dict(A=2.0)\\\n",
    "        ))\n",
    "    >>> d = {}\\\n",
    "        d['T'] = 1\\\n",
    "        d['concs'] = np.array([2, 1, 0.5, 1, 1]).transpose()\n",
    "    >>> rs = ReactionSystem.ReactionSystem(e_ls=e_ls, r_ls=r_ls, **d)\n",
    "    >>> rs.compute_all()\n",
    "    array([-2.,  2.,  6., -2., -4.])\n",
    "    \"\"\"\n",
    "    \n",
    "    def __init__(self, r_ls, e_ls, **initial_state):\n",
    "        self._num_reaction = len(r_ls)\n",
    "        self._num_element = len(e_ls)\n",
    "        self._r_ls = r_ls\n",
    "        self._e_ls = e_ls\n",
    "        self.set_state(**initial_state)\n",
    "        \n",
    "    def set_state(self, **kwargs):\n",
    "        if 'T' in kwargs:\n",
    "            if (kwargs['T'] <= 0):\n",
    "                raise ValueError(\"T = {0:18.16e}: Negative Temperature are prohibited!\".format(kwargs['T']))\n",
    "                \n",
    "            self._T = kwargs['T']\n",
    "            \n",
    "        if 'concs' in kwargs:\n",
    "            for idx, xi in enumerate(kwargs['concs']):\n",
    "                if xi  < 0.0:\n",
    "                        raise ValueError(\"x{0} = {1:18.16e}:  Negative concentrations are prohibited!\".format(idx, xi))\n",
    "            \n",
    "            if len(kwargs['concs']) != self._num_element:\n",
    "                raise ValueError(\"The dimension of concentration and element list are not the same!\")\n",
    "            \n",
    "            self._concs = kwargs['concs']\n",
    "    \n",
    "    def get_state(self):\n",
    "        return dict(T=self._T, concs=self._concs)\n",
    "    \n",
    "    def __len__(self):\n",
    "        return self._num_reaction\n",
    "    \n",
    "    def __repr__(self):\n",
    "        repr_ls = \"\"\n",
    "        for r in self._r_ls:\n",
    "            repr_ls += repr(r)\n",
    "\n",
    "        return repr_ls\n",
    "    \n",
    "    def rateCoeff(self):\n",
    "        self._k = np.zeros(self._num_reaction)\n",
    "        \n",
    "        for n, r in enumerate(self._r_ls):\n",
    "            self._k[n] = r.rateCoeff(T = self._T)\n",
    "            \n",
    "        return self._k\n",
    "    \n",
    "    def calculate_nu_1(self):\n",
    "        self._reactants = np.zeros([self._num_element, self._num_reaction])\n",
    "        \n",
    "        for n, r in enumerate(self._r_ls):\n",
    "            for idx, e in enumerate(self._e_ls):\n",
    "                self._reactants[idx, n] = r.getReactants()[e] if e in r.getReactants() else 0\n",
    "                if self._reactants[idx, n] < 0:\n",
    "                    raise ValueError(\"nu_{0}1 = {1}:  Negative stoichiometric coefficients are prohibited!\".format(idx, self._reactants[idx, n]))\n",
    "\n",
    "        return self._reactants\n",
    "    \n",
    "    def calculate_nu_2(self):\n",
    "        self._products = np.zeros([self._num_element, self._num_reaction])\n",
    "        \n",
    "        for n, r in enumerate(self._r_ls):\n",
    "            for idx, e in enumerate(self._e_ls):\n",
    "                self._products[idx, n] = r.getProducts()[e] if e in r.getProducts() else 0\n",
    "                if self._products[idx, n] < 0:\n",
    "                    raise ValueError(\"nu_{0}2 = {1}:  Negative stoichiometric coefficients are prohibited!\".format(idx, self._products[idx, n]))\n",
    "\n",
    "        return self._products\n",
    "    \n",
    "    def get_progress_rate(self):\n",
    "        self._k = self.rateCoeff()\n",
    "        nu_react = self.calculate_nu_1()\n",
    "        self.progress = self._k # Initialize progress rates with reaction rate coefficients\n",
    "        \n",
    "        for jdx, rj in enumerate(self.progress):\n",
    "            for idx, xi in enumerate(self._concs):\n",
    "                nu_ij = nu_react[idx,jdx]\n",
    "                self.progress[jdx] *= xi**nu_ij\n",
    "                \n",
    "        return self.progress\n",
    "    \n",
    "    def get_reac_rate(self):\n",
    "        self.progress = self.get_progress_rate()\n",
    "        nu_react = self.calculate_nu_1()\n",
    "        nu_prod = self.calculate_nu_2()\n",
    "        nu = nu_prod - nu_react\n",
    "        self.reac_rate = np.dot(nu, self.progress)\n",
    "        \n",
    "        return self.reac_rate\n",
    "    \n",
    "    def compute_all(self):\n",
    "        self.rateCoeff()\n",
    "        self.calculate_nu_1()\n",
    "        self.calculate_nu_2()\n",
    "        self.get_progress_rate()\n",
    "        self.get_reac_rate()\n",
    "        \n",
    "        return self.reac_rate"
   ]
  },
  {
   "cell_type": "code",
   "execution_count": 2,
   "metadata": {
    "collapsed": true
   },
   "outputs": [],
   "source": [
    "import numpy as np\n",
    "import Reaction\n",
    "import ReactionSystem"
   ]
  },
  {
   "cell_type": "code",
   "execution_count": 3,
   "metadata": {
    "collapsed": true
   },
   "outputs": [],
   "source": [
    "e_ls = ['H', 'O', 'OH', 'H2', 'O2']"
   ]
  },
  {
   "cell_type": "code",
   "execution_count": 4,
   "metadata": {},
   "outputs": [],
   "source": [
    "r_ls = []\n",
    "r_ls.append(Reaction.Reaction(\n",
    "    reactants=dict(H=1,O2=1), products=dict(OH=1,O=1),\n",
    "    coeffLaw='Arrhenius', coeffParams=dict(A=2.0)\n",
    "))\n",
    "\n",
    "r_ls.append(Reaction.Reaction(\n",
    "    reactants=dict(H2=1,O=1), products=dict(OH=1,H=1),\n",
    "    coeffLaw='Arrhenius', coeffParams=dict(A=2.0)\n",
    "))"
   ]
  },
  {
   "cell_type": "code",
   "execution_count": 5,
   "metadata": {
    "collapsed": true
   },
   "outputs": [],
   "source": [
    "d = {}\n",
    "d['T'] = 1\n",
    "d['concs'] = np.array([2, 1, 0.5, 1, 1]).transpose()"
   ]
  },
  {
   "cell_type": "code",
   "execution_count": 6,
   "metadata": {
    "collapsed": true
   },
   "outputs": [],
   "source": [
    "rs = ReactionSystem.ReactionSystem(e_ls=e_ls, r_ls=r_ls, **d)"
   ]
  },
  {
   "cell_type": "code",
   "execution_count": 7,
   "metadata": {},
   "outputs": [
    {
     "data": {
      "text/plain": [
       "{'T': 1, 'concs': array([ 2. ,  1. ,  0.5,  1. ,  1. ])}"
      ]
     },
     "execution_count": 7,
     "metadata": {},
     "output_type": "execute_result"
    }
   ],
   "source": [
    "rs.get_state()"
   ]
  },
  {
   "cell_type": "code",
   "execution_count": 8,
   "metadata": {
    "collapsed": true
   },
   "outputs": [],
   "source": [
    "d = {}\n",
    "d['T'] = 2\n",
    "d['concs'] = np.array([2, 1, 0.5, 1, 1]).transpose()\n",
    "rs.set_state(**d)"
   ]
  },
  {
   "cell_type": "code",
   "execution_count": 9,
   "metadata": {},
   "outputs": [
    {
     "data": {
      "text/plain": [
       "array([-2.,  2.,  6., -2., -4.])"
      ]
     },
     "execution_count": 9,
     "metadata": {},
     "output_type": "execute_result"
    }
   ],
   "source": [
    "rs.compute_all()"
   ]
  },
  {
   "cell_type": "code",
   "execution_count": 10,
   "metadata": {},
   "outputs": [
    {
     "data": {
      "text/plain": [
       "array([[ 1.,  0.],\n",
       "       [ 0.,  1.],\n",
       "       [ 0.,  0.],\n",
       "       [ 0.,  1.],\n",
       "       [ 1.,  0.]])"
      ]
     },
     "execution_count": 10,
     "metadata": {},
     "output_type": "execute_result"
    }
   ],
   "source": [
    "rs.calculate_nu_1()"
   ]
  },
  {
   "cell_type": "code",
   "execution_count": 11,
   "metadata": {},
   "outputs": [
    {
     "data": {
      "text/plain": [
       "array([[ 0.,  1.],\n",
       "       [ 1.,  0.],\n",
       "       [ 1.,  1.],\n",
       "       [ 0.,  0.],\n",
       "       [ 0.,  0.]])"
      ]
     },
     "execution_count": 11,
     "metadata": {},
     "output_type": "execute_result"
    }
   ],
   "source": [
    "rs.calculate_nu_2()"
   ]
  },
  {
   "cell_type": "code",
   "execution_count": 12,
   "metadata": {},
   "outputs": [
    {
     "data": {
      "text/plain": [
       "array([ 2.,  2.])"
      ]
     },
     "execution_count": 12,
     "metadata": {},
     "output_type": "execute_result"
    }
   ],
   "source": [
    "rs.rateCoeff()"
   ]
  },
  {
   "cell_type": "code",
   "execution_count": 13,
   "metadata": {},
   "outputs": [
    {
     "data": {
      "text/plain": [
       "array([ 4.,  2.])"
      ]
     },
     "execution_count": 13,
     "metadata": {},
     "output_type": "execute_result"
    }
   ],
   "source": [
    "rs.get_progress_rate()"
   ]
  },
  {
   "cell_type": "code",
   "execution_count": 14,
   "metadata": {},
   "outputs": [
    {
     "data": {
      "text/plain": [
       "array([-2.,  2.,  6., -2., -4.])"
      ]
     },
     "execution_count": 14,
     "metadata": {},
     "output_type": "execute_result"
    }
   ],
   "source": [
    "rs.get_reac_rate()"
   ]
  },
  {
   "cell_type": "code",
   "execution_count": 15,
   "metadata": {},
   "outputs": [
    {
     "data": {
      "text/plain": [
       "2"
      ]
     },
     "execution_count": 15,
     "metadata": {},
     "output_type": "execute_result"
    }
   ],
   "source": [
    "len(rs)"
   ]
  },
  {
   "cell_type": "code",
   "execution_count": 16,
   "metadata": {},
   "outputs": [
    {
     "data": {
      "text/plain": [
       "\"{'reversible': False, 'TYPE': 'Elementary', 'ID': 'reaction', 'coeffLaw': 'Arrhenius', 'coeffParams': {'A': 2.0}, 'coeffUnits': {}, 'reactants': {'H': 1, 'O2': 1}, 'products': {'OH': 1, 'O': 1}}{'reversible': False, 'TYPE': 'Elementary', 'ID': 'reaction', 'coeffLaw': 'Arrhenius', 'coeffParams': {'A': 2.0}, 'coeffUnits': {}, 'reactants': {'H2': 1, 'O': 1}, 'products': {'OH': 1, 'H': 1}}\""
      ]
     },
     "execution_count": 16,
     "metadata": {},
     "output_type": "execute_result"
    }
   ],
   "source": [
    "repr(rs)"
   ]
  },
  {
   "cell_type": "code",
   "execution_count": null,
   "metadata": {
    "collapsed": true
   },
   "outputs": [],
   "source": []
  },
  {
   "cell_type": "code",
   "execution_count": null,
   "metadata": {
    "collapsed": true
   },
   "outputs": [],
   "source": []
  }
 ],
 "metadata": {
  "kernelspec": {
   "display_name": "Python 3",
   "language": "python",
   "name": "python3"
  },
  "language_info": {
   "codemirror_mode": {
    "name": "ipython",
    "version": 3
   },
   "file_extension": ".py",
   "mimetype": "text/x-python",
   "name": "python",
   "nbconvert_exporter": "python",
   "pygments_lexer": "ipython3",
   "version": "3.6.1"
  }
 },
 "nbformat": 4,
 "nbformat_minor": 2
}
