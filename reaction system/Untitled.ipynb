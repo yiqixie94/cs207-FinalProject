{
 "cells": [
  {
   "cell_type": "markdown",
   "metadata": {},
   "source": [
    "Model Documentation\n",
    "\n",
    "Class ReactionSystem:\n",
    "    ReactionSystem formats and calculates information for a system of reactions, including progress rate and reaction rate. It stores an array of reactions, and an array of species that interact in these reactions. An object of this class can be queried for reaction rates of its species and progress rates of its reactions.\n",
    "    \n",
    "    Input / Intialization: \n",
    "    \n",
    "    -- reactions_ls: list of Reaction objects, which are instantiated from class Reaction(reactants, products,\n",
    "    coeffLaw, coeffParams)\n",
    "    \n",
    "    -- species_ls: optional list of strings, with one specie per string. Default is empty. The list of species must match the total set of species in the given Reactions. The dimension must match with concentration.\n",
    "    \n",
    "    -- initial_T: optional integer, initial temperature, default is 273. The stored variable $_T$ can be set in the function $set_temp(T)$.\n",
    "    \n",
    "    -- initial_concs: optional dictionary, initial concentration. Default is empty. The key of $initial_concs$ is the name of speicies and the value is the concentration number. The length of dictionary should be match with $species_ls$. The stored variable $_concs$ can be set in the function $set_concs(concs_dict)$."
   ]
  },
  {
   "cell_type": "markdown",
   "metadata": {},
   "source": [
    "Methods:\n",
    "\n",
    "    Class ReactionSystem provides a variety of methods for users to set, obtain and calculate information for a system of reactions.\n",
    "    \n",
    "    We provide methods to change initial state for temperature and concentration and return their values. This is because user might have demand of only updating the reaction conditions while keeping the reaction formuals.\n",
    "    \n",
    "    -- set_temp(self, T): change temperature as $T$ for the reaction systems. If T is non positive, raise ValueError\n",
    "    \n",
    "    -- get_temp(self): return current temperature for the reaction systems.\n",
    "    \n",
    "    -- set_concs(self, concs): change concetration as $concs$ for the reaction systems. If concentration is non positive or the length is not match with $species_ls$, raise ValueError.\n",
    "    \n",
    "    -- get_concs(self): return current concentration for the reaction systems.\n",
    "    \n",
    "    \n",
    "    We also provide methods to add reactions into the reaction system. To do so, we need to update $species_ls$. \n",
    "    \n",
    "    -- add_reaction(self, reaction): append reaction to the $_reaction_ls$ and call $update_species(self)$. Check if it is Reaction object.\n",
    "    \n",
    "    -- update_species(self): add speicie to $_species_ls$ if it is not in the list.\n",
    "    \n",
    "    -- get_speicies(self): return current species in the reaction systems.\n",
    "    \n",
    "    This class is able to calculte all the information needed in a reaction system, including reaction rate coefficients, progress rate, reaction rate and $\\nu$ of reactants and products.\n",
    "    \n",
    "    -- get_nu_1(self): return formatted reactant matrix. One reaction each column.\n",
    "            \n",
    "    -- get_nu_2(self): return formatted product matrix. One reaction each column.\n",
    "    \n",
    "    -- get_reac_rate_coefs(self): function in class Reaction to calculate coefficient rate under given conditions\n",
    "       OUTPUTS: k, float, reaction rate coefficient\n",
    "    \n",
    "    -- get_progress_rate(self): return the progress rate of a system of irreversible, elementary reactions\n",
    "       OUTPUTS: numpy array of floats, size: num_reactions, progress rate of each reaction\n",
    "            \n",
    "    -- get_reac_rate(self):returns the reaction rate of a system of irreversible, elementary reactions\n",
    "       OUTPUTS: numpy array of floats, size: num_species, reaction rate of each specie\n",
    "       \n",
    "    Finally, we have the following two special function:\n",
    "    \n",
    "    -- __len__(self): return the number of reactions in the system.\n",
    "    \n",
    "    -- __repr__(self): return all the information of reactions in systems by calling $repr(r)$ in Reaction class. "
   ]
  },
  {
   "cell_type": "markdown",
   "metadata": {},
   "source": []
  },
  {
   "cell_type": "code",
   "execution_count": null,
   "metadata": {},
   "outputs": [],
   "source": []
  },
  {
   "cell_type": "code",
   "execution_count": null,
   "metadata": {
    "collapsed": true
   },
   "outputs": [],
   "source": []
  }
 ],
 "metadata": {
  "kernelspec": {
   "display_name": "Python 3",
   "language": "python",
   "name": "python3"
  },
  "language_info": {
   "codemirror_mode": {
    "name": "ipython",
    "version": 3
   },
   "file_extension": ".py",
   "mimetype": "text/x-python",
   "name": "python",
   "nbconvert_exporter": "python",
   "pygments_lexer": "ipython3",
   "version": "3.6.1"
  }
 },
 "nbformat": 4,
 "nbformat_minor": 2
}
