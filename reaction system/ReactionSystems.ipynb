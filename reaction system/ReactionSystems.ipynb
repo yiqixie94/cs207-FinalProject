{
 "cells": [
  {
   "cell_type": "code",
   "execution_count": 8,
   "metadata": {},
   "outputs": [],
   "source": [
    "import numpy as np\n",
    "import Reaction\n",
    "\n",
    "class ReactionSystem:\n",
    "    \n",
    "    def __init__(self, r_ls, e_ls):\n",
    "        self._num_reaction = len(r_ls)\n",
    "        self._num_element = len(e_ls)\n",
    "        self._r_ls = r_ls\n",
    "        self._e_ls = e_ls\n",
    "        \n",
    "    def set_conditions(self, **kwargs):\n",
    "        if 'T' in kwargs:\n",
    "            if (kwargs['T'] <= 0):\n",
    "                raise ValueError(\"Negative Temperature!\")\n",
    "                \n",
    "            self._T = kwargs['T']\n",
    "            \n",
    "        if 'concs' in kwargs:\n",
    "            # check validity (concs>=0?)\n",
    "            self._concs = kwargs['concs']\n",
    "    \n",
    "    def get_conditions(self):\n",
    "        return dict(T=self._T, concs=self._concs)\n",
    "    \n",
    "    def rateCoeff(self):\n",
    "        self._k = np.zeros(self._num_reaction)\n",
    "        for n, r in enumerate(self._r_ls):\n",
    "            self._k[n] = r.rateCoeff(T = self._T)\n",
    "            \n",
    "        return self._k\n",
    "    \n",
    "    def calculate_nu_1(self):\n",
    "        self._reactants = np.zeros([self._num_element, self._num_reaction])\n",
    "        for n, r in enumerate(self._r_ls):\n",
    "            for idx, e in enumerate(self._e_ls):\n",
    "                self._reactants[idx, n] = r.getReactants()[e] if e in r.getReactants() else 0\n",
    "        \n",
    "        return self._reactants\n",
    "    \n",
    "    def calculate_nu_2(self):\n",
    "        self._products = np.zeros([self._num_element, self._num_reaction])\n",
    "        for n, r in enumerate(self._r_ls):\n",
    "            for idx, e in enumerate(self._e_ls):\n",
    "                self._products[idx, n] = r.getProducats()[e] if e in r.getProducats() else 0\n",
    "                \n",
    "        return self._products\n",
    "    \n",
    "    def get_progress_rate(self):\n",
    "        self._k = self.rateCoeff()\n",
    "        nu_react = self.calculate_nu_1()\n",
    "        self.progress = self._k # Initialize progress rates with reaction rate coefficients\n",
    "        for jdx, rj in enumerate(self.progress):\n",
    "            if rj < 0:\n",
    "                raise ValueError(\"k = {0:18.16e}:  Negative reaction rate coefficients are prohibited!\".format(rj))\n",
    "            for idx, xi in enumerate(self._concs):\n",
    "                nu_ij = nu_react[idx,jdx]\n",
    "                if xi  < 0.0:\n",
    "                    raise ValueError(\"x{0} = {1:18.16e}:  Negative concentrations are prohibited!\".format(idx, xi))\n",
    "                if nu_ij < 0:\n",
    "                    raise ValueError(\"nu_{0}{1} = {2}:  Negative stoichiometric coefficients are prohibited!\".format(idx, jdx, nu_ij))\n",
    "\n",
    "                self.progress[jdx] *= xi**nu_ij\n",
    "        return self.progress\n",
    "    \n",
    "    def get_reac_rate(self):\n",
    "        self.progress = self.get_progress_rate()\n",
    "        nu_react = self.calculate_nu_1()\n",
    "        nu_prod = self.calculate_nu_2()\n",
    "        nu = nu_prod - nu_react\n",
    "        self.reac_rate = np.dot(nu, self.progress)\n",
    "        return self.reac_rate"
   ]
  },
  {
   "cell_type": "code",
   "execution_count": 9,
   "metadata": {
    "collapsed": true
   },
   "outputs": [],
   "source": [
    "e_ls = ['H', 'O', 'OH', 'H2', 'O2']"
   ]
  },
  {
   "cell_type": "code",
   "execution_count": 10,
   "metadata": {},
   "outputs": [],
   "source": [
    "r_ls = []\n",
    "r_ls.append(Reaction.Reaction(\n",
    "    reactants=dict(H=1,O2=1), products=dict(OH=1,O=1),\n",
    "    coeffLaw='arr', coeffParams=dict(E=-8.314)\n",
    "))\n",
    "\n",
    "r_ls.append(Reaction.Reaction(\n",
    "    reactants=dict(H2=1,O=1), products=dict(OH=1,H=1),\n",
    "    coeffLaw='arr', coeffParams=dict(E=-8.314)\n",
    "))"
   ]
  },
  {
   "cell_type": "code",
   "execution_count": 11,
   "metadata": {
    "collapsed": true
   },
   "outputs": [],
   "source": [
    "d = {}\n",
    "d['T'] = 1\n",
    "d['concs'] = np.array([2, 1, 0.5, 1, 1]).transpose()"
   ]
  },
  {
   "cell_type": "code",
   "execution_count": 12,
   "metadata": {},
   "outputs": [],
   "source": [
    "rs = ReactionSystem(e_ls=e_ls, r_ls=r_ls)"
   ]
  },
  {
   "cell_type": "code",
   "execution_count": 13,
   "metadata": {},
   "outputs": [],
   "source": [
    "rs.set_conditions(**d)"
   ]
  },
  {
   "cell_type": "code",
   "execution_count": 70,
   "metadata": {},
   "outputs": [
    {
     "data": {
      "text/plain": [
       "array([[ 1.,  0.],\n",
       "       [ 0.,  1.],\n",
       "       [ 0.,  0.],\n",
       "       [ 0.,  1.],\n",
       "       [ 1.,  0.]])"
      ]
     },
     "execution_count": 70,
     "metadata": {},
     "output_type": "execute_result"
    }
   ],
   "source": [
    "rs.calculate_nu_1()"
   ]
  },
  {
   "cell_type": "code",
   "execution_count": 71,
   "metadata": {},
   "outputs": [
    {
     "data": {
      "text/plain": [
       "array([[ 0.,  1.],\n",
       "       [ 1.,  0.],\n",
       "       [ 1.,  1.],\n",
       "       [ 0.,  0.],\n",
       "       [ 0.,  0.]])"
      ]
     },
     "execution_count": 71,
     "metadata": {},
     "output_type": "execute_result"
    }
   ],
   "source": [
    "rs.calculate_nu_2()"
   ]
  },
  {
   "cell_type": "code",
   "execution_count": 72,
   "metadata": {},
   "outputs": [
    {
     "data": {
      "text/plain": [
       "array([ 2.71828183,  2.71828183])"
      ]
     },
     "execution_count": 72,
     "metadata": {},
     "output_type": "execute_result"
    }
   ],
   "source": [
    "rs.rateCoeff()"
   ]
  },
  {
   "cell_type": "code",
   "execution_count": 14,
   "metadata": {},
   "outputs": [
    {
     "data": {
      "text/plain": [
       "array([ 5.43656366,  2.71828183])"
      ]
     },
     "execution_count": 14,
     "metadata": {},
     "output_type": "execute_result"
    }
   ],
   "source": [
    "rs.get_progress_rate()"
   ]
  },
  {
   "cell_type": "code",
   "execution_count": 15,
   "metadata": {},
   "outputs": [
    {
     "data": {
      "text/plain": [
       "array([-2.71828183,  2.71828183,  8.15484549, -2.71828183, -5.43656366])"
      ]
     },
     "execution_count": 15,
     "metadata": {},
     "output_type": "execute_result"
    }
   ],
   "source": [
    "rs.get_reac_rate()"
   ]
  },
  {
   "cell_type": "code",
   "execution_count": null,
   "metadata": {
    "collapsed": true
   },
   "outputs": [],
   "source": []
  }
 ],
 "metadata": {
  "kernelspec": {
   "display_name": "Python 3",
   "language": "python",
   "name": "python3"
  },
  "language_info": {
   "codemirror_mode": {
    "name": "ipython",
    "version": 3
   },
   "file_extension": ".py",
   "mimetype": "text/x-python",
   "name": "python",
   "nbconvert_exporter": "python",
   "pygments_lexer": "ipython3",
   "version": "3.6.1"
  }
 },
 "nbformat": 4,
 "nbformat_minor": 2
}
