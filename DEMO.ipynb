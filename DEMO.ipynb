{
 "cells": [
  {
   "cell_type": "code",
   "execution_count": 1,
   "metadata": {
    "scrolled": true
   },
   "outputs": [
    {
     "name": "stdout",
     "output_type": "stream",
     "text": [
      "Welcome to the Reaction Rate calculator. \n",
      "\n",
      "Input a valid xml file: \trxns2.xml\n",
      "input concentrations, separated by commas, in the following order:\n",
      " ['H2', 'O2', 'OH', 'HO2', 'H2O']\t2.0, 1.0, 0.5, 1.0, 1.0\n",
      "{'H2': 2.0, 'O2': 1.0, 'OH': 0.5, 'HO2': 1.0, 'H2O': 1.0}\n",
      "input non-negative temperature in Kelvins: \t750\n",
      "\n",
      "Reaction rate for species ['H2', 'O2', 'OH', 'HO2', 'H2O'] \n",
      "with concentrations       [2.0, 1.0, 0.5, 1.0, 1.0] \n",
      "at temperature            750 \n",
      "is, in order:\n",
      "[-3607077.87280406 -5613545.18362079  9220623.05642485  2006467.31081673\n",
      " -2006467.31081673]\n",
      "\n",
      "Progress rate for reactions with concentrations [2.0, 1.0, 0.5, 1.0, 1.0] at temperature 750 is:\n",
      "[ 3607077.87280406     5000.          2011467.31081673]\n"
     ]
    }
   ],
   "source": [
    "## CS 207 - Group 9\n",
    "## Demo for Project checkpoint 1\n",
    "## Reaction rate calculator\n",
    "\n",
    "from chemkin import *\n",
    "\n",
    "reader = xml2dict()\n",
    "file_path = input('Welcome to the Reaction Rate calculator. \\n\\nInput a valid xml file: \\t')\n",
    "reader.parse(file_path)\n",
    "info = reader.get_info()\n",
    "\n",
    "reactions = [Reaction(**r) for r in info[1]]\n",
    "species=info[0]\n",
    "rs = ReactionSystem(reactions,species_ls=species)\n",
    "\n",
    "str_of_concs = input('input concentrations, separated by commas, in the following order:\\n '+str(species)+'\\t')\n",
    "array_of_concs = [float(i) for i in str_of_concs.split(',')]\n",
    "concs = dict(zip(species,array_of_concs))\n",
    "print(concs)\n",
    "rs.set_concs(concs)\n",
    "\n",
    "temp_string = input('input non-negative temperature in Kelvins: \\t')\n",
    "rs.set_temp(float(temp_string))\n",
    "\n",
    "rs.get_reac_rate()\n",
    "print('\\nReaction rate for species', species,\n",
    "      '\\nwith concentrations      ', array_of_concs, \n",
    "      '\\nat temperature           ', temp_string, '\\nis, in order:')\n",
    "print(rs.get_reac_rate())\n",
    "\n",
    "print('\\nProgress rate for reactions with concentrations', array_of_concs, \n",
    "      'at temperature', temp_string, 'is:')\n",
    "print(rs.get_progress_rate())\n"
   ]
  },
  {
   "cell_type": "raw",
   "metadata": {},
   "source": [
    "[-3607077.87280407 -5613545.1836208   9220623.05642486  2006467.31081673\n",
    " -2006467.31081673]\n",
    "[ -2.81117621e+08  -2.85597559e+08   5.66715180e+08   4.47993847e+06\n",
    "  -4.47993847e+06]\n",
    "[ -1.80426143e+09  -1.81043736e+09   3.61469878e+09   6.17593098e+06\n",
    "  -6.17593098e+06]\n",
    "concs = np.array([2.0, 1.0, 0.5, 1.0, 1.0])\n",
    "Temps = [750.0, 1500.0, 2500.0]"
   ]
  },
  {
   "cell_type": "markdown",
   "metadata": {},
   "source": [
    "## Create a Reaction and visualize it"
   ]
  },
  {
   "cell_type": "code",
   "execution_count": 3,
   "metadata": {},
   "outputs": [
    {
     "name": "stdout",
     "output_type": "stream",
     "text": [
      "========================================\n",
      "Reaction Equation:\n",
      "1H2 + 1O2 => 2OH\n",
      "----------------------------------------\n",
      "Reaction Info:\n",
      "ID: reaction\n",
      "TYPE: Elementary\n",
      "reversible: False\n",
      "coeffLaw: Arrhenius\n",
      "coeffParams: [('A', 1.0), ('E', -4.157), ('R', 8.314)]\n",
      "coeffUnits: []\n",
      "========================================\n"
     ]
    }
   ],
   "source": [
    "from chemkin import *\n",
    "\n",
    "reaction_demo = Reaction(\n",
    "    reactants=dict(H2=1,O2=1), \n",
    "    products=dict(OH=2),\n",
    "    coeffLaw='Arrhenius', \n",
    "    coeffParams=dict(E=-4.157)\n",
    ")\n",
    "print(reaction_demo)"
   ]
  },
  {
   "cell_type": "markdown",
   "metadata": {},
   "source": [
    "## Batch import from a XML file to build a ReactionSystem"
   ]
  },
  {
   "cell_type": "code",
   "execution_count": 4,
   "metadata": {},
   "outputs": [
    {
     "name": "stdout",
     "output_type": "stream",
     "text": [
      "Species involved: \n",
      " ['H2', 'O2', 'OH', 'HO2', 'H2O'] \n",
      "\n",
      "\n",
      "ReactionSystem object with following Reactions: \n",
      "\n",
      "Reaction 0: \n",
      "========================================\n",
      "Reaction Equation:\n",
      "2H2 + 1O2 => 1H2 + 2OH\n",
      "----------------------------------------\n",
      "Reaction Info:\n",
      "ID: reaction01\n",
      "TYPE: Elementary\n",
      "reversible: False\n",
      "coeffLaw: modArrhenius\n",
      "coeffParams: [('A', 100000000.0), ('E', 50000.0), ('R', 8.314), ('b', 0.5)]\n",
      "coeffUnits: []\n",
      "========================================\n",
      "\n",
      "Reaction 1: \n",
      "========================================\n",
      "Reaction Equation:\n",
      "1HO2 + 1OH => 1H2O + 1O2\n",
      "----------------------------------------\n",
      "Reaction Info:\n",
      "ID: reaction02\n",
      "TYPE: Elementary\n",
      "reversible: False\n",
      "coeffLaw: Constant\n",
      "coeffParams: [('k', 10000.0)]\n",
      "coeffUnits: []\n",
      "========================================\n",
      "\n",
      "Reaction 2: \n",
      "========================================\n",
      "Reaction Equation:\n",
      "1H2O + 1O2 => 1HO2 + 1OH\n",
      "----------------------------------------\n",
      "Reaction Info:\n",
      "ID: reaction03\n",
      "TYPE: Elementary\n",
      "reversible: False\n",
      "coeffLaw: Arrhenius\n",
      "coeffParams: [('A', 10000000.0), ('E', 10000.0), ('R', 8.314)]\n",
      "coeffUnits: []\n",
      "========================================\n",
      "\n"
     ]
    }
   ],
   "source": [
    "xml_reader = xml2dict()\n",
    "xml_reader.parse('rxns2.xml')\n",
    "species, reaction_info_list = xml_reader.get_info()\n",
    "\n",
    "reaction_list = [Reaction(**rinfo) for rinfo in reaction_info_list]\n",
    "reaction_system = ReactionSystem(reaction_list, species_ls=species)\n",
    "\n",
    "print('Species involved: \\n', species,'\\n\\n')\n",
    "print(reaction_system)"
   ]
  },
  {
   "cell_type": "markdown",
   "metadata": {},
   "source": [
    "## Set temp/concs at ANY time"
   ]
  },
  {
   "cell_type": "code",
   "execution_count": 5,
   "metadata": {},
   "outputs": [
    {
     "name": "stdout",
     "output_type": "stream",
     "text": [
      "Concentration by species: \n",
      " {'H2': 2.0, 'O2': 1.0, 'OH': 0.5, 'HO2': 1.0, 'H2O': 1.0}\n",
      "\n",
      "Temperature: 750.0 Kelvin\n"
     ]
    }
   ],
   "source": [
    "# species order: \n",
    "# ['H2', 'O2', 'OH', 'HO2', 'H2O'] \n",
    "\n",
    "concs = [2.0, 1.0, 0.5, 1.0, 1.0]\n",
    "Temps = [750.0, 1500.0, 2500.0]\n",
    "\n",
    "reaction_system.set_concs(dict(zip(species, concs)))\n",
    "reaction_system.set_temp(Temps[0])\n",
    "\n",
    "print('Concentration by species: \\n', reaction_system.get_concs())\n",
    "print('\\nTemperature:', reaction_system.get_temp(), 'Kelvin')"
   ]
  },
  {
   "cell_type": "markdown",
   "metadata": {},
   "source": [
    "## Caculate the reaction rate:  Accuracy, Efficiency, Elegancy"
   ]
  },
  {
   "cell_type": "code",
   "execution_count": 6,
   "metadata": {},
   "outputs": [
    {
     "name": "stdout",
     "output_type": "stream",
     "text": [
      "Reaction rate for species ['H2', 'O2', 'OH', 'HO2', 'H2O'] is, in order:\n",
      "['-3.6071e+06', '-5.6135e+06', '9.2206e+06', '2.0065e+06', '-2.0065e+06']\n",
      "\n",
      "Progress rate for involved reactions is, in order:\n",
      "['3.6071e+06', '5.0000e+03', '2.0115e+06']\n"
     ]
    }
   ],
   "source": [
    "reaction_rates = reaction_system.get_reac_rate()\n",
    "print('Reaction rate for species', species, 'is, in order:')\n",
    "print(['{:8.4e}'.format(rate) for rate in reaction_rates])\n",
    "\n",
    "progress_rates = reaction_system.get_progress_rate()\n",
    "print('\\nProgress rate for involved reactions is, in order:')\n",
    "print(['{:8.4e}'.format(rate) for rate in progress_rates])"
   ]
  },
  {
   "cell_type": "markdown",
   "metadata": {},
   "source": [
    "## Infrastructure: the LAW for reaction rate coeffs"
   ]
  },
  {
   "cell_type": "code",
   "execution_count": 7,
   "metadata": {},
   "outputs": [
    {
     "data": {
      "text/plain": [
       "{'ID': 'reaction',\n",
       " 'TYPE': 'Elementary',\n",
       " 'coeffLaw': 'Arrhenius',\n",
       " 'coeffParams': {'A': 1.0, 'E': -4.157, 'R': 8.314},\n",
       " 'coeffUnits': {},\n",
       " 'products': {'OH': 2},\n",
       " 'reactants': {'H2': 1, 'O2': 1},\n",
       " 'reversible': False}"
      ]
     },
     "execution_count": 7,
     "metadata": {},
     "output_type": "execute_result"
    }
   ],
   "source": [
    "eval(repr(reaction_demo))"
   ]
  },
  {
   "cell_type": "code",
   "execution_count": 8,
   "metadata": {
    "scrolled": true
   },
   "outputs": [
    {
     "name": "stdout",
     "output_type": "stream",
     "text": [
      "2.718281828459045\n"
     ]
    }
   ],
   "source": [
    "print(reaction_demo.rateCoeff(check=True, T=0.5))"
   ]
  },
  {
   "cell_type": "code",
   "execution_count": 9,
   "metadata": {
    "scrolled": true
   },
   "outputs": [
    {
     "ename": "NotImplementedError",
     "evalue": "coeffLaw = NewLaw. Referred reaction rate coefficient law is not implemented.",
     "output_type": "error",
     "traceback": [
      "\u001b[0;31m---------------------------------------------------------------------------\u001b[0m",
      "\u001b[0;31mNotImplementedError\u001b[0m                       Traceback (most recent call last)",
      "\u001b[0;32m<ipython-input-9-a10bcdb2d1a1>\u001b[0m in \u001b[0;36m<module>\u001b[0;34m()\u001b[0m\n\u001b[1;32m      1\u001b[0m reaction_demo.set_params(\n\u001b[1;32m      2\u001b[0m     \u001b[0mcoeffLaw\u001b[0m\u001b[0;34m=\u001b[0m\u001b[0;34m'NewLaw'\u001b[0m\u001b[0;34m,\u001b[0m\u001b[0;34m\u001b[0m\u001b[0m\n\u001b[0;32m----> 3\u001b[0;31m     \u001b[0mcoeffParams\u001b[0m\u001b[0;34m=\u001b[0m\u001b[0mdict\u001b[0m\u001b[0;34m(\u001b[0m\u001b[0mE\u001b[0m\u001b[0;34m=\u001b[0m\u001b[0;34m-\u001b[0m\u001b[0;36m4.157\u001b[0m\u001b[0;34m,\u001b[0m \u001b[0mR\u001b[0m\u001b[0;34m=\u001b[0m\u001b[0;36m8.314\u001b[0m\u001b[0;34m)\u001b[0m\u001b[0;34m\u001b[0m\u001b[0m\n\u001b[0m\u001b[1;32m      4\u001b[0m )\n\u001b[1;32m      5\u001b[0m \u001b[0mreaction_demo\u001b[0m\u001b[0;34m.\u001b[0m\u001b[0mrateCoeff\u001b[0m\u001b[0;34m(\u001b[0m\u001b[0mcheck\u001b[0m\u001b[0;34m=\u001b[0m\u001b[0;32mTrue\u001b[0m\u001b[0;34m,\u001b[0m \u001b[0mT\u001b[0m\u001b[0;34m=\u001b[0m\u001b[0;34m-\u001b[0m\u001b[0;36m2.0\u001b[0m\u001b[0;34m)\u001b[0m\u001b[0;34m\u001b[0m\u001b[0m\n",
      "\u001b[0;32m/Users/shell/Documents/GitHub/cs207-FinalProject/chemkin.py\u001b[0m in \u001b[0;36mset_params\u001b[0;34m(self, **kwargs)\u001b[0m\n\u001b[1;32m    909\u001b[0m         \u001b[0mnew_params\u001b[0m \u001b[0;34m=\u001b[0m \u001b[0mdeepcopy\u001b[0m\u001b[0;34m(\u001b[0m\u001b[0mold_params\u001b[0m\u001b[0;34m)\u001b[0m\u001b[0;34m\u001b[0m\u001b[0m\n\u001b[1;32m    910\u001b[0m         \u001b[0mnew_params\u001b[0m\u001b[0;34m.\u001b[0m\u001b[0mupdate\u001b[0m\u001b[0;34m(\u001b[0m\u001b[0;34m**\u001b[0m\u001b[0mkwargs_eliminated\u001b[0m\u001b[0;34m)\u001b[0m\u001b[0;34m\u001b[0m\u001b[0m\n\u001b[0;32m--> 911\u001b[0;31m         \u001b[0mself\u001b[0m\u001b[0;34m.\u001b[0m\u001b[0m_params\u001b[0m \u001b[0;34m=\u001b[0m \u001b[0mdeepcopy\u001b[0m\u001b[0;34m(\u001b[0m\u001b[0mself\u001b[0m\u001b[0;34m.\u001b[0m\u001b[0m_check_params\u001b[0m\u001b[0;34m(\u001b[0m\u001b[0mnew_params\u001b[0m\u001b[0;34m)\u001b[0m\u001b[0;34m)\u001b[0m\u001b[0;34m\u001b[0m\u001b[0m\n\u001b[0m\u001b[1;32m    912\u001b[0m         \u001b[0mself\u001b[0m\u001b[0;34m.\u001b[0m\u001b[0mrateCoeff\u001b[0m\u001b[0;34m,\u001b[0m \u001b[0mself\u001b[0m\u001b[0;34m.\u001b[0m\u001b[0m_params\u001b[0m\u001b[0;34m[\u001b[0m\u001b[0;34m'coeffParams'\u001b[0m\u001b[0;34m]\u001b[0m \u001b[0;34m=\u001b[0m\u001b[0;31m \u001b[0m\u001b[0;31m\\\u001b[0m\u001b[0;34m\u001b[0m\u001b[0m\n\u001b[1;32m    913\u001b[0m             \u001b[0mself\u001b[0m\u001b[0;34m.\u001b[0m\u001b[0m_specify_CoeffLaw\u001b[0m\u001b[0;34m(\u001b[0m\u001b[0mnew_params\u001b[0m\u001b[0;34m[\u001b[0m\u001b[0;34m'coeffLaw'\u001b[0m\u001b[0;34m]\u001b[0m\u001b[0;34m,\u001b[0m \u001b[0mnew_params\u001b[0m\u001b[0;34m[\u001b[0m\u001b[0;34m'coeffParams'\u001b[0m\u001b[0;34m]\u001b[0m\u001b[0;34m)\u001b[0m\u001b[0;34m\u001b[0m\u001b[0m\n",
      "\u001b[0;32m/Users/shell/Documents/GitHub/cs207-FinalProject/chemkin.py\u001b[0m in \u001b[0;36m_check_params\u001b[0;34m(params)\u001b[0m\n\u001b[1;32m    938\u001b[0m                 raise NotImplementedError(' '.join([\n\u001b[1;32m    939\u001b[0m                     \u001b[0;34m'coeffLaw = {}.'\u001b[0m\u001b[0;34m.\u001b[0m\u001b[0mformat\u001b[0m\u001b[0;34m(\u001b[0m\u001b[0mparams\u001b[0m\u001b[0;34m[\u001b[0m\u001b[0;34m'coeffLaw'\u001b[0m\u001b[0;34m]\u001b[0m\u001b[0;34m)\u001b[0m\u001b[0;34m,\u001b[0m\u001b[0;34m\u001b[0m\u001b[0m\n\u001b[0;32m--> 940\u001b[0;31m                     'Referred reaction rate coefficient law is not implemented.']))\n\u001b[0m\u001b[1;32m    941\u001b[0m             \u001b[0;32melif\u001b[0m \u001b[0;34m'coeffParams'\u001b[0m \u001b[0;32min\u001b[0m \u001b[0mparams\u001b[0m\u001b[0;34m:\u001b[0m\u001b[0;34m\u001b[0m\u001b[0m\n\u001b[1;32m    942\u001b[0m                 \u001b[0mlaw_model\u001b[0m \u001b[0;34m=\u001b[0m \u001b[0mReaction\u001b[0m\u001b[0;34m.\u001b[0m\u001b[0m_CoeffLawDict\u001b[0m\u001b[0;34m.\u001b[0m\u001b[0m_dict_all\u001b[0m\u001b[0;34m[\u001b[0m\u001b[0mparams\u001b[0m\u001b[0;34m[\u001b[0m\u001b[0;34m'coeffLaw'\u001b[0m\u001b[0;34m]\u001b[0m\u001b[0;34m]\u001b[0m\u001b[0;34m\u001b[0m\u001b[0m\n",
      "\u001b[0;31mNotImplementedError\u001b[0m: coeffLaw = NewLaw. Referred reaction rate coefficient law is not implemented."
     ]
    }
   ],
   "source": [
    "reaction_demo.set_params(\n",
    "    coeffLaw='NewLaw', \n",
    "    coeffParams=dict(E=-4.157e10, R=8.314)\n",
    ")\n",
    "reaction_demo.rateCoeff(check=True, T=-2.0)"
   ]
  },
  {
   "cell_type": "code",
   "execution_count": 10,
   "metadata": {},
   "outputs": [
    {
     "data": {
      "text/plain": [
       "{'Arrhenius': chemkin.Arrhenius,\n",
       " 'Constant': chemkin.Constant,\n",
       " 'modArrhenius': chemkin.modArrhenius}"
      ]
     },
     "execution_count": 10,
     "metadata": {},
     "output_type": "execute_result"
    }
   ],
   "source": [
    "Reaction._CoeffLawDict.getcopy_all()"
   ]
  },
  {
   "cell_type": "markdown",
   "metadata": {},
   "source": [
    "## Extensibility?"
   ]
  },
  {
   "cell_type": "code",
   "execution_count": 12,
   "metadata": {},
   "outputs": [
    {
     "data": {
      "text/plain": [
       "{'Arrhenius': chemkin.Arrhenius,\n",
       " 'Constant': chemkin.Constant,\n",
       " 'NewLaw': __main__.NewLaw,\n",
       " 'modArrhenius': chemkin.modArrhenius}"
      ]
     },
     "execution_count": 12,
     "metadata": {},
     "output_type": "execute_result"
    }
   ],
   "source": [
    "class NewLaw(MathModel):\n",
    "    \n",
    "    @staticmethod\n",
    "    def _kernel(T, E, R):\n",
    "        return -E / (T * R)\n",
    "    \n",
    "#     @staticmethod\n",
    "#     def check_coeffparams(R, **other_params):\n",
    "#         if R <= 0.0:\n",
    "#             raise ValueError(\n",
    "#                 'R = {:18.16e}: non-positive R is invalid.'.format(R))\n",
    "#     def check_stateparams(self, T, **other_params):\n",
    "#         if T <= 0.0:\n",
    "#             raise ValueError(\n",
    "#                 'T = {:18.16e}: non-positive T is invalid.'.format(T))\n",
    "\n",
    "Reaction._CoeffLawDict.update('NewLaw', NewLaw)\n",
    "Reaction._CoeffLawDict.getcopy_all()"
   ]
  },
  {
   "cell_type": "code",
   "execution_count": 13,
   "metadata": {},
   "outputs": [
    {
     "data": {
      "text/plain": [
       "2500000000.0"
      ]
     },
     "execution_count": 13,
     "metadata": {},
     "output_type": "execute_result"
    }
   ],
   "source": [
    "reaction_demo.set_params(\n",
    "    coeffLaw='NewLaw', \n",
    "    coeffParams=dict(E=-4.157e10, R=8.314)\n",
    ")\n",
    "reaction_demo.rateCoeff(check=True, T=2.0)"
   ]
  },
  {
   "cell_type": "code",
   "execution_count": 14,
   "metadata": {},
   "outputs": [
    {
     "name": "stdout",
     "output_type": "stream",
     "text": [
      "Reaction rate for species ['H2', 'O2', 'OH', 'HO2', 'H2O'] is, in order:\n",
      "['-1.6940e+07', '-1.8947e+07', '3.5887e+07', '2.0065e+06', '-2.0065e+06']\n"
     ]
    }
   ],
   "source": [
    "new_reaction_system = ReactionSystem(reaction_list+[reaction_demo], species)\n",
    "new_reaction_system.set_concs(dict(zip(species, concs)))\n",
    "new_reaction_system.set_temp(Temps[0])\n",
    "\n",
    "new_reaction_rates = new_reaction_system.get_reac_rate()\n",
    "print('Reaction rate for species', species, 'is, in order:')\n",
    "print(['{:8.4e}'.format(rate) for rate in new_reaction_rates])"
   ]
  },
  {
   "cell_type": "code",
   "execution_count": null,
   "metadata": {
    "collapsed": true
   },
   "outputs": [],
   "source": []
  }
 ],
 "metadata": {
  "kernelspec": {
   "display_name": "Python 3",
   "language": "python",
   "name": "python3"
  },
  "language_info": {
   "codemirror_mode": {
    "name": "ipython",
    "version": 3
   },
   "file_extension": ".py",
   "mimetype": "text/x-python",
   "name": "python",
   "nbconvert_exporter": "python",
   "pygments_lexer": "ipython3",
   "version": "3.6.1"
  }
 },
 "nbformat": 4,
 "nbformat_minor": 2
}
