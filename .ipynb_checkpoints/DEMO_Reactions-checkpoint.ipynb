{
 "cells": [
  {
   "cell_type": "code",
   "execution_count": 1,
   "metadata": {
    "collapsed": true
   },
   "outputs": [],
   "source": [
    "# from enum import Enum\n",
    "from copy import deepcopy\n",
    "import numpy as np\n",
    "\n",
    "\n",
    "class Reaction:\n",
    "    \n",
    "    \n",
    "    class _CoeffLaws:\n",
    "        \n",
    "        class _BuiltIn:\n",
    "            def const(**kwargs):\n",
    "                k = kwargs['k'] if 'k' in kwargs else 1.0\n",
    "                if k <= 0.0:\n",
    "                    raise ValueError('k = {0:18.16e}:  Non-positive reaction rate coefficient is prohibited.'.format(k))\n",
    "                return k\n",
    "            def arr(**kwargs):\n",
    "                T = kwargs['T']\n",
    "                R = kwargs['R'] if 'R' in kwargs else 8.314\n",
    "                A = kwargs['A'] if 'A' in kwargs else 1.0\n",
    "                E = kwargs['E'] if 'E' in kwargs else 0.0\n",
    "                if T <= 0.0:\n",
    "                    raise ValueError(\"T = {0:18.16e}:  Non-positive Arrhenius prefactor is prohibited.\".format(T))\n",
    "                if A <= 0.0:\n",
    "                    raise ValueError(\"A = {0:18.16e}:  Non-positive temperature is prohibited.\".format(A))\n",
    "                if R <= 0.0:\n",
    "                    raise ValueError(\"R = {0:18.16e}:  Non-positive ideal gas constant is prohibited.\".format(R))\n",
    "                return A * np.exp(-E / (R * T))\n",
    "            def modarr(**kwargs):\n",
    "                T = kwargs['T']\n",
    "                R = kwargs['R'] if 'R' in kwargs else 8.314\n",
    "                A = kwargs['A'] if 'A' in kwargs else 1.0\n",
    "                b = kwargs['b'] if 'b' in kwargs else 0.0\n",
    "                E = kwargs['E'] if 'E' in kwargs else 0.0\n",
    "                if T <= 0.0:\n",
    "                    raise ValueError(\"T = {0:18.16e}:  Non-positive Arrhenius prefactor is prohibited.\".format(T))\n",
    "                if A <= 0.0:\n",
    "                    raise ValueError(\"A = {0:18.16e}:  Non-positive temperature is prohibited.\".format(A))\n",
    "                if R <= 0.0:\n",
    "                    raise ValueError(\"R = {0:18.16e}:  Non-positive ideal gas constant is prohibited.\".format(R))\n",
    "                return A * (T ** b) * np.exp(-E / (R * T))\n",
    "            \n",
    "        _dict_builtin = {\n",
    "            'const' :_BuiltIn.const, \n",
    "            'arr'   :_BuiltIn.arr, \n",
    "            'modarr':_BuiltIn.modarr\n",
    "        }\n",
    "        _dict_full = deepcopy(_dict_builtin)\n",
    "        \n",
    "        @classmethod\n",
    "        def get(cls, name):\n",
    "            return cls._dict_full[name]\n",
    "        @classmethod\n",
    "        def update(cls, name, law):\n",
    "            if name in cls._dict_builtin:\n",
    "                raise ValueError('LawName = {}. Changing a built-in law is prohibited.'.format(name))\n",
    "            cls._dict_full[name] = law\n",
    "        @classmethod\n",
    "        def remove(cls, name):\n",
    "            if name in cls._dict_builtin:\n",
    "                raise ValueError('LawName = {}. Removing a built-in law is prohibited.'.format(name))\n",
    "            del cls._dict_full[name]\n",
    "        @classmethod\n",
    "        def reset(cls):\n",
    "            cls._dict_full = deepcopy(cls._dict_builtin)\n",
    "            \n",
    "    \n",
    "    \n",
    "    def __init__(self, **kwargs):\n",
    "        self._id          = kwargs['id']          if 'id'          in kwargs else ''\n",
    "        self._reversible  = kwargs['reversible']  if 'reversible'  in kwargs else False\n",
    "        self._type        = kwargs['type']        if 'type'        in kwargs else 'elementary'\n",
    "        self._coeffLaw    = kwargs['coeffLaw']    if 'coeffLaw'    in kwargs else 'const'\n",
    "        self._coeffParams = kwargs['coeffParams'] if 'coeffParams' in kwargs else {}\n",
    "        self._reactants   = kwargs['reactants']   if 'reactants'   in kwargs else {}\n",
    "        self._products    = kwargs['products']    if 'products'    in kwargs else {}\n",
    "        if self._reversible == True:\n",
    "            raise NotImplementedError('Reversible reaction is not implemented.')\n",
    "        if self._type != 'elementary':\n",
    "            raise NotImplementedError('Type = {}. Non-elementary reaction is not implemented.'.format(self._type))\n",
    "        if not self._coeffLaw in self._CoeffLaws._dict_full:\n",
    "            raise NotImplementedError('Law = {}. Refered reaction rate coefficient law is not implemented.'.format(self._coeffLaw))\n",
    "    \n",
    "    def rateCoeff(self, **otherParams):\n",
    "        return self._CoeffLaws._dict_full[self._coeffLaw](**self._coeffParams, **otherParams)\n",
    "    \n",
    "    def getReactants(self):\n",
    "        return self._reactants\n",
    "    \n",
    "    def getProducts(self):\n",
    "        return self._products"
   ]
  },
  {
   "cell_type": "code",
   "execution_count": 2,
   "metadata": {
    "collapsed": true
   },
   "outputs": [],
   "source": [
    "r = Reaction(\n",
    "    reactants=dict(H=1,O2=1), products=dict(OH=1,H=1),\n",
    "    coeffLaw='arr', coeffParams=dict(E=-8.314)\n",
    ")"
   ]
  },
  {
   "cell_type": "code",
   "execution_count": 3,
   "metadata": {},
   "outputs": [
    {
     "data": {
      "text/plain": [
       "2.7182818284590451"
      ]
     },
     "execution_count": 3,
     "metadata": {},
     "output_type": "execute_result"
    }
   ],
   "source": [
    "r.rateCoeff(T=1.0)"
   ]
  },
  {
   "cell_type": "code",
   "execution_count": 4,
   "metadata": {},
   "outputs": [
    {
     "data": {
      "text/plain": [
       "{'H': 1, 'O2': 1}"
      ]
     },
     "execution_count": 4,
     "metadata": {},
     "output_type": "execute_result"
    }
   ],
   "source": [
    "r.getReactants()"
   ]
  },
  {
   "cell_type": "code",
   "execution_count": 5,
   "metadata": {},
   "outputs": [
    {
     "name": "stdout",
     "output_type": "stream",
     "text": [
      "Law = _. Refered reaction rate coefficient law is not implemented.\n"
     ]
    }
   ],
   "source": [
    "# novel coeffLaw input would raise NotImplementedError\n",
    "\n",
    "try:\n",
    "    Reaction._CoeffLaws.reset()\n",
    "    _r = Reaction(coeffLaw='_', coeffParams=dict(A=0.1))\n",
    "except NotImplementedError as err:\n",
    "    print(err)"
   ]
  },
  {
   "cell_type": "code",
   "execution_count": 6,
   "metadata": {},
   "outputs": [
    {
     "data": {
      "text/plain": [
       "array([ 0.628,  0.942])"
      ]
     },
     "execution_count": 6,
     "metadata": {},
     "output_type": "execute_result"
    }
   ],
   "source": [
    "# user can define his own coeffLaw and use _CoeffLaws.update to register it in the Reaction class\n",
    "# this won't raise NotImplementedError\n",
    "# also user may input temperature as numpy.array\n",
    "\n",
    "def _law(**kwargs):\n",
    "    return 3.14 * kwargs['A'] * kwargs['T']\n",
    "\n",
    "Reaction._CoeffLaws.update('_', _law)\n",
    "_r = Reaction(coeffLaw='_', coeffParams=dict(A=0.1))\n",
    "_r.rateCoeff(T=np.array([2,3]))"
   ]
  }
 ],
 "metadata": {
  "kernelspec": {
   "display_name": "Python 3",
   "language": "python",
   "name": "python3"
  },
  "language_info": {
   "codemirror_mode": {
    "name": "ipython",
    "version": 3
   },
   "file_extension": ".py",
   "mimetype": "text/x-python",
   "name": "python",
   "nbconvert_exporter": "python",
   "pygments_lexer": "ipython3",
   "version": "3.6.1"
  }
 },
 "nbformat": 4,
 "nbformat_minor": 2
}
