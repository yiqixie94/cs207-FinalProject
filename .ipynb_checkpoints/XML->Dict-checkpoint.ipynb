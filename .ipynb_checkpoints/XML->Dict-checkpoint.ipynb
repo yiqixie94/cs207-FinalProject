{
 "cells": [
  {
   "cell_type": "code",
   "execution_count": 67,
   "metadata": {
    "collapsed": true
   },
   "outputs": [],
   "source": [
    "def xml2dict(file):\n",
    "    import xml.etree.ElementTree as ET\n",
    "    tree = ET.parse(file)\n",
    "    root = tree.getroot()\n",
    "\n",
    "    SpeciesArray=root.find('phase').find('speciesArray')\n",
    "    Species = SpeciesArray.text.strip().split(\" \")\n",
    "    \n",
    "    ListDictionaries = []\n",
    "    \n",
    "    for reaction in root.find('reactionData').findall('reaction'):\n",
    "        Dict = {}\n",
    "        reactants = []\n",
    "        products = []\n",
    "        Nup = []\n",
    "        Nupp = []\n",
    "        ListReactants = reaction.find('reactants').text.split()\n",
    "        for elementsR in ListReactants:\n",
    "            specie, nu = elementsR.split(':')\n",
    "            reactants.append(specie)\n",
    "            Nup.append(int(nu))\n",
    "        ListProducts = reaction.find('products').text.split()\n",
    "        for elementsP in ListProducts:\n",
    "            specie, nu = elementsP.split(':')\n",
    "            products.append(specie)\n",
    "            Nupp.append(int(nu))\n",
    "        for name in reaction.find('rateCoeff'):\n",
    "            Law = name.tag\n",
    "            ListCoeffTag = []\n",
    "            ListCoeffValue = []\n",
    "            for coeff in name:\n",
    "                ListCoeffTag.append(coeff.tag)\n",
    "                ListCoeffValue.append(coeff.text)\n",
    "        Dict['id'] = reaction.attrib['id']\n",
    "        Dict['reversible'] = reaction.attrib['reversible']\n",
    "        Dict['type'] = reaction.attrib['type']\n",
    "        Dict['nup'] = Nup\n",
    "        Dict['reactants'] = reactants\n",
    "        Dict['products'] = products\n",
    "        Dict['nupp'] = Nupp\n",
    "        Dict['Law'] = Law\n",
    "        ListDictionaries.append(Dict)\n",
    "        \n",
    "    return Species, ListDictionaries\n",
    "\n"
   ]
  },
  {
   "cell_type": "code",
   "execution_count": 68,
   "metadata": {},
   "outputs": [
    {
     "data": {
      "text/plain": [
       "(['H', 'O', 'OH', 'H2', 'O2'],\n",
       " [{'Law': 'Arrhenius',\n",
       "   'id': 'reaction01',\n",
       "   'nup': [1, 1],\n",
       "   'nupp': [1, 1],\n",
       "   'products': ['OH', 'O'],\n",
       "   'reactants': ['H', 'O2'],\n",
       "   'reversible': 'yes',\n",
       "   'type': 'Elementary'},\n",
       "  {'Law': 'Arrhenius',\n",
       "   'id': 'reaction02',\n",
       "   'nup': [1, 1],\n",
       "   'nupp': [1, 1],\n",
       "   'products': ['OH', 'H'],\n",
       "   'reactants': ['H2', 'O'],\n",
       "   'reversible': 'yes',\n",
       "   'type': 'Elementary'}])"
      ]
     },
     "execution_count": 68,
     "metadata": {},
     "output_type": "execute_result"
    }
   ],
   "source": [
    "xml2dict('rxns.xml')"
   ]
  },
  {
   "cell_type": "code",
   "execution_count": null,
   "metadata": {
    "collapsed": true
   },
   "outputs": [],
   "source": []
  }
 ],
 "metadata": {
  "kernelspec": {
   "display_name": "Python 3",
   "language": "python",
   "name": "python3"
  },
  "language_info": {
   "codemirror_mode": {
    "name": "ipython",
    "version": 3
   },
   "file_extension": ".py",
   "mimetype": "text/x-python",
   "name": "python",
   "nbconvert_exporter": "python",
   "pygments_lexer": "ipython3",
   "version": "3.6.1"
  }
 },
 "nbformat": 4,
 "nbformat_minor": 2
}
