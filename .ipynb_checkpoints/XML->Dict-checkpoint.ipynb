{
 "cells": [
  {
   "cell_type": "code",
   "execution_count": 53,
   "metadata": {
    "collapsed": true
   },
   "outputs": [],
   "source": [
    "def xml2dict(file):\n",
    "    import xml.etree.ElementTree as ET\n",
    "    tree = ET.parse(file)\n",
    "    root = tree.getroot()\n",
    "\n",
    "    SpeciesArray=root.find('phase').find('speciesArray')\n",
    "    Species = SpeciesArray.text.strip().split(\" \")\n",
    "    \n",
    "    ReactionAttribute = []\n",
    "    ListReaction = []\n",
    "    ListProducts = []\n",
    "    ListCoeffLaw = []\n",
    "    \n",
    "    for reaction in root.find('reactionData').findall('reaction'):\n",
    "        ReactionAttribute.append(reaction.attrib)\n",
    "        ListReaction.append(reaction.find('reactants').text)\n",
    "        ListProducts.append(reaction.find('products').text)\n",
    "        for name in reaction.find('rateCoeff'):\n",
    "            Law = name.tag\n",
    "            ListCoeffTag = []\n",
    "            ListCoeffValue = []\n",
    "            for coeff in name:\n",
    "                ListCoeffTag.append(coeff.tag)\n",
    "                ListCoeffValue.append(coeff.text)\n",
    "        ListCoeffLaw.append(Law)\n",
    "        \n",
    "    return Species, ReactionAttribute, ListReaction, ListProducts, ListCoeffLaw\n",
    "\n"
   ]
  },
  {
   "cell_type": "code",
   "execution_count": 54,
   "metadata": {},
   "outputs": [
    {
     "data": {
      "text/plain": [
       "(['H', 'O', 'OH', 'H2', 'O2'],\n",
       " [{'id': 'reaction01', 'reversible': 'yes', 'type': 'Elementary'},\n",
       "  {'id': 'reaction02', 'reversible': 'yes', 'type': 'Elementary'}],\n",
       " ['H:1 O2:1', 'H2:1 O:1'],\n",
       " ['OH:1 O:1', 'OH:1 H:1'],\n",
       " ['Arrhenius', 'Arrhenius'])"
      ]
     },
     "execution_count": 54,
     "metadata": {},
     "output_type": "execute_result"
    }
   ],
   "source": [
    "xml2dict('rxns.xml')"
   ]
  },
  {
   "cell_type": "code",
   "execution_count": 40,
   "metadata": {},
   "outputs": [
    {
     "name": "stdout",
     "output_type": "stream",
     "text": [
      "['OH:1', 'O:1']\n",
      "OH:1\n",
      "O:1\n",
      "['OH:1', 'H:1']\n",
      "OH:1\n",
      "H:1\n"
     ]
    }
   ],
   "source": [
    "import xml.etree.ElementTree as ET\n",
    "tree = ET.parse('rxns.xml')\n",
    "root = tree.getroot()\n",
    "\n",
    "SpeciesArray=root.find('phase').find('speciesArray')\n",
    "Species = SpeciesArray.text.strip().split(\" \")\n",
    "    \n",
    "ListDictionaries = []\n",
    "\n",
    "for reaction in root.find('reactionData').findall('reaction'):\n",
    "    Dict = {}\n",
    "    reactants = []\n",
    "    products = []\n",
    "    Nup = []\n",
    "    Nupp = []\n",
    "    ListReactants = reaction.find('reactants').text.split()\n",
    "    for elementsR in ListReactants:\n",
    "        specie, nu = elementsR.split(':')\n",
    "        reactants.append(specie)\n",
    "        Nup.append(int(nu))\n",
    "    ListProducts = reaction.find('products').text.split()\n",
    "    print(ListProducts)\n",
    "    for elementsP in ListProducts:\n",
    "        print(elementsP)\n",
    "        specie, nu = elementsP.split(':')\n",
    "        products.append(specie)\n",
    "        Nupp.append(int(nu))\n",
    "    for name in reaction.find('rateCoeff'):\n",
    "        Law = name.tag\n",
    "        ListCoeffTag = []\n",
    "        ListCoeffValue = []\n",
    "        for coeff in name:\n",
    "            ListCoeffTag.append(coeff.tag)\n",
    "            ListCoeffValue.append(coeff.text)\n",
    "    Dict['reversible'] = reaction.attrib['reversible']\n",
    "    Dict['type'] = reaction.attrib['type']\n",
    "    Dict['law'] = Law\n",
    "    Dict['reactants'] = reactants\n",
    "    Dict['nup'] = Nup\n",
    "    Dict['products'] = products\n",
    "    Dict['nupp'] = Nupp\n",
    "    ListDictionaries.append(Dict)\n",
    "    \n"
   ]
  },
  {
   "cell_type": "code",
   "execution_count": 41,
   "metadata": {},
   "outputs": [
    {
     "data": {
      "text/plain": [
       "[{'law': 'Arrhenius',\n",
       "  'nup': [1, 1],\n",
       "  'nupp': [1, 1],\n",
       "  'products': ['OH', 'O'],\n",
       "  'reactants': ['H', 'O2'],\n",
       "  'reversible': 'yes',\n",
       "  'type': 'Elementary'},\n",
       " {'law': 'Arrhenius',\n",
       "  'nup': [1, 1],\n",
       "  'nupp': [1, 1],\n",
       "  'products': ['OH', 'H'],\n",
       "  'reactants': ['H2', 'O'],\n",
       "  'reversible': 'yes',\n",
       "  'type': 'Elementary'}]"
      ]
     },
     "execution_count": 41,
     "metadata": {},
     "output_type": "execute_result"
    }
   ],
   "source": [
    "ListDictionaries"
   ]
  },
  {
   "cell_type": "code",
   "execution_count": 2,
   "metadata": {},
   "outputs": [
    {
     "name": "stdout",
     "output_type": "stream",
     "text": [
      "H:1 O2:1\n",
      "['H:1', 'O2:1']\n",
      "H2:1 O:1\n",
      "['H2:1', 'O:1']\n"
     ]
    }
   ],
   "source": [
    "for reaction in root.find('reactionData').findall('reaction'):\n",
    "    Dict = {}\n",
    "    reactants = []\n",
    "    products = []\n",
    "    Nup = []\n",
    "    Nupp = []\n",
    "    ReactionAttribute.append(reaction.attrib)\n",
    "    #ListReaction.append(reaction.find('reactants').text)\n",
    "    print(reaction.find('reactants').text)\n",
    "    print(reaction.find('reactants').text.split())\n",
    "    reactants = reaction.find('reactants').text.split()"
   ]
  },
  {
   "cell_type": "code",
   "execution_count": 5,
   "metadata": {},
   "outputs": [
    {
     "data": {
      "text/plain": [
       "['H2:1']"
      ]
     },
     "execution_count": 5,
     "metadata": {},
     "output_type": "execute_result"
    }
   ],
   "source": [
    "reactants[0].split()"
   ]
  },
  {
   "cell_type": "code",
   "execution_count": 6,
   "metadata": {},
   "outputs": [
    {
     "data": {
      "text/plain": [
       "['Arrhenius', 'Arrhenius']"
      ]
     },
     "execution_count": 6,
     "metadata": {},
     "output_type": "execute_result"
    }
   ],
   "source": [
    "ListCoeffLaw"
   ]
  },
  {
   "cell_type": "code",
   "execution_count": 13,
   "metadata": {},
   "outputs": [
    {
     "data": {
      "text/plain": [
       "['OH:1', 'H:1']"
      ]
     },
     "execution_count": 13,
     "metadata": {},
     "output_type": "execute_result"
    }
   ],
   "source": [
    "ListProducts[1].split()"
   ]
  },
  {
   "cell_type": "code",
   "execution_count": 19,
   "metadata": {
    "collapsed": true,
    "scrolled": true
   },
   "outputs": [],
   "source": [
    "for elements in ListProducts[0].split():\n",
    "    specie, nu = elements.split(':')\n",
    "    nu = int(nu)"
   ]
  },
  {
   "cell_type": "code",
   "execution_count": 27,
   "metadata": {
    "collapsed": true
   },
   "outputs": [],
   "source": [
    "s,n = ListProducts[0].split()[0].split(':')"
   ]
  },
  {
   "cell_type": "code",
   "execution_count": 28,
   "metadata": {},
   "outputs": [
    {
     "data": {
      "text/plain": [
       "'OH'"
      ]
     },
     "execution_count": 28,
     "metadata": {},
     "output_type": "execute_result"
    }
   ],
   "source": [
    "s"
   ]
  },
  {
   "cell_type": "code",
   "execution_count": 9,
   "metadata": {},
   "outputs": [
    {
     "data": {
      "text/plain": [
       "[{'id': 'reaction01', 'reversible': 'yes', 'type': 'Elementary'},\n",
       " {'id': 'reaction02', 'reversible': 'yes', 'type': 'Elementary'}]"
      ]
     },
     "execution_count": 9,
     "metadata": {},
     "output_type": "execute_result"
    }
   ],
   "source": [
    "ReactionAttribute"
   ]
  },
  {
   "cell_type": "code",
   "execution_count": 12,
   "metadata": {},
   "outputs": [
    {
     "data": {
      "text/plain": [
       "'yes'"
      ]
     },
     "execution_count": 12,
     "metadata": {},
     "output_type": "execute_result"
    }
   ],
   "source": [
    "ReactionAttribute[0]['reversible']"
   ]
  },
  {
   "cell_type": "code",
   "execution_count": 13,
   "metadata": {},
   "outputs": [
    {
     "data": {
      "text/plain": [
       "2"
      ]
     },
     "execution_count": 13,
     "metadata": {},
     "output_type": "execute_result"
    }
   ],
   "source": [
    "len(ReactionAttribute)"
   ]
  },
  {
   "cell_type": "code",
   "execution_count": null,
   "metadata": {
    "collapsed": true
   },
   "outputs": [],
   "source": []
  }
 ],
 "metadata": {
  "kernelspec": {
   "display_name": "Python 3",
   "language": "python",
   "name": "python3"
  },
  "language_info": {
   "codemirror_mode": {
    "name": "ipython",
    "version": 3
   },
   "file_extension": ".py",
   "mimetype": "text/x-python",
   "name": "python",
   "nbconvert_exporter": "python",
   "pygments_lexer": "ipython3",
   "version": "3.6.1"
  }
 },
 "nbformat": 4,
 "nbformat_minor": 2
}
