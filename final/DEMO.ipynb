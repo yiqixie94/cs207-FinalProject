{
 "cells": [
  {
   "cell_type": "code",
   "execution_count": 17,
   "metadata": {},
   "outputs": [
    {
     "data": {
      "text/plain": [
       "array([ 0.,  0.,  0.,  0.,  0.])"
      ]
     },
     "execution_count": 17,
     "metadata": {},
     "output_type": "execute_result"
    }
   ],
   "source": [
    "from chemkin import *\n",
    "\n",
    "reader = Xml2dict()\n",
    "reader.parse('rxns.xml')\n",
    "info =reader.get_info()\n",
    "\n",
    "reaction1 = Reaction(info[1][0])\n",
    "reaction2 = Reaction(info[1][1])\n",
    "species_ls=info[0]\n",
    "\n",
    "rs = ReactionSystem([reaction1, reaction2],species_ls)\n",
    "rs.set_concs(dict(zip(species_ls,[1200,1212,322,4123,221])))\n",
    "rs.set_temp(1500)\n",
    "rs.get_reac_rate()"
   ]
  },
  {
   "cell_type": "code",
   "execution_count": 8,
   "metadata": {},
   "outputs": [
    {
     "data": {
      "text/plain": [
       "{'reversible': {'coeffParams': {'A': 35200000000.0, 'b': -0.7, 'E': 71400.0}, 'ID': 'reaction01', 'reversible': 'no', 'TYPE': 'Elementary', 'reactants': {'H': 1, 'O2': 1}, 'products': {'OH': 1, 'O': 1}, 'coeffLaw': 'Arrhenius'}, 'TYPE': 'Elementary', 'ID': 'reaction', 'coeffLaw': 'Constant', 'coeffParams': {'k': 1.0}, 'coeffUnits': {}, 'reactants': {}, 'products': {}}"
      ]
     },
     "execution_count": 8,
     "metadata": {},
     "output_type": "execute_result"
    }
   ],
   "source": [
    "reaction1"
   ]
  },
  {
   "cell_type": "code",
   "execution_count": 14,
   "metadata": {},
   "outputs": [
    {
     "data": {
      "text/plain": [
       "{'H': 12, 'H2': 43, 'O': 12, 'O2': 21, 'OH': 32}"
      ]
     },
     "execution_count": 14,
     "metadata": {},
     "output_type": "execute_result"
    }
   ],
   "source": [
    "dict(zip(species_ls,[12,12,32,43,21]))"
   ]
  },
  {
   "cell_type": "code",
   "execution_count": null,
   "metadata": {
    "collapsed": true
   },
   "outputs": [],
   "source": []
  }
 ],
 "metadata": {
  "kernelspec": {
   "display_name": "Python 3",
   "language": "python",
   "name": "python3"
  },
  "language_info": {
   "codemirror_mode": {
    "name": "ipython",
    "version": 3
   },
   "file_extension": ".py",
   "mimetype": "text/x-python",
   "name": "python",
   "nbconvert_exporter": "python",
   "pygments_lexer": "ipython3",
   "version": "3.6.1"
  }
 },
 "nbformat": 4,
 "nbformat_minor": 2
}
