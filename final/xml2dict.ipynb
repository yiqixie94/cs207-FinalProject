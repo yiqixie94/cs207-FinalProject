{
 "cells": [
  {
   "cell_type": "code",
   "execution_count": 1,
   "metadata": {},
   "outputs": [
    {
     "name": "stdout",
     "output_type": "stream",
     "text": [
      "Overwriting xml2dict.py\n"
     ]
    }
   ],
   "source": [
    "%%file xml2dict.py\n",
    "\n",
    "#Written by Baptiste Lemaire\n",
    "import xml.etree.ElementTree as ET\n",
    "\n",
    "class xml2dict:\n",
    "    \"\"\"\n",
    "    xml2dict turns an XML file into a array of all the species involved into the system of\n",
    "    reactions and a list of dictionaries. This latter contains a dictionary for every single \n",
    "    reaction of the system of reactions. Each dictionary contains the information about the \n",
    "    reactants, the products, the stoichiometric coefficients and the kinetic law for the \n",
    "    reaction constant (Arrhenius Law, Modified Arrhenius Law, Constant Law, and so forth).\n",
    "    where list of dictionary Reaction contains all the infomation from one given reaction.\n",
    "    \n",
    "    INPUTS\n",
    "    ======\n",
    "    \n",
    "    file: XML file.\n",
    "          The format of the this input file must follow\n",
    "          the format given by Prof. David Sondak.\n",
    "          \n",
    "    METHODS\n",
    "    =======\n",
    "    \n",
    "    parse(self, file): \n",
    "        extract all the information contained into the XML file provided by\n",
    "        the user, namely the names of all the species involved in the system\n",
    "        of reactions, stored into the array self.Species, and all the information\n",
    "        about every reaction, stored into self.ListDictionaries\n",
    "        \n",
    "    get_info(self):\n",
    "        return the array self.Species containing the names of the species involved\n",
    "        and the list of dictionaries self.ListDictionaries\n",
    "        OUTPUTS: self.Species, self.ListDictionaries\n",
    "           \n",
    "    __repr__(self):\n",
    "        return a string of all the sppecies and all the information contained in \n",
    "        self.dictionaries\n",
    "        OUTPUTS: str\n",
    "    \n",
    "    \n",
    "    EXAMPLES\n",
    "    =========\n",
    "    >>> reader = xml2dict()\n",
    "    >>> reader.parse('rxns.xml')\n",
    "    >>> reader.get_info()\n",
    "    (['H', 'O', 'OH', 'H2', 'O2'], [{'coeffParams': {'A': 35200000000.0, 'b': -0.7, 'E': 71400.0}, 'coeffUnits': {'A': 'm3/mol/s', 'b': 'dimensionless', 'E': 'J/mol'}, 'ID': 'reaction01', 'reversible': 'yes', 'TYPE': 'Elementary', 'reactants': {'H': 1, 'O2': 1}, 'products': {'OH': 1, 'O': 1}, 'coeffLaw': 'Arrhenius'}, {'coeffParams': {'A': 0.0506, 'b': 2.7, 'E': 26300.0}, 'coeffUnits': {'A': 'm3/mol/s', 'b': 'dimensionless', 'E': 'J/mol'}, 'ID': 'reaction02', 'reversible': 'yes', 'TYPE': 'Elementary', 'reactants': {'H2': 1, 'O': 1}, 'products': {'OH': 1, 'H': 1}, 'coeffLaw': 'Arrhenius'}])\n",
    "    \"\"\"\n",
    "\n",
    "    def parse(self, file):\n",
    "        self.file = file\n",
    "        tree = ET.parse(file)\n",
    "        root = tree.getroot()\n",
    "\n",
    "        SpeciesArray=root.find('phase').find('speciesArray')\n",
    "        self.Species = SpeciesArray.text.strip().split(\" \")\n",
    "    \n",
    "        self.ListDictionaries = []\n",
    "    \n",
    "        #Now: go through every reaction to read the features:\n",
    "    \n",
    "        for reaction in root.find('reactionData').findall('reaction'):\n",
    "        \n",
    "            #Initialization of the variables\n",
    "        \n",
    "            Dict = {}\n",
    "            reactants = []\n",
    "            products = []\n",
    "            Nup = []\n",
    "            Nupp = []\n",
    "            ListCoeffUnits = []\n",
    "        \n",
    "            ListReactants = reaction.find('reactants').text.split()\n",
    "            for elementsR in ListReactants:\n",
    "                specie, nu = elementsR.split(':')\n",
    "                reactants.append(specie)\n",
    "                Nup.append(int(nu))\n",
    "            ListProducts = reaction.find('products').text.split()\n",
    "            for elementsP in ListProducts:\n",
    "                specie, nu = elementsP.split(':')\n",
    "                products.append(specie)\n",
    "                Nupp.append(int(nu))\n",
    "            for name in reaction.find('rateCoeff'):\n",
    "                Law = name.tag\n",
    "                ListCoeffTag = []\n",
    "                ListCoeffValue = []\n",
    "                for coeff in name:\n",
    "                    ListCoeffTag.append(coeff.tag)\n",
    "                    ListCoeffValue.append(float(coeff.text))\n",
    "                    if len(coeff.attrib) != 0:\n",
    "                        ListCoeffUnits.append(coeff.attrib['units'])\n",
    "                    else:\n",
    "                        ListCoeffUnits.append('dimensionless')\n",
    "            Dict['coeffParams'] = dict(zip(ListCoeffTag, ListCoeffValue))\n",
    "            Dict['coeffUnits'] = dict(zip(ListCoeffTag,ListCoeffUnits))\n",
    "            Dict['ID'] = reaction.attrib['id']\n",
    "            Dict['reversible'] = reaction.attrib['reversible']\n",
    "            Dict['TYPE'] = reaction.attrib['type']\n",
    "            Dict['reactants'] = dict(zip(reactants, Nup))\n",
    "            Dict['products'] = dict(zip(products, Nupp))\n",
    "            Dict['coeffLaw'] = Law\n",
    "            self.ListDictionaries.append(Dict)\n",
    "    \n",
    "    def get_info(self):\n",
    "        return self.Species, self.ListDictionaries\n",
    "    \n",
    "    def __repr__(self):\n",
    "        return str(self.Species) + ' ' + str(self.ListDictionaries)\n",
    "\n"
   ]
  },
  {
   "cell_type": "code",
   "execution_count": 2,
   "metadata": {
    "collapsed": true
   },
   "outputs": [],
   "source": [
    "from xml2dict import xml2dict\n",
    "\n",
    "reader = xml2dict()"
   ]
  },
  {
   "cell_type": "code",
   "execution_count": 4,
   "metadata": {},
   "outputs": [
    {
     "name": "stdout",
     "output_type": "stream",
     "text": [
      "\u001b[1m============================= test session starts ==============================\u001b[0m\n",
      "platform darwin -- Python 3.6.1, pytest-3.0.7, py-1.4.33, pluggy-0.4.0\n",
      "rootdir: /Users/baptistelemaire/Documents/cs207-FinalProject, inifile: setup.cfg\n",
      "plugins: cov-2.5.1\n",
      "collected 9 items \u001b[0m\u001b[1m\n",
      "\u001b[0m\n",
      "test_xml2dict.py ........\n",
      "xml2dict.py .\n",
      "\n",
      "---------- coverage: platform darwin, python 3.6.1-final-0 -----------\n",
      "Name               Stmts   Miss  Cover   Missing\n",
      "------------------------------------------------\n",
      "test_xml2dict.py      33      0   100%\n",
      "xml2dict.py           49      1    98%   107\n",
      "------------------------------------------------\n",
      "TOTAL                 82      1    99%\n",
      "\n",
      "\n",
      "\u001b[32m\u001b[1m=========================== 9 passed in 0.11 seconds ===========================\u001b[0m\n"
     ]
    }
   ],
   "source": [
    "!pytest --cov --cov-report term-missing"
   ]
  },
  {
   "cell_type": "code",
   "execution_count": 22,
   "metadata": {
    "collapsed": true
   },
   "outputs": [],
   "source": [
    "reader.parse('rxns2.xml')"
   ]
  },
  {
   "cell_type": "code",
   "execution_count": 23,
   "metadata": {},
   "outputs": [
    {
     "data": {
      "text/plain": [
       "(['H2', 'O2', 'OH', 'HO2', 'H2O'],\n",
       " [{'ID': 'reaction01',\n",
       "   'TYPE': 'Elementary',\n",
       "   'coeffLaw': 'modArrhenius',\n",
       "   'coeffParams': {'A': 100000000.0, 'E': 50000.0, 'b': 0.5},\n",
       "   'coeffUnits': {'A': 'm3/mol/s', 'E': 'J/mol', 'b': 'dimensionless'},\n",
       "   'products': {'H2': 1, 'OH': 2},\n",
       "   'reactants': {'H2': 2, 'O2': 1},\n",
       "   'reversible': 'yes'},\n",
       "  {'ID': 'reaction02',\n",
       "   'TYPE': 'Elementary',\n",
       "   'coeffLaw': 'Constant',\n",
       "   'coeffParams': {'k': 10000.0},\n",
       "   'coeffUnits': {'k': 'm3/mol/s'},\n",
       "   'products': {'H2O': 1, 'O2': 1},\n",
       "   'reactants': {'HO2': 1, 'OH': 1},\n",
       "   'reversible': 'yes'},\n",
       "  {'ID': 'reaction03',\n",
       "   'TYPE': 'Elementary',\n",
       "   'coeffLaw': 'Arrhenius',\n",
       "   'coeffParams': {'A': 10000000.0, 'E': 10000.0},\n",
       "   'coeffUnits': {'A': 'm3/mol/s', 'E': 'J/mol'},\n",
       "   'products': {'O': 1, 'OH': 1},\n",
       "   'reactants': {'H': 1, 'O2': 1},\n",
       "   'reversible': 'yes'}])"
      ]
     },
     "execution_count": 23,
     "metadata": {},
     "output_type": "execute_result"
    }
   ],
   "source": [
    "reader.get_info()"
   ]
  },
  {
   "cell_type": "code",
   "execution_count": 28,
   "metadata": {},
   "outputs": [
    {
     "data": {
      "text/plain": [
       "'yes'"
      ]
     },
     "execution_count": 28,
     "metadata": {},
     "output_type": "execute_result"
    }
   ],
   "source": [
    "reader.get_info()[1][2]['reversible']"
   ]
  },
  {
   "cell_type": "code",
   "execution_count": 91,
   "metadata": {},
   "outputs": [
    {
     "data": {
      "text/plain": [
       "\"['H2', 'O2', 'OH', 'HO2', 'H2O'] [{'coeffParams': {'A': 100000000.0, 'b': 0.5, 'E': 50000.0}, 'coeffUnits': {'A': 'm3/mol/s', 'b': 'dimensionless', 'E': 'J/mol'}, 'id': 'reaction01', 'reversible': 'yes', 'type': 'Elementary', 'reactants': {'H2': 2, 'O2': 1}, 'products': {'OH': 2, 'H2': 1}, 'coeffLaw': 'modArrhenius'}, {'coeffParams': {'k': 10000.0}, 'coeffUnits': {'k': 'm3/mol/s'}, 'id': 'reaction02', 'reversible': 'yes', 'type': 'Elementary', 'reactants': {'OH': 1, 'HO2': 1}, 'products': {'H2O': 1, 'O2': 1}, 'coeffLaw': 'Constant'}, {'coeffParams': {'A': 10000000.0, 'E': 10000.0}, 'coeffUnits': {'A': 'm3/mol/s', 'E': 'J/mol'}, 'id': 'reaction03', 'reversible': 'yes', 'type': 'Elementary', 'reactants': {'H': 1, 'O2': 1}, 'products': {'OH': 1, 'O': 1}, 'coeffLaw': 'Arrhenius'}]\""
      ]
     },
     "execution_count": 91,
     "metadata": {},
     "output_type": "execute_result"
    }
   ],
   "source": [
    "repr(reader)"
   ]
  },
  {
   "cell_type": "code",
   "execution_count": 85,
   "metadata": {},
   "outputs": [
    {
     "data": {
      "text/plain": [
       "['ListDictionaries',\n",
       " 'Species',\n",
       " '__class__',\n",
       " '__delattr__',\n",
       " '__dict__',\n",
       " '__dir__',\n",
       " '__doc__',\n",
       " '__eq__',\n",
       " '__format__',\n",
       " '__ge__',\n",
       " '__getattribute__',\n",
       " '__gt__',\n",
       " '__hash__',\n",
       " '__init__',\n",
       " '__init_subclass__',\n",
       " '__le__',\n",
       " '__lt__',\n",
       " '__module__',\n",
       " '__ne__',\n",
       " '__new__',\n",
       " '__reduce__',\n",
       " '__reduce_ex__',\n",
       " '__repr__',\n",
       " '__setattr__',\n",
       " '__sizeof__',\n",
       " '__str__',\n",
       " '__subclasshook__',\n",
       " '__weakref__',\n",
       " 'file',\n",
       " 'get_info',\n",
       " 'parse']"
      ]
     },
     "execution_count": 85,
     "metadata": {},
     "output_type": "execute_result"
    }
   ],
   "source": [
    "dir(reader)"
   ]
  },
  {
   "cell_type": "code",
   "execution_count": 7,
   "metadata": {},
   "outputs": [
    {
     "data": {
      "text/plain": [
       "(['H', 'O', 'OH', 'H2', 'O2'],\n",
       " [{'ID': 'reaction01',\n",
       "   'TYPE': 'Elementary',\n",
       "   'coeffLaw': 'Arrhenius',\n",
       "   'coeffParams': {'A': 35200000000.0, 'E': 71400.0, 'b': -0.7},\n",
       "   'coeffUnits': {'A': 'm3/mol/s', 'E': 'J/mol', 'b': 'dimensionless'},\n",
       "   'products': {'O': 1, 'OH': 1},\n",
       "   'reactants': {'H': 1, 'O2': 1},\n",
       "   'reversible': 'yes'},\n",
       "  {'ID': 'reaction02',\n",
       "   'TYPE': 'Elementary',\n",
       "   'coeffLaw': 'Arrhenius',\n",
       "   'coeffParams': {'A': 0.0506, 'E': 26300.0, 'b': 2.7},\n",
       "   'coeffUnits': {'A': 'm3/mol/s', 'E': 'J/mol', 'b': 'dimensionless'},\n",
       "   'products': {'H': 1, 'OH': 1},\n",
       "   'reactants': {'H2': 1, 'O': 1},\n",
       "   'reversible': 'yes'}])"
      ]
     },
     "execution_count": 7,
     "metadata": {},
     "output_type": "execute_result"
    }
   ],
   "source": [
    "r1 = xml2dict()\n",
    "r1.parse('rxns.xml')\n",
    "r1.get_info()"
   ]
  },
  {
   "cell_type": "code",
   "execution_count": 17,
   "metadata": {},
   "outputs": [
    {
     "data": {
      "text/plain": [
       "'Arrhenius'"
      ]
     },
     "execution_count": 17,
     "metadata": {},
     "output_type": "execute_result"
    }
   ],
   "source": [
    "r1.get_info()[1][0]['coeffLaw']"
   ]
  },
  {
   "cell_type": "code",
   "execution_count": 9,
   "metadata": {},
   "outputs": [
    {
     "data": {
      "text/plain": [
       "True"
      ]
     },
     "execution_count": 9,
     "metadata": {},
     "output_type": "execute_result"
    }
   ],
   "source": [
    "r1.get_info() == (['H', 'O', 'OH', 'H2', 'O2'],\n",
    " [{'ID': 'reaction01',\n",
    "   'TYPE': 'Elementary',\n",
    "   'coeffLaw': 'Arrhenius',\n",
    "   'coeffParams': {'A': 35200000000.0, 'E': 71400.0, 'b': -0.7},\n",
    "   'coeffUnits': {'A': 'm3/mol/s', 'E': 'J/mol', 'b': 'dimensionless'},\n",
    "   'products': {'O': 1, 'OH': 1},\n",
    "   'reactants': {'H': 1, 'O2': 1},\n",
    "   'reversible': 'yes'},\n",
    "  {'ID': 'reaction02',\n",
    "   'TYPE': 'Elementary',\n",
    "   'coeffLaw': 'Arrhenius',\n",
    "   'coeffParams': {'A': 0.0506, 'E': 26300.0, 'b': 2.7},\n",
    "   'coeffUnits': {'A': 'm3/mol/s', 'E': 'J/mol', 'b': 'dimensionless'},\n",
    "   'products': {'H': 1, 'OH': 1},\n",
    "   'reactants': {'H2': 1, 'O': 1},\n",
    "   'reversible': 'yes'}])"
   ]
  },
  {
   "cell_type": "code",
   "execution_count": null,
   "metadata": {
    "collapsed": true
   },
   "outputs": [],
   "source": []
  }
 ],
 "metadata": {
  "kernelspec": {
   "display_name": "Python 3",
   "language": "python",
   "name": "python3"
  },
  "language_info": {
   "codemirror_mode": {
    "name": "ipython",
    "version": 3
   },
   "file_extension": ".py",
   "mimetype": "text/x-python",
   "name": "python",
   "nbconvert_exporter": "python",
   "pygments_lexer": "ipython3",
   "version": "3.6.1"
  }
 },
 "nbformat": 4,
 "nbformat_minor": 2
}
