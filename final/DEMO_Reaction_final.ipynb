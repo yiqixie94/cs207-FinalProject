{
 "cells": [
  {
   "cell_type": "code",
   "execution_count": 1,
   "metadata": {
    "collapsed": true
   },
   "outputs": [],
   "source": [
    "import numpy as np\n",
    "from copy import deepcopy\n",
    "from useful_structure import PartialLockedDict\n",
    "from mathematical_science import MathModel\n",
    "from check_and_response import ValueCheck\n",
    "from Reaction import Reaction\n",
    "import CoeffLaw"
   ]
  },
  {
   "cell_type": "markdown",
   "metadata": {},
   "source": [
    "## Create a Reaction instance and play around"
   ]
  },
  {
   "cell_type": "code",
   "execution_count": 2,
   "metadata": {},
   "outputs": [
    {
     "data": {
      "text/plain": [
       "{'ID': 'reaction',\n",
       " 'TYPE': 'Elementary',\n",
       " 'coeffLaw': 'modArrhenius',\n",
       " 'coeffParams': {'A': 1.0, 'E': -4.157, 'R': 8.314, 'b': -1.0},\n",
       " 'coeffUnits': {},\n",
       " 'products': {'H': 1, 'OH': 1},\n",
       " 'reactants': {'H': 1, 'O2': 1},\n",
       " 'reversible': False}"
      ]
     },
     "execution_count": 2,
     "metadata": {},
     "output_type": "execute_result"
    }
   ],
   "source": [
    "r = Reaction(\n",
    "    reactants=dict(H=1,O2=1), \n",
    "    products=dict(OH=1,H=1),\n",
    "    coeffLaw='modArrhenius', \n",
    "    coeffParams=dict(b=-1.0, E=-4.157)\n",
    ")\n",
    "r.get_params()"
   ]
  },
  {
   "cell_type": "markdown",
   "metadata": {},
   "source": [
    "- #### Use `__str__` method to visualize the reaction equation."
   ]
  },
  {
   "cell_type": "code",
   "execution_count": 3,
   "metadata": {
    "scrolled": false
   },
   "outputs": [
    {
     "name": "stdout",
     "output_type": "stream",
     "text": [
      "========================================\n",
      "Reaction Equation:\n",
      "1H + 1O2 => 1H + 1OH\n",
      "----------------------------------------\n",
      "Reaction Info:\n",
      "ID: reaction\n",
      "TYPE: Elementary\n",
      "reversible: False\n",
      "coeffLaw: modArrhenius\n",
      "coeffParams: [('A', 1.0), ('E', -4.157), ('R', 8.314), ('b', -1.0)]\n",
      "coeffUnits: []\n",
      "========================================\n"
     ]
    }
   ],
   "source": [
    "print(r)"
   ]
  },
  {
   "cell_type": "markdown",
   "metadata": {},
   "source": [
    "## Compute right, Compute free"
   ]
  },
  {
   "cell_type": "code",
   "execution_count": 4,
   "metadata": {
    "scrolled": true
   },
   "outputs": [
    {
     "name": "stdout",
     "output_type": "stream",
     "text": [
      "5.43656365691809\n",
      "5.43656365691809\n"
     ]
    }
   ],
   "source": [
    "print(r.rateCoeff(check=False, T=0.5))\n",
    "print(2 * np.e)"
   ]
  },
  {
   "cell_type": "markdown",
   "metadata": {},
   "source": [
    "- #### We might want to apply some laws other than modified Arrhenius to compute the rate coeff. However, this will raise an error."
   ]
  },
  {
   "cell_type": "code",
   "execution_count": 5,
   "metadata": {
    "scrolled": true
   },
   "outputs": [
    {
     "ename": "NotImplementedError",
     "evalue": "coeffLaw = NewLaw. Referred reaction rate coefficient law is not implemented.",
     "output_type": "error",
     "traceback": [
      "\u001b[0;31m---------------------------------------------------------------------------\u001b[0m",
      "\u001b[0;31mNotImplementedError\u001b[0m                       Traceback (most recent call last)",
      "\u001b[0;32m<ipython-input-5-8062d4da958b>\u001b[0m in \u001b[0;36m<module>\u001b[0;34m()\u001b[0m\n\u001b[1;32m      1\u001b[0m r.set_params(\n\u001b[1;32m      2\u001b[0m     \u001b[0mcoeffLaw\u001b[0m\u001b[0;34m=\u001b[0m\u001b[0;34m'NewLaw'\u001b[0m\u001b[0;34m,\u001b[0m\u001b[0;34m\u001b[0m\u001b[0m\n\u001b[0;32m----> 3\u001b[0;31m     \u001b[0mcoeffParams\u001b[0m\u001b[0;34m=\u001b[0m\u001b[0mdict\u001b[0m\u001b[0;34m(\u001b[0m\u001b[0mE\u001b[0m\u001b[0;34m=\u001b[0m\u001b[0;36m4.157\u001b[0m\u001b[0;34m,\u001b[0m \u001b[0mR\u001b[0m\u001b[0;34m=\u001b[0m\u001b[0;36m8.314\u001b[0m\u001b[0;34m)\u001b[0m\u001b[0;34m\u001b[0m\u001b[0m\n\u001b[0m\u001b[1;32m      4\u001b[0m )\n\u001b[1;32m      5\u001b[0m \u001b[0mr\u001b[0m\u001b[0;34m.\u001b[0m\u001b[0mrateCoeff\u001b[0m\u001b[0;34m(\u001b[0m\u001b[0mcheck\u001b[0m\u001b[0;34m=\u001b[0m\u001b[0;32mTrue\u001b[0m\u001b[0;34m,\u001b[0m \u001b[0mT\u001b[0m\u001b[0;34m=\u001b[0m\u001b[0;34m-\u001b[0m\u001b[0;36m2.0\u001b[0m\u001b[0;34m)\u001b[0m\u001b[0;34m\u001b[0m\u001b[0m\n",
      "\u001b[0;32m/Users/gwungwun/cs207-FinalProject/final/Reaction.py\u001b[0m in \u001b[0;36mset_params\u001b[0;34m(self, **kwargs)\u001b[0m\n\u001b[1;32m    334\u001b[0m         \u001b[0mnew_params\u001b[0m \u001b[0;34m=\u001b[0m \u001b[0mdeepcopy\u001b[0m\u001b[0;34m(\u001b[0m\u001b[0mold_params\u001b[0m\u001b[0;34m)\u001b[0m\u001b[0;34m\u001b[0m\u001b[0m\n\u001b[1;32m    335\u001b[0m         \u001b[0mnew_params\u001b[0m\u001b[0;34m.\u001b[0m\u001b[0mupdate\u001b[0m\u001b[0;34m(\u001b[0m\u001b[0;34m**\u001b[0m\u001b[0mkwargs_eliminated\u001b[0m\u001b[0;34m)\u001b[0m\u001b[0;34m\u001b[0m\u001b[0m\n\u001b[0;32m--> 336\u001b[0;31m         \u001b[0mself\u001b[0m\u001b[0;34m.\u001b[0m\u001b[0m_params\u001b[0m \u001b[0;34m=\u001b[0m \u001b[0mdeepcopy\u001b[0m\u001b[0;34m(\u001b[0m\u001b[0mself\u001b[0m\u001b[0;34m.\u001b[0m\u001b[0m_check_params\u001b[0m\u001b[0;34m(\u001b[0m\u001b[0mnew_params\u001b[0m\u001b[0;34m)\u001b[0m\u001b[0;34m)\u001b[0m\u001b[0;34m\u001b[0m\u001b[0m\n\u001b[0m\u001b[1;32m    337\u001b[0m         \u001b[0mself\u001b[0m\u001b[0;34m.\u001b[0m\u001b[0mrateCoeff\u001b[0m\u001b[0;34m,\u001b[0m \u001b[0mself\u001b[0m\u001b[0;34m.\u001b[0m\u001b[0m_params\u001b[0m\u001b[0;34m[\u001b[0m\u001b[0;34m'coeffParams'\u001b[0m\u001b[0;34m]\u001b[0m \u001b[0;34m=\u001b[0m\u001b[0;31m \u001b[0m\u001b[0;31m\\\u001b[0m\u001b[0;34m\u001b[0m\u001b[0m\n\u001b[1;32m    338\u001b[0m             \u001b[0mself\u001b[0m\u001b[0;34m.\u001b[0m\u001b[0m_specify_CoeffLaw\u001b[0m\u001b[0;34m(\u001b[0m\u001b[0mnew_params\u001b[0m\u001b[0;34m[\u001b[0m\u001b[0;34m'coeffLaw'\u001b[0m\u001b[0;34m]\u001b[0m\u001b[0;34m,\u001b[0m \u001b[0mnew_params\u001b[0m\u001b[0;34m[\u001b[0m\u001b[0;34m'coeffParams'\u001b[0m\u001b[0;34m]\u001b[0m\u001b[0;34m)\u001b[0m\u001b[0;34m\u001b[0m\u001b[0m\n",
      "\u001b[0;32m/Users/gwungwun/cs207-FinalProject/final/Reaction.py\u001b[0m in \u001b[0;36m_check_params\u001b[0;34m(params)\u001b[0m\n\u001b[1;32m    363\u001b[0m                 raise NotImplementedError(' '.join([\n\u001b[1;32m    364\u001b[0m                     \u001b[0;34m'coeffLaw = {}.'\u001b[0m\u001b[0;34m.\u001b[0m\u001b[0mformat\u001b[0m\u001b[0;34m(\u001b[0m\u001b[0mparams\u001b[0m\u001b[0;34m[\u001b[0m\u001b[0;34m'coeffLaw'\u001b[0m\u001b[0;34m]\u001b[0m\u001b[0;34m)\u001b[0m\u001b[0;34m,\u001b[0m\u001b[0;34m\u001b[0m\u001b[0m\n\u001b[0;32m--> 365\u001b[0;31m                     'Referred reaction rate coefficient law is not implemented.']))\n\u001b[0m\u001b[1;32m    366\u001b[0m             \u001b[0;32melif\u001b[0m \u001b[0;34m'coeffParams'\u001b[0m \u001b[0;32min\u001b[0m \u001b[0mparams\u001b[0m\u001b[0;34m:\u001b[0m\u001b[0;34m\u001b[0m\u001b[0m\n\u001b[1;32m    367\u001b[0m                 \u001b[0mlaw_model\u001b[0m \u001b[0;34m=\u001b[0m \u001b[0mReaction\u001b[0m\u001b[0;34m.\u001b[0m\u001b[0m_CoeffLawDict\u001b[0m\u001b[0;34m.\u001b[0m\u001b[0m_dict_all\u001b[0m\u001b[0;34m[\u001b[0m\u001b[0mparams\u001b[0m\u001b[0;34m[\u001b[0m\u001b[0;34m'coeffLaw'\u001b[0m\u001b[0;34m]\u001b[0m\u001b[0;34m]\u001b[0m\u001b[0;34m\u001b[0m\u001b[0m\n",
      "\u001b[0;31mNotImplementedError\u001b[0m: coeffLaw = NewLaw. Referred reaction rate coefficient law is not implemented."
     ]
    }
   ],
   "source": [
    "r.set_params(\n",
    "    coeffLaw='NewLaw', \n",
    "    coeffParams=dict(E=4.157, R=8.314)\n",
    ")\n",
    "r.rateCoeff(check=True, T=-2.0)"
   ]
  },
  {
   "cell_type": "markdown",
   "metadata": {},
   "source": [
    "- #### Is there any approach to see what kind of laws are currently supported?"
   ]
  },
  {
   "cell_type": "code",
   "execution_count": 6,
   "metadata": {
    "scrolled": false
   },
   "outputs": [
    {
     "data": {
      "text/plain": [
       "{'Arrhenius': CoeffLaw.Arrhenius,\n",
       " 'Constant': CoeffLaw.Constant,\n",
       " 'modArrhenius': CoeffLaw.modArrhenius}"
      ]
     },
     "execution_count": 6,
     "metadata": {},
     "output_type": "execute_result"
    }
   ],
   "source": [
    "Reaction._CoeffLawDict.getcopy_all()"
   ]
  },
  {
   "cell_type": "markdown",
   "metadata": {},
   "source": [
    "- #### Is there any approach to design something new and add it to the programs \"knowledge\"?"
   ]
  },
  {
   "cell_type": "code",
   "execution_count": 7,
   "metadata": {},
   "outputs": [
    {
     "data": {
      "text/plain": [
       "{'Arrhenius': CoeffLaw.Arrhenius,\n",
       " 'Constant': CoeffLaw.Constant,\n",
       " 'NewLaw': __main__.NewLaw,\n",
       " 'modArrhenius': CoeffLaw.modArrhenius}"
      ]
     },
     "execution_count": 7,
     "metadata": {},
     "output_type": "execute_result"
    }
   ],
   "source": [
    "class NewLaw(MathModel):\n",
    "    \n",
    "    @staticmethod\n",
    "    def _kernel(T, E, R, **other_params):\n",
    "        return -E / (T * R)\n",
    "    \n",
    "#     _check_np = ValueCheck(lambda x:x<=0.0, name='non-positive')\n",
    "#     _check_zr = ValueCheck(lambda x:x==0.0, name='zero')\n",
    "#     def check_stateparams(self, T, **other_params):\n",
    "#         self._check_np.response(T, label='T', term='temperature')\n",
    "#     @staticmethod\n",
    "#     def check_coeffparams(R, **other_params):\n",
    "#         NewLaw._check_zr.response(R, label='R', term='ideal gas constant')\n",
    "\n",
    "Reaction._CoeffLawDict.update('NewLaw', NewLaw)\n",
    "Reaction._CoeffLawDict.getcopy_all()"
   ]
  },
  {
   "cell_type": "code",
   "execution_count": 8,
   "metadata": {},
   "outputs": [
    {
     "data": {
      "text/plain": [
       "0.25"
      ]
     },
     "execution_count": 8,
     "metadata": {},
     "output_type": "execute_result"
    }
   ],
   "source": [
    "r.set_params(\n",
    "    coeffLaw='NewLaw', \n",
    "    coeffParams=dict(E=4.157, R=8.314)\n",
    ")\n",
    "r.rateCoeff(check=True, T=-2.0)"
   ]
  },
  {
   "cell_type": "markdown",
   "metadata": {},
   "source": [
    "- #### Good, but not enough. We also want some input check."
   ]
  },
  {
   "cell_type": "markdown",
   "metadata": {},
   "source": [
    "## What is a `MathModel`?"
   ]
  },
  {
   "cell_type": "code",
   "execution_count": 15,
   "metadata": {
    "scrolled": true
   },
   "outputs": [
    {
     "data": {
      "text/plain": [
       "['__str__',\n",
       " '__subclasshook__',\n",
       " '__weakref__',\n",
       " '_default_settings',\n",
       " '_kernel',\n",
       " 'check_coeffparams',\n",
       " 'check_stateparams',\n",
       " 'compute',\n",
       " 'get_coeffparams',\n",
       " 'get_defaults']"
      ]
     },
     "execution_count": 15,
     "metadata": {},
     "output_type": "execute_result"
    }
   ],
   "source": [
    "dir(MathModel)[-10:]"
   ]
  },
  {
   "cell_type": "code",
   "execution_count": 12,
   "metadata": {},
   "outputs": [
    {
     "data": {
      "text/plain": [
       "{'coeffparams': {'A': 1.0, 'E': 0.0, 'R': 8.314}, 'stateparams': {'T': 1e-16}}"
      ]
     },
     "execution_count": 12,
     "metadata": {},
     "output_type": "execute_result"
    }
   ],
   "source": [
    "CoeffLaw.Arrhenius.get_defaults()"
   ]
  },
  {
   "cell_type": "markdown",
   "metadata": {},
   "source": [
    "## Structure of `_CoeffLawDict` (`PartialLockedDict`)"
   ]
  },
  {
   "cell_type": "code",
   "execution_count": 9,
   "metadata": {},
   "outputs": [
    {
     "data": {
      "text/plain": [
       "{'Arrhenius': CoeffLaw.Arrhenius,\n",
       " 'Constant': CoeffLaw.Constant,\n",
       " 'modArrhenius': CoeffLaw.modArrhenius}"
      ]
     },
     "execution_count": 9,
     "metadata": {},
     "output_type": "execute_result"
    }
   ],
   "source": [
    "Reaction._CoeffLawDict.getcopy_builtin()"
   ]
  },
  {
   "cell_type": "code",
   "execution_count": 10,
   "metadata": {},
   "outputs": [
    {
     "data": {
      "text/plain": [
       "{'Arrhenius': CoeffLaw.Arrhenius,\n",
       " 'Constant': CoeffLaw.Constant,\n",
       " 'modArrhenius': CoeffLaw.modArrhenius}"
      ]
     },
     "execution_count": 10,
     "metadata": {},
     "output_type": "execute_result"
    }
   ],
   "source": [
    "Reaction._CoeffLawDict.reset()\n",
    "Reaction._CoeffLawDict.getcopy_all()"
   ]
  },
  {
   "cell_type": "code",
   "execution_count": 11,
   "metadata": {},
   "outputs": [
    {
     "data": {
      "text/plain": [
       "['__str__',\n",
       " '__subclasshook__',\n",
       " '__weakref__',\n",
       " '_dict_all',\n",
       " '_dict_builtin',\n",
       " '_error_change_builtin',\n",
       " '_get_all',\n",
       " '_get_builtin',\n",
       " 'getcopy',\n",
       " 'getcopy_all',\n",
       " 'getcopy_builtin',\n",
       " 'remove',\n",
       " 'reset',\n",
       " 'update',\n",
       " 'update_group']"
      ]
     },
     "execution_count": 11,
     "metadata": {},
     "output_type": "execute_result"
    }
   ],
   "source": [
    "dir(Reaction._CoeffLawDict)[-15:]"
   ]
  },
  {
   "cell_type": "code",
   "execution_count": null,
   "metadata": {
    "collapsed": true
   },
   "outputs": [],
   "source": []
  }
 ],
 "metadata": {
  "kernelspec": {
   "display_name": "Python 3",
   "language": "python",
   "name": "python3"
  },
  "language_info": {
   "codemirror_mode": {
    "name": "ipython",
    "version": 3
   },
   "file_extension": ".py",
   "mimetype": "text/x-python",
   "name": "python",
   "nbconvert_exporter": "python",
   "pygments_lexer": "ipython3",
   "version": "3.6.1"
  }
 },
 "nbformat": 4,
 "nbformat_minor": 2
}
