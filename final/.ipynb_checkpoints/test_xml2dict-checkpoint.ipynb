{
 "cells": [
  {
   "cell_type": "code",
   "execution_count": 1,
   "metadata": {},
   "outputs": [
    {
     "name": "stdout",
     "output_type": "stream",
     "text": [
      "Overwriting test_xml2dict.py\n"
     ]
    }
   ],
   "source": [
    "%%file test_xml2dict.py\n",
    "\n",
    "from xml2dict import xml2dict\n",
    "\n",
    "\n",
    "\n",
    "def test_class1():\n",
    "    r = xml2dict()\n",
    "    print(os.listdir('.'))\n",
    "    r.parse('rxns.xml')\n",
    "    assert(r.get_info()[1][1]['TYPE'] == 'Elementary')\n",
    "    \n",
    "def test_class2():\n",
    "    r = xml2dict()\n",
    "    r.parse('rxns.xml')\n",
    "    assert(r.get_info()[0][1] == 'O')    \n",
    "    \n",
    "def test_class3():\n",
    "    r = xml2dict()\n",
    "    r.parse('rxns.xml')\n",
    "    assert(r.get_info()[1][1]['products'] == {'H': 1, 'OH': 1})\n",
    "    \n",
    "def test_class5():\n",
    "    r = xml2dict()\n",
    "    r.parse('rxns2.xml')\n",
    "    assert(r.get_info()[1][1]['reactants'] == {'HO2': 1, 'OH': 1}) \n",
    "    \n",
    "def test_class6():\n",
    "    r = xml2dict()\n",
    "    r.parse('rxns2.xml')\n",
    "    assert(r.get_info()[1][2]['ID'] == 'reaction03') \n",
    "    \n",
    "def test_class7():\n",
    "    r = xml2dict()\n",
    "    r.parse('rxns2.xml')\n",
    "    assert(r.get_info()[1][2]['reversible'] == 'no') "
   ]
  },
  {
   "cell_type": "code",
   "execution_count": null,
   "metadata": {
    "collapsed": true
   },
   "outputs": [],
   "source": []
  }
 ],
 "metadata": {
  "kernelspec": {
   "display_name": "Python 3",
   "language": "python",
   "name": "python3"
  },
  "language_info": {
   "codemirror_mode": {
    "name": "ipython",
    "version": 3
   },
   "file_extension": ".py",
   "mimetype": "text/x-python",
   "name": "python",
   "nbconvert_exporter": "python",
   "pygments_lexer": "ipython3",
   "version": "3.6.1"
  }
 },
 "nbformat": 4,
 "nbformat_minor": 2
}
