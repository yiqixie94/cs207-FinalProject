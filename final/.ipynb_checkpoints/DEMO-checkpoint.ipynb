{
 "cells": [
  {
   "cell_type": "code",
   "execution_count": 1,
   "metadata": {},
   "outputs": [
    {
     "name": "stdout",
     "output_type": "stream",
     "text": [
      "Welcome to the Reaction Rate calculator. Input a valid xml file.rxns2.xml\n",
      "input concentrations, separated by commas, in the following order: ['H2', 'O2', 'OH', 'HO2', 'H2O']2,1,0.5,1,1\n",
      "{'H2': 2.0, 'O2': 1.0, 'OH': 0.5, 'HO2': 1.0, 'H2O': 1.0}\n",
      "input non-negative temperature in Kelvins.750\n",
      "nu_react [[ 2.  0.  0.]\n",
      " [ 1.  0.  1.]\n",
      " [ 0.  1.  0.]\n",
      " [ 0.  1.  0.]\n",
      " [ 0.  0.  1.]]\n",
      "nu_prod [[ 1.  0.  0.]\n",
      " [ 0.  1.  0.]\n",
      " [ 2.  0.  1.]\n",
      " [ 0.  0.  1.]\n",
      " [ 0.  1.  0.]]\n",
      "nu [[-1.  0.  0.]\n",
      " [-1.  1. -1.]\n",
      " [ 2. -1.  1.]\n",
      " [ 0. -1.  1.]\n",
      " [ 0.  1. -1.]]\n",
      "Reaction rate for species  ['H2', 'O2', 'OH', 'HO2', 'H2O'] at temperature 750 with concentrations [2.0, 1.0, 0.5, 1.0, 1.0] is, in order:\n",
      "nu_react [[ 2.  0.  0.]\n",
      " [ 1.  0.  1.]\n",
      " [ 0.  1.  0.]\n",
      " [ 0.  1.  0.]\n",
      " [ 0.  0.  1.]]\n",
      "nu_prod [[ 1.  0.  0.]\n",
      " [ 0.  1.  0.]\n",
      " [ 2.  0.  1.]\n",
      " [ 0.  0.  1.]\n",
      " [ 0.  1.  0.]]\n",
      "nu [[-1.  0.  0.]\n",
      " [-1.  1. -1.]\n",
      " [ 2. -1.  1.]\n",
      " [ 0. -1.  1.]\n",
      " [ 0.  1. -1.]]\n",
      "[-3607077.87280406 -5613545.18362079  9220623.05642485  2006467.31081673\n",
      " -2006467.31081673]\n",
      "Progress rate for reactions at temperature 750 with concentrations [2.0, 1.0, 0.5, 1.0, 1.0] is:\n",
      "[ 3607077.87280406     5000.          2011467.31081673]\n"
     ]
    }
   ],
   "source": [
    "## CS 207 - Group 9\n",
    "## Demo for Project checkpoint 1\n",
    "## Reaction rate calculator\n",
    "\n",
    "from chemkin import *\n",
    "\n",
    "reader = xml2dict()\n",
    "file_path = input('Welcome to the Reaction Rate calculator. Input a valid xml file.')\n",
    "reader.parse(file_path)\n",
    "info = reader.get_info()\n",
    "\n",
    "reactions = [Reaction(**r) for r in info[1]]\n",
    "species=info[0]\n",
    "rs = ReactionSystem(reactions,species_ls= species)\n",
    "\n",
    "str_of_concs = input('input concentrations, separated by commas, in the following order: '+str(species))\n",
    "array_of_concs = [float(i) for i in str_of_concs.split(',')]\n",
    "concs = dict(zip(species,array_of_concs))\n",
    "print(concs)\n",
    "rs.set_concs(concs)\n",
    "\n",
    "temp_string = input('input non-negative temperature in Kelvins.')\n",
    "rs.set_temp(float(temp_string))\n",
    "\n",
    "rs.get_reac_rate()\n",
    "print('Reaction rate for species ',species,'at temperature', temp_string, 'with concentrations', array_of_concs,'is, in order:')\n",
    "print(rs.get_reac_rate())\n",
    "\n",
    "print('Progress rate for reactions at temperature', temp_string, 'with concentrations', array_of_concs,'is:')\n",
    "print(rs.get_progress_rate())\n"
   ]
  },
  {
   "cell_type": "code",
   "execution_count": null,
   "metadata": {},
   "outputs": [],
   "source": [
    "[-3607077.87280407 -5613545.1836208   9220623.05642486  2006467.31081673\n",
    " -2006467.31081673]\n",
    "[ -2.81117621e+08  -2.85597559e+08   5.66715180e+08   4.47993847e+06\n",
    "  -4.47993847e+06]\n",
    "[ -1.80426143e+09  -1.81043736e+09   3.61469878e+09   6.17593098e+06\n",
    "  -6.17593098e+06]\n",
    "concs = np.array([2.0, 1.0, 0.5, 1.0, 1.0])\n",
    "Temps = [750.0, 1500.0, 2500.0]\n"
   ]
  }
 ],
 "metadata": {
  "kernelspec": {
   "display_name": "Python 3",
   "language": "python",
   "name": "python3"
  },
  "language_info": {
   "codemirror_mode": {
    "name": "ipython",
    "version": 3
   },
   "file_extension": ".py",
   "mimetype": "text/x-python",
   "name": "python",
   "nbconvert_exporter": "python",
   "pygments_lexer": "ipython3",
   "version": "3.6.1"
  }
 },
 "nbformat": 4,
 "nbformat_minor": 2
}
