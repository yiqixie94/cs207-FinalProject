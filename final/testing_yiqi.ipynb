{
 "cells": [
  {
   "cell_type": "code",
   "execution_count": 1,
   "metadata": {
    "collapsed": true
   },
   "outputs": [],
   "source": [
    "import numpy as np\n",
    "from copy import deepcopy\n",
    "\n",
    "from useful_structure import PartialLockedDict\n",
    "from mathematical_science import MathModel\n",
    "from check_and_response import ValueCheck\n",
    "\n",
    "import CoeffLaw\n",
    "from Reaction import Reaction\n",
    "from xml2dict import xml2dict \n",
    "\n",
    "import sqlite3\n",
    "from database_query import *"
   ]
  },
  {
   "cell_type": "code",
   "execution_count": 2,
   "metadata": {
    "collapsed": true
   },
   "outputs": [],
   "source": [
    "nasa_query = CoeffQuery('nasa_thermo.sqlite')"
   ]
  },
  {
   "cell_type": "code",
   "execution_count": 3,
   "metadata": {
    "collapsed": true
   },
   "outputs": [],
   "source": [
    "from ReactionSystem import *"
   ]
  },
  {
   "cell_type": "code",
   "execution_count": 4,
   "metadata": {
    "collapsed": true
   },
   "outputs": [],
   "source": [
    "reactions = [ Reaction(reversible='yes', reactants={'H2':2,'O2':1}, products={'OH':2,'H2':1}) ]\n",
    "species = [ 'H2', 'O2', 'OH' ]\n",
    "rs = ReactionSystem(reactions, species, nasa_query, 2200)"
   ]
  },
  {
   "cell_type": "code",
   "execution_count": 5,
   "metadata": {},
   "outputs": [
    {
     "data": {
      "text/plain": [
       "array([[  2.34433112e+00,   7.98052075e-03,  -1.94781510e-05,\n",
       "          2.01572094e-08,  -7.37611761e-12,  -9.17935173e+02,\n",
       "          6.83010238e-01],\n",
       "       [  3.78245636e+00,  -2.99673416e-03,   9.84730201e-06,\n",
       "         -9.68129509e-09,   3.24372837e-12,  -1.06394356e+03,\n",
       "          3.65767573e+00],\n",
       "       [  3.99201543e+00,  -2.40131752e-03,   4.61793841e-06,\n",
       "         -3.88113333e-09,   1.36411470e-12,   3.61508056e+03,\n",
       "         -1.03925458e-01]])"
      ]
     },
     "execution_count": 5,
     "metadata": {},
     "output_type": "execute_result"
    }
   ],
   "source": [
    "a = rs.get_a()\n",
    "a"
   ]
  },
  {
   "cell_type": "code",
   "execution_count": 6,
   "metadata": {},
   "outputs": [
    {
     "data": {
      "text/plain": [
       "array([[-1.],\n",
       "       [-1.],\n",
       "       [ 2.]])"
      ]
     },
     "execution_count": 6,
     "metadata": {},
     "output_type": "execute_result"
    }
   ],
   "source": [
    "nu = rs.get_nu_2() - rs.get_nu_1()\n",
    "nu"
   ]
  },
  {
   "cell_type": "code",
   "execution_count": 7,
   "metadata": {},
   "outputs": [
    {
     "data": {
      "text/plain": [
       "array([ 1.00714881])"
      ]
     },
     "execution_count": 7,
     "metadata": {},
     "output_type": "execute_result"
    }
   ],
   "source": [
    "ke = BackwardLaw().equilibrium_coeffs(nu, a, 2200)\n",
    "ke"
   ]
  },
  {
   "cell_type": "code",
   "execution_count": 10,
   "metadata": {
    "collapsed": true
   },
   "outputs": [],
   "source": [
    "concs = dict(H2=2, O2=2, OH=2*np.sqrt(ke))\n",
    "rs.set_concs(concs)"
   ]
  },
  {
   "cell_type": "code",
   "execution_count": 14,
   "metadata": {},
   "outputs": [
    {
     "data": {
      "text/plain": [
       "array([ -1.77635684e-15,  -1.77635684e-15,   3.55271368e-15])"
      ]
     },
     "execution_count": 14,
     "metadata": {},
     "output_type": "execute_result"
    }
   ],
   "source": [
    "rs.get_reac_rate()"
   ]
  },
  {
   "cell_type": "code",
   "execution_count": 11,
   "metadata": {},
   "outputs": [
    {
     "data": {
      "text/plain": [
       "array([[  2.34433112e+00,   7.98052075e-03,  -1.94781510e-05,\n",
       "          2.01572094e-08,  -7.37611761e-12,  -9.17935173e+02,\n",
       "          6.83010238e-01],\n",
       "       [  3.78245636e+00,  -2.99673416e-03,   9.84730201e-06,\n",
       "         -9.68129509e-09,   3.24372837e-12,  -1.06394356e+03,\n",
       "          3.65767573e+00],\n",
       "       [  3.99201543e+00,  -2.40131752e-03,   4.61793841e-06,\n",
       "         -3.88113333e-09,   1.36411470e-12,   3.61508056e+03,\n",
       "         -1.03925458e-01]])"
      ]
     },
     "execution_count": 11,
     "metadata": {},
     "output_type": "execute_result"
    }
   ],
   "source": [
    "rs._a"
   ]
  },
  {
   "cell_type": "code",
   "execution_count": 12,
   "metadata": {},
   "outputs": [
    {
     "data": {
      "text/plain": [
       "(array([ 1.]), array([ 0.99290193]))"
      ]
     },
     "execution_count": 12,
     "metadata": {},
     "output_type": "execute_result"
    }
   ],
   "source": [
    "rs.get_reac_rate_coefs()"
   ]
  },
  {
   "cell_type": "code",
   "execution_count": null,
   "metadata": {
    "collapsed": true
   },
   "outputs": [],
   "source": []
  }
 ],
 "metadata": {
  "kernelspec": {
   "display_name": "Python 3",
   "language": "python",
   "name": "python3"
  },
  "language_info": {
   "codemirror_mode": {
    "name": "ipython",
    "version": 3
   },
   "file_extension": ".py",
   "mimetype": "text/x-python",
   "name": "python",
   "nbconvert_exporter": "python",
   "pygments_lexer": "ipython3",
   "version": "3.6.1"
  }
 },
 "nbformat": 4,
 "nbformat_minor": 2
}
