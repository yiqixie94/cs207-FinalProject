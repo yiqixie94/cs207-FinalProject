{
 "cells": [
  {
   "cell_type": "code",
   "execution_count": 1,
   "metadata": {
    "collapsed": true
   },
   "outputs": [],
   "source": [
    "import numpy as np\n",
    "from copy import deepcopy\n",
    "\n",
    "from useful_structure import PartialLockedDict\n",
    "from mathematical_science import MathModel\n",
    "from check_and_response import ValueCheck\n",
    "\n",
    "import CoeffLaw\n",
    "from Reaction import Reaction\n",
    "from xml2dict import xml2dict "
   ]
  },
  {
   "cell_type": "code",
   "execution_count": 2,
   "metadata": {},
   "outputs": [],
   "source": [
    "r = xml2dict()"
   ]
  },
  {
   "cell_type": "code",
   "execution_count": 3,
   "metadata": {},
   "outputs": [],
   "source": [
    "r.parse('rxns2.xml')"
   ]
  },
  {
   "cell_type": "code",
   "execution_count": 4,
   "metadata": {},
   "outputs": [
    {
     "data": {
      "text/plain": [
       "(['H2', 'O2', 'OH', 'HO2', 'H2O'],\n",
       " [{'ID': 'reaction01',\n",
       "   'TYPE': 'Elementary',\n",
       "   'coeffLaw': 'modArrhenius',\n",
       "   'coeffParams': {'A': 100000000.0, 'E': 50000.0, 'b': 0.5},\n",
       "   'products': {'H2': 1, 'OH': 2},\n",
       "   'reactants': {'H2': 2, 'O2': 1},\n",
       "   'reversible': 'no'},\n",
       "  {'ID': 'reaction02',\n",
       "   'TYPE': 'Elementary',\n",
       "   'coeffLaw': 'Constant',\n",
       "   'coeffParams': {'k': 10000.0},\n",
       "   'products': {'H2O': 1, 'O2': 1},\n",
       "   'reactants': {'HO2': 1, 'OH': 1},\n",
       "   'reversible': 'no'},\n",
       "  {'ID': 'reaction03',\n",
       "   'TYPE': 'Elementary',\n",
       "   'coeffLaw': 'Arrhenius',\n",
       "   'coeffParams': {'A': 10000000.0, 'E': 10000.0},\n",
       "   'products': {'O': 1, 'OH': 1},\n",
       "   'reactants': {'H': 1, 'O2': 1},\n",
       "   'reversible': 'no'}])"
      ]
     },
     "execution_count": 4,
     "metadata": {},
     "output_type": "execute_result"
    }
   ],
   "source": [
    "r.get_info()"
   ]
  },
  {
   "cell_type": "code",
   "execution_count": 5,
   "metadata": {},
   "outputs": [],
   "source": [
    "some_reaction = Reaction(**r.get_info()[1][0])"
   ]
  },
  {
   "cell_type": "code",
   "execution_count": 6,
   "metadata": {},
   "outputs": [
    {
     "name": "stdout",
     "output_type": "stream",
     "text": [
      "========================================\n",
      "Reaction Equation:\n",
      "2H2 + 1O2 =] 2OH + 1H2\n",
      "----------------------------------------\n",
      "Reaction Info:\n",
      "reversible: False\n",
      "TYPE: Elementary\n",
      "ID: reaction01\n",
      "coeffLaw: modArrhenius\n",
      "coeffParams: {'A': 100000000.0, 'b': 0.5, 'E': 50000.0, 'R': 8.314}\n",
      "coeffUnits: {}\n",
      "reactants: {'H2': 2, 'O2': 1}\n",
      "products: {'OH': 2, 'H2': 1}\n",
      "========================================\n"
     ]
    }
   ],
   "source": [
    "print(some_reaction)"
   ]
  },
  {
   "cell_type": "code",
   "execution_count": 7,
   "metadata": {},
   "outputs": [
    {
     "data": {
      "text/plain": [
       "316037645319.1354"
      ]
     },
     "execution_count": 7,
     "metadata": {},
     "output_type": "execute_result"
    }
   ],
   "source": [
    "some_reaction.rateCoeff(T=1e7)"
   ]
  },
  {
   "cell_type": "code",
   "execution_count": 8,
   "metadata": {},
   "outputs": [
    {
     "data": {
      "text/plain": [
       "{'id': ''}"
      ]
     },
     "execution_count": 8,
     "metadata": {},
     "output_type": "execute_result"
    }
   ],
   "source": [
    "dict(id='')"
   ]
  },
  {
   "cell_type": "code",
   "execution_count": null,
   "metadata": {
    "collapsed": true
   },
   "outputs": [],
   "source": []
  }
 ],
 "metadata": {
  "kernelspec": {
   "display_name": "Python 3",
   "language": "python",
   "name": "python3"
  },
  "language_info": {
   "codemirror_mode": {
    "name": "ipython",
    "version": 3
   },
   "file_extension": ".py",
   "mimetype": "text/x-python",
   "name": "python",
   "nbconvert_exporter": "python",
   "pygments_lexer": "ipython3",
   "version": "3.6.1"
  }
 },
 "nbformat": 4,
 "nbformat_minor": 2
}
