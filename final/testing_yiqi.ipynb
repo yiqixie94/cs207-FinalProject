{
 "cells": [
  {
   "cell_type": "code",
   "execution_count": 1,
   "metadata": {},
   "outputs": [],
   "source": [
    "import numpy as np\n",
    "from copy import deepcopy\n",
    "\n",
    "from useful_structure import PartialLockedDict\n",
    "from mathematical_science import MathModel\n",
    "from check_and_response import ValueCheck\n",
    "\n",
    "import CoeffLaw\n",
    "from Reaction import Reaction\n",
    "from xml2dict import xml2dict \n",
    "\n",
    "import sqlite3\n",
    "from database_query import *\n",
    "from test_database_query import *\n",
    "\n",
    "import test_Reaction"
   ]
  },
  {
   "cell_type": "code",
   "execution_count": 3,
   "metadata": {
    "collapsed": true
   },
   "outputs": [],
   "source": [
    "test_Reaction.test_info()"
   ]
  }
 ],
 "metadata": {
  "kernelspec": {
   "display_name": "Python 3",
   "language": "python",
   "name": "python3"
  },
  "language_info": {
   "codemirror_mode": {
    "name": "ipython",
    "version": 3
   },
   "file_extension": ".py",
   "mimetype": "text/x-python",
   "name": "python",
   "nbconvert_exporter": "python",
   "pygments_lexer": "ipython3",
   "version": "3.6.1"
  }
 },
 "nbformat": 4,
 "nbformat_minor": 2
}
