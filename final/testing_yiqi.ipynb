{
 "cells": [
  {
   "cell_type": "code",
   "execution_count": 1,
   "metadata": {
    "collapsed": true
   },
   "outputs": [],
   "source": [
    "import numpy as np\n",
    "\n",
    "import CoeffLaw\n",
    "from Reaction import Reaction\n",
    "from ReactionSystem import ReactionSystem\n",
    "\n",
    "import sqlite3\n",
    "from xml2dict import xml2dict\n",
    "from database_query import CoeffQuery"
   ]
  },
  {
   "cell_type": "code",
   "execution_count": 2,
   "metadata": {
    "scrolled": true
   },
   "outputs": [],
   "source": [
    "reader = xml2dict()\n",
    "reader.parse('rxns_reversible.xml')\n",
    "info = reader.get_info()\n",
    "\n",
    "nasa_query = CoeffQuery('nasa_thermo.sqlite')"
   ]
  },
  {
   "cell_type": "code",
   "execution_count": 3,
   "metadata": {},
   "outputs": [
    {
     "name": "stdout",
     "output_type": "stream",
     "text": [
      "========================================\n",
      "Reaction Equation:\n",
      "1H + 1O2 [=] 1O + 1OH\n",
      "----------------------------------------\n",
      "Reaction Info:\n",
      "ID: reaction01\n",
      "TYPE: Elementary\n",
      "reversible: True\n",
      "coeffLaw: modifiedArrhenius\n",
      "coeffParams: [('A', 3547000000000000.0), ('E', 16599.0), ('R', 8.314), ('b', -0.406)]\n",
      "coeffUnits: []\n",
      "========================================\n"
     ]
    }
   ],
   "source": [
    "species = info[0]\n",
    "reactions = [Reaction(**r) for r in info[1]]\n",
    "print(reactions[0])"
   ]
  },
  {
   "cell_type": "code",
   "execution_count": 4,
   "metadata": {},
   "outputs": [
    {
     "data": {
      "text/plain": [
       "array([  6.11555529e-02,   1.15378232e+00,   3.50371252e+01,\n",
       "         3.29302792e-02,   3.93625529e+07,   2.77742942e+06,\n",
       "         4.54158174e+07,   1.37915069e+09,   7.21140169e+10,\n",
       "         7.41051158e+02,   8.55011722e+02])"
      ]
     },
     "execution_count": 4,
     "metadata": {},
     "output_type": "execute_result"
    }
   ],
   "source": [
    "T = 1500\n",
    "concs = dict(\n",
    "    H=2, O=1, OH=0.5, H2=1,\n",
    "    H2O=1, O2=1, HO2=0.5, H2O2=1)\n",
    "reaction_sys = ReactionSystem(\n",
    "    reactions, species, nasa_query, \n",
    "    initial_T=T, initial_concs=concs)\n",
    "\n",
    "ke = CoeffLaw.BackwardLaw().equilibrium_coeffs(\n",
    "    reaction_sys.get_nu_2() - reaction_sys.get_nu_1(), \n",
    "    reaction_sys.get_a(), T)\n",
    "ke"
   ]
  },
  {
   "cell_type": "code",
   "execution_count": 5,
   "metadata": {},
   "outputs": [
    {
     "data": {
      "text/plain": [
       "array([  6.11555529e-02,   1.15378232e+00,   3.50371252e+01,\n",
       "         3.29302792e-02,   3.93625529e+07,   2.77742942e+06,\n",
       "         4.54158174e+07,   1.37915069e+09,   7.21140169e+10,\n",
       "         7.41051158e+02,   8.55011722e+02])"
      ]
     },
     "execution_count": 5,
     "metadata": {},
     "output_type": "execute_result"
    }
   ],
   "source": [
    "kf, kb = reaction_sys.get_reac_rate_coefs()\n",
    "ke = kf / kb\n",
    "ke"
   ]
  },
  {
   "cell_type": "code",
   "execution_count": 6,
   "metadata": {},
   "outputs": [
    {
     "data": {
      "text/plain": [
       "array([[  2.50000001e+00,  -2.30842973e-11,   1.61561948e-14,\n",
       "         -4.73515235e-18,   4.98197357e-22,   2.54736599e+04,\n",
       "         -4.46682914e-01],\n",
       "       [  2.56942078e+00,  -8.59741137e-05,   4.19484589e-08,\n",
       "         -1.00177799e-11,   1.22833691e-15,   2.92175791e+04,\n",
       "          4.78433864e+00],\n",
       "       [  3.09288767e+00,   5.48429716e-04,   1.26505228e-07,\n",
       "         -8.79461556e-11,   1.17412376e-14,   3.85865700e+03,\n",
       "          4.47669610e+00],\n",
       "       [  3.33727920e+00,  -4.94024731e-05,   4.99456778e-07,\n",
       "         -1.79566394e-10,   2.00255376e-14,  -9.50158922e+02,\n",
       "         -3.20502331e+00],\n",
       "       [  3.03399249e+00,   2.17691804e-03,  -1.64072518e-07,\n",
       "         -9.70419870e-11,   1.68200992e-14,  -3.00042971e+04,\n",
       "          4.96677010e+00],\n",
       "       [  3.28253784e+00,   1.48308754e-03,  -7.57966669e-07,\n",
       "          2.09470555e-10,  -2.16717794e-14,  -1.08845772e+03,\n",
       "          5.45323129e+00],\n",
       "       [  4.01721090e+00,   2.23982013e-03,  -6.33658150e-07,\n",
       "          1.14246370e-10,  -1.07908535e-14,   1.11856713e+02,\n",
       "          3.78510215e+00],\n",
       "       [  4.16500285e+00,   4.90831694e-03,  -1.90139225e-06,\n",
       "          3.71185986e-10,  -2.87908305e-14,  -1.78617877e+04,\n",
       "          2.91615662e+00]])"
      ]
     },
     "execution_count": 6,
     "metadata": {},
     "output_type": "execute_result"
    }
   ],
   "source": [
    "reaction_sys.get_a()"
   ]
  },
  {
   "cell_type": "code",
   "execution_count": 7,
   "metadata": {},
   "outputs": [
    {
     "data": {
      "text/plain": [
       "array([  1.32279655e+14,  -3.12877268e+14,  -1.37621783e+14,\n",
       "         6.07049182e+13,   6.45299057e+13,   3.36486899e+14,\n",
       "        -4.18771320e+13,  -1.01625194e+14])"
      ]
     },
     "execution_count": 7,
     "metadata": {},
     "output_type": "execute_result"
    }
   ],
   "source": [
    "reaction_sys.get_reac_rate()"
   ]
  },
  {
   "cell_type": "code",
   "execution_count": 10,
   "metadata": {},
   "outputs": [
    {
     "data": {
      "text/plain": [
       "array([  8.37240608e-01,   1.63324159e+00,   3.01623159e+00,\n",
       "         5.41484147e-01,   3.09491259e+03,   4.23203356e+03,\n",
       "         5.05473996e+03,   9.33497312e+03,   4.24377782e+05,\n",
       "         3.32459580e+01,   5.42986813e+01])"
      ]
     },
     "execution_count": 10,
     "metadata": {},
     "output_type": "execute_result"
    }
   ],
   "source": [
    "T = 3000\n",
    "concs = dict(\n",
    "    H=2, O=1, OH=0.5, H2=1,\n",
    "    H2O=1, O2=1, HO2=0.5, H2O2=1)\n",
    "reaction_sys = ReactionSystem(\n",
    "    reactions, species, nasa_query, \n",
    "    initial_T=T, initial_concs=concs)\n",
    "\n",
    "kf, kb = reaction_sys.get_reac_rate_coefs()\n",
    "ke = kf / kb\n",
    "ke"
   ]
  },
  {
   "cell_type": "code",
   "execution_count": 11,
   "metadata": {},
   "outputs": [
    {
     "data": {
      "text/plain": [
       "array([ -2.71830749e+14,  -2.93961040e+13,   4.16606388e+14,\n",
       "         6.16549019e+13,   3.31414094e+13,  -5.94443978e+13,\n",
       "         3.29053644e+13,  -1.83636813e+14])"
      ]
     },
     "execution_count": 11,
     "metadata": {},
     "output_type": "execute_result"
    }
   ],
   "source": [
    "reaction_sys.get_reac_rate()"
   ]
  },
  {
   "cell_type": "code",
   "execution_count": 8,
   "metadata": {},
   "outputs": [
    {
     "data": {
      "text/plain": [
       "array([ -2.95046638e+14,   1.42111693e+12,   4.55499295e+12,\n",
       "        -1.73976060e+13,   1.55399358e+13,   6.91352053e+13,\n",
       "         1.62499996e+13,   7.51873184e+12,   3.50592007e+13,\n",
       "         5.09434918e+13,   1.56247770e+13])"
      ]
     },
     "execution_count": 8,
     "metadata": {},
     "output_type": "execute_result"
    }
   ],
   "source": [
    "reaction_sys.get_progress_rate()"
   ]
  },
  {
   "cell_type": "code",
   "execution_count": null,
   "metadata": {
    "collapsed": true
   },
   "outputs": [],
   "source": []
  }
 ],
 "metadata": {
  "kernelspec": {
   "display_name": "Python 3",
   "language": "python",
   "name": "python3"
  },
  "language_info": {
   "codemirror_mode": {
    "name": "ipython",
    "version": 3
   },
   "file_extension": ".py",
   "mimetype": "text/x-python",
   "name": "python",
   "nbconvert_exporter": "python",
   "pygments_lexer": "ipython3",
   "version": "3.6.1"
  }
 },
 "nbformat": 4,
 "nbformat_minor": 2
}
