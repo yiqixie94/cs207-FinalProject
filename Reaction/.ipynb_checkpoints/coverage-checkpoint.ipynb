{
 "cells": [
  {
   "cell_type": "code",
   "execution_count": 9,
   "metadata": {},
   "outputs": [
    {
     "name": "stdout",
     "output_type": "stream",
     "text": [
      "\u001b[1m============================= test session starts ==============================\u001b[0m\n",
      "platform darwin -- Python 3.6.1, pytest-3.0.7, py-1.4.33, pluggy-0.4.0\n",
      "rootdir: /Users/shell/Documents/GitHub/cs207-FinalProject, inifile: setup.cfg\n",
      "plugins: cov-2.5.1\n",
      "collected 15 items \u001b[0m\u001b[1m\n",
      "\u001b[0m\n",
      "CoeffLaw.py ...\n",
      "Reaction.py ..\n",
      "check_and_response.py .\n",
      "mathematical_science.py .\n",
      "test_Reaction.py ........Coverage.py warning: Module roots was never imported. (module-not-imported)\n",
      "Coverage.py warning: No data was collected. (no-data-collected)\n",
      "\n",
      "\n",
      "\u001b[32m\u001b[1m========================== 15 passed in 0.24 seconds ===========================\u001b[0m\n",
      "ERROR: Failed to generate report: No data to report.\n",
      "\n"
     ]
    }
   ],
   "source": [
    "!pytest --doctest-modules"
   ]
  },
  {
   "cell_type": "code",
   "execution_count": 10,
   "metadata": {},
   "outputs": [
    {
     "name": "stdout",
     "output_type": "stream",
     "text": [
      "\u001b[1m============================= test session starts ==============================\u001b[0m\n",
      "platform darwin -- Python 3.6.1, pytest-3.0.7, py-1.4.33, pluggy-0.4.0\n",
      "rootdir: /Users/shell/Documents/GitHub/cs207-FinalProject, inifile: setup.cfg\n",
      "plugins: cov-2.5.1\n",
      "collected 15 items \u001b[0m\u001b[1m\n",
      "\u001b[0m\n",
      "CoeffLaw.py ...\n",
      "Reaction.py ..\n",
      "check_and_response.py .\n",
      "mathematical_science.py .\n",
      "test_Reaction.py ........\n",
      "\n",
      "---------- coverage: platform darwin, python 3.6.1-final-0 -----------\n",
      "Name                      Stmts   Miss  Cover   Missing\n",
      "-------------------------------------------------------\n",
      "CoeffLaw.py                  55      1    98%   75\n",
      "Reaction.py                  72      1    99%   350\n",
      "check_and_response.py         7      0   100%\n",
      "mathematical_science.py      20      2    90%   106, 120\n",
      "test_Reaction.py            102      0   100%\n",
      "useful_structure.py          33      4    88%   74, 78, 82, 86\n",
      "-------------------------------------------------------\n",
      "TOTAL                       289      8    97%\n",
      "\n",
      "\n",
      "\u001b[32m\u001b[1m========================== 15 passed in 0.28 seconds ===========================\u001b[0m\n"
     ]
    }
   ],
   "source": [
    "!pytest --cov --cov-report term-missing"
   ]
  },
  {
   "cell_type": "code",
   "execution_count": null,
   "metadata": {
    "collapsed": true
   },
   "outputs": [],
   "source": []
  }
 ],
 "metadata": {
  "kernelspec": {
   "display_name": "Python 3",
   "language": "python",
   "name": "python3"
  },
  "language_info": {
   "codemirror_mode": {
    "name": "ipython",
    "version": 3
   },
   "file_extension": ".py",
   "mimetype": "text/x-python",
   "name": "python",
   "nbconvert_exporter": "python",
   "pygments_lexer": "ipython3",
   "version": "3.6.1"
  }
 },
 "nbformat": 4,
 "nbformat_minor": 2
}
