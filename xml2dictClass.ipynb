{
 "cells": [
  {
   "cell_type": "code",
   "execution_count": 51,
   "metadata": {},
   "outputs": [
    {
     "name": "stdout",
     "output_type": "stream",
     "text": [
      "Overwriting xml2dictClass.py\n"
     ]
    }
   ],
   "source": [
    "%%file xml2dictClass.py\n",
    "\n",
    "#Written by Baptiste Lemaire\n",
    "import xml.etree.ElementTree as ET\n",
    "\n",
    "class xml2dict:\n",
    "\"\"\"\n",
    "    xml2dict turns an XML file into a array of all the species involved into the system of\n",
    "    reactions and a list of dictionaries. This latter contains a dictionary for every single \n",
    "    reaction of the system of reactions. Each dictionary contains the information about the \n",
    "    reactants, the products, the stoichiometric coefficients and the kinetic law for the \n",
    "    reaction constant (Arrhenius Law, Modified Arrhenius Law, Constant Law, and so forth).\n",
    "    where list of dictionary Reaction keeps all the infomation from one given reaction. It also helps to select \n",
    "    the right law function, as attribute rateCoeff, to compute the reaction rate coefficient \n",
    "    based on the classification of the given reaction. In the inner class _CoeffLaws several \n",
    "    laws including constant coeffs, Arrhenius coeffs and Modified Arrhenius coeffs have been \n",
    "    implemented, and _CoeffLaws forms up a dict-like structure to manage them.\n",
    "    \n",
    "    \n",
    "    INPUTS\n",
    "    ======\n",
    "    \n",
    "    file: XML file.\n",
    "          The format of the this input file must follow\n",
    "          the format given by Prof. David Sondak.\n",
    "          \n",
    "    METHODS\n",
    "    =======\n",
    "    \n",
    "    parse(self, file): \n",
    "        extract all the information contained into the XML file provided by\n",
    "        the user, namely the names of all the species involved in the system\n",
    "        of reactions, stored into the array self.Species, and all the information\n",
    "        about every reaction, stored into self.ListDictionaries\n",
    "        \n",
    "    get_info(self):\n",
    "        return the array self.Species containing the names of the species involved\n",
    "        and the list of dictionaries self.ListDictionaries\n",
    "        OUTPUTS: self.Species, self.ListDictionaries\n",
    "           \n",
    "    __repr__(self):\n",
    "        return a wrapped dict of all params, namely str(self._params)\n",
    "        OUTPUTS: representational str, valid input for eval()\n",
    "        \n",
    "    __str__(self):\n",
    "        return a str to show the contents of self. \n",
    "        when printed out, there will be two parts:\n",
    "            the reaction equation, in a chemistry convention\n",
    "            the params list, in a 'param name: param value' fashion\n",
    "        OUTPUTS: descriptive str\n",
    "    \n",
    "    \n",
    "    EXAMPLES\n",
    "    =========\n",
    "    >>> r = Reaction( \\\n",
    "            reactants=dict(H=1,O2=1), \\\n",
    "            products=dict(OH=1,H=1), \\\n",
    "            coeffLaw='Arrhenius', \\\n",
    "            coeffParams=dict(A=np.e, E=8.314)\\\n",
    "        )\n",
    "    >>> r.rateCoeff(T=1.0)\n",
    "    1.0\n",
    "    >>> r.getReactants()\n",
    "    {'H': 1, 'O2': 1}\n",
    "    >>> r.set_params(reactants=dict(H=2,O2=2)).getReactants()\n",
    "    {'H': 2, 'O2': 2}\n",
    "    \n",
    "    \"\"\"\n",
    "    def parse(self, file):\n",
    "        self.file = file\n",
    "        tree = ET.parse(file)\n",
    "        root = tree.getroot()\n",
    "\n",
    "        SpeciesArray=root.find('phase').find('speciesArray')\n",
    "        self.Species = SpeciesArray.text.strip().split(\" \")\n",
    "    \n",
    "        self.ListDictionaries = []\n",
    "    \n",
    "        #Now: go through every reaction to read the features:\n",
    "    \n",
    "        for reaction in root.find('reactionData').findall('reaction'):\n",
    "        \n",
    "            #Initialization of the variables\n",
    "        \n",
    "            Dict = {}\n",
    "            reactants = []\n",
    "            products = []\n",
    "            Nup = []\n",
    "            Nupp = []\n",
    "            ListCoeffUnits = []\n",
    "        \n",
    "            ListReactants = reaction.find('reactants').text.split()\n",
    "            for elementsR in ListReactants:\n",
    "                specie, nu = elementsR.split(':')\n",
    "                reactants.append(specie)\n",
    "                Nup.append(int(nu))\n",
    "            ListProducts = reaction.find('products').text.split()\n",
    "            for elementsP in ListProducts:\n",
    "                specie, nu = elementsP.split(':')\n",
    "                products.append(specie)\n",
    "                Nupp.append(int(nu))\n",
    "            for name in reaction.find('rateCoeff'):\n",
    "                Law = name.tag\n",
    "                ListCoeffTag = []\n",
    "                ListCoeffValue = []\n",
    "                for coeff in name:\n",
    "                    ListCoeffTag.append(coeff.tag)\n",
    "                    ListCoeffValue.append(float(coeff.text))\n",
    "                    if len(coeff.attrib) != 0:\n",
    "                        ListCoeffUnits.append(coeff.attrib['units'])\n",
    "                    else:\n",
    "                        ListCoeffUnits.append('dimensionless')\n",
    "            Dict['coeffParams'] = dict(zip(ListCoeffTag, ListCoeffValue))\n",
    "            Dict['coeffUnits'] = dict(zip(ListCoeffTag,ListCoeffUnits))\n",
    "            Dict['id'] = reaction.attrib['id']\n",
    "            Dict['reversible'] = reaction.attrib['reversible']\n",
    "            Dict['type'] = reaction.attrib['type']\n",
    "            Dict['reactants'] = dict(zip(reactants, Nup))\n",
    "            Dict['products'] = dict(zip(products, Nupp))\n",
    "            Dict['coeffLaw'] = Law\n",
    "            self.ListDictionaries.append(Dict)\n",
    "    \n",
    "    def get_info(self):\n",
    "        return self.Species, self.ListDictionaries\n",
    "    \n",
    "    def __repr__(self):\n",
    "        return str(self.Species)+str(self.ListDictionaries)\n",
    "\n"
   ]
  },
  {
   "cell_type": "code",
   "execution_count": 52,
   "metadata": {},
   "outputs": [],
   "source": [
    "from xml2dictClass import xml2dict\n",
    "\n",
    "reader = xml2dict()"
   ]
  },
  {
   "cell_type": "code",
   "execution_count": 53,
   "metadata": {},
   "outputs": [],
   "source": [
    "reader.parse('rxns2.xml')"
   ]
  },
  {
   "cell_type": "code",
   "execution_count": 55,
   "metadata": {},
   "outputs": [
    {
     "ename": "AttributeError",
     "evalue": "'xml2dict' object has no attribute 'get_info'",
     "output_type": "error",
     "traceback": [
      "\u001b[0;31m---------------------------------------------------------------------------\u001b[0m",
      "\u001b[0;31mAttributeError\u001b[0m                            Traceback (most recent call last)",
      "\u001b[0;32m<ipython-input-55-a52d5e26e134>\u001b[0m in \u001b[0;36m<module>\u001b[0;34m()\u001b[0m\n\u001b[0;32m----> 1\u001b[0;31m \u001b[0mreader\u001b[0m\u001b[0;34m.\u001b[0m\u001b[0mget_info\u001b[0m\u001b[0;34m(\u001b[0m\u001b[0;34m)\u001b[0m\u001b[0;34m\u001b[0m\u001b[0m\n\u001b[0m",
      "\u001b[0;31mAttributeError\u001b[0m: 'xml2dict' object has no attribute 'get_info'"
     ]
    }
   ],
   "source": [
    "reader.get_info()"
   ]
  },
  {
   "cell_type": "code",
   "execution_count": 37,
   "metadata": {},
   "outputs": [
    {
     "name": "stdout",
     "output_type": "stream",
     "text": [
      "1 items had no tests:\n",
      "    __main__\n",
      "0 tests in 1 items.\n",
      "0 passed and 0 failed.\n",
      "Test passed.\n"
     ]
    },
    {
     "data": {
      "text/plain": [
       "TestResults(failed=0, attempted=0)"
      ]
     },
     "execution_count": 37,
     "metadata": {},
     "output_type": "execute_result"
    }
   ],
   "source": [
    "import doctest\n",
    "doctest.testmod(verbose=True)"
   ]
  },
  {
   "cell_type": "code",
   "execution_count": 79,
   "metadata": {},
   "outputs": [
    {
     "data": {
      "text/plain": [
       "(['H2', 'O2', 'OH', 'HO2', 'H2O'],\n",
       " [{'Law': 'modArrhenius',\n",
       "   'coeff_names': ['A', 'b', 'E'],\n",
       "   'coeff_units': ['m3/mol/s', 'dimensionless', 'J/mol'],\n",
       "   'coeff_values': [100000000.0, 0.5, 50000.0],\n",
       "   'id': 'reaction01',\n",
       "   'nup': [2, 1],\n",
       "   'nupp': [2, 1],\n",
       "   'products': ['OH', 'H2'],\n",
       "   'reactants': ['H2', 'O2'],\n",
       "   'reversible': 'yes',\n",
       "   'type': 'Elementary'},\n",
       "  {'Law': 'Constant',\n",
       "   'coeff_names': ['k'],\n",
       "   'coeff_units': ['m3/mol/s'],\n",
       "   'coeff_values': [10000.0],\n",
       "   'id': 'reaction02',\n",
       "   'nup': [1, 1],\n",
       "   'nupp': [1, 1],\n",
       "   'products': ['H2O', 'O2'],\n",
       "   'reactants': ['OH', 'HO2'],\n",
       "   'reversible': 'yes',\n",
       "   'type': 'Elementary'},\n",
       "  {'Law': 'Arrhenius',\n",
       "   'coeff_names': ['A', 'E'],\n",
       "   'coeff_units': ['m3/mol/s', 'J/mol'],\n",
       "   'coeff_values': [10000000.0, 10000.0],\n",
       "   'id': 'reaction03',\n",
       "   'nup': [1, 1],\n",
       "   'nupp': [1, 1],\n",
       "   'products': ['OH', 'O'],\n",
       "   'reactants': ['H', 'O2'],\n",
       "   'reversible': 'yes',\n",
       "   'type': 'Elementary'}])"
      ]
     },
     "execution_count": 79,
     "metadata": {},
     "output_type": "execute_result"
    }
   ],
   "source": [
    "xml2dict('rxns2.xml')"
   ]
  }
 ],
 "metadata": {
  "kernelspec": {
   "display_name": "Python 3",
   "language": "python",
   "name": "python3"
  },
  "language_info": {
   "codemirror_mode": {
    "name": "ipython",
    "version": 3
   },
   "file_extension": ".py",
   "mimetype": "text/x-python",
   "name": "python",
   "nbconvert_exporter": "python",
   "pygments_lexer": "ipython3",
   "version": "3.6.1"
  }
 },
 "nbformat": 4,
 "nbformat_minor": 2
}
