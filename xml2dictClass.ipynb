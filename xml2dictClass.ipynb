{
 "cells": [
  {
   "cell_type": "code",
   "execution_count": 32,
   "metadata": {},
   "outputs": [
    {
     "name": "stdout",
     "output_type": "stream",
     "text": [
      "Overwriting xml2dictClass.py\n"
     ]
    }
   ],
   "source": [
    "%%file xml2dictClass.py\n",
    "\n",
    "#Written by Baptiste Lemaire\n",
    "import xml.etree.ElementTree as ET\n",
    "\n",
    "class xml2dict:\n",
    "    \n",
    "    \"\"\"Read the XML file of the reactions and returns a list of dictionaries with \n",
    "       the features of every reaction, and an array of all the species involved.\n",
    "       \n",
    "    INPUTS\n",
    "    ======\n",
    "    file : XML file. \n",
    "           The format of the this input file must follow\n",
    "           the format given by Prof. David Sondak.\n",
    "    \n",
    "    RETURNS\n",
    "    =======\n",
    "    Species: array of strings. \n",
    "    \n",
    "    ListDictionaries: list of dictionaries.\n",
    "                      Includes all the parameters of the reactions provided in XML files.\n",
    "             \n",
    "    EXAMPLES\n",
    "    ========\n",
    "    >>> xml2dict('rxns.xml')\n",
    "    (['H', 'O', 'OH', 'H2', 'O2'], [{'coeffParams': {'A': 35200000000.0, 'b': -0.7, 'E': 71400.0}, 'coeffUnits': {'A': 'm3/mol/s', 'b': 'dimensionless', 'E': 'J/mol'}, 'id': 'reaction01', 'reversible': 'yes', 'type': 'Elementary', 'reactants': {'H': 1, 'O2': 1}, 'products': {'OH': 1, 'O': 1}, 'coeffLaw': 'Arrhenius'}, {'coeffParams': {'A': 0.0506, 'b': 2.7, 'E': 26300.0}, 'coeffUnits': {'A': 'm3/mol/s', 'b': 'dimensionless', 'E': 'J/mol'}, 'id': 'reaction02', 'reversible': 'yes', 'type': 'Elementary', 'reactants': {'H2': 1, 'O': 1}, 'products': {'OH': 1, 'H': 1}, 'coeffLaw': 'Arrhenius'}])    \n",
    "    \"\"\"\n",
    "    \n",
    "    def parse(self, file):\n",
    "        self.file = file\n",
    "        tree = ET.parse(file)\n",
    "        root = tree.getroot()\n",
    "\n",
    "        SpeciesArray=root.find('phase').find('speciesArray')\n",
    "        self.Species = SpeciesArray.text.strip().split(\" \")\n",
    "    \n",
    "        self.ListDictionaries = []\n",
    "    \n",
    "        #Now: go through every reaction to read the features:\n",
    "    \n",
    "        for reaction in root.find('reactionData').findall('reaction'):\n",
    "        \n",
    "            #Initialization of the variables\n",
    "        \n",
    "            Dict = {}\n",
    "            reactants = []\n",
    "            products = []\n",
    "            Nup = []\n",
    "            Nupp = []\n",
    "            ListCoeffUnits = []\n",
    "        \n",
    "            ListReactants = reaction.find('reactants').text.split()\n",
    "            for elementsR in ListReactants:\n",
    "                specie, nu = elementsR.split(':')\n",
    "                reactants.append(specie)\n",
    "                Nup.append(int(nu))\n",
    "            ListProducts = reaction.find('products').text.split()\n",
    "            for elementsP in ListProducts:\n",
    "                specie, nu = elementsP.split(':')\n",
    "                products.append(specie)\n",
    "                Nupp.append(int(nu))\n",
    "            for name in reaction.find('rateCoeff'):\n",
    "                Law = name.tag\n",
    "                ListCoeffTag = []\n",
    "                ListCoeffValue = []\n",
    "                for coeff in name:\n",
    "                    ListCoeffTag.append(coeff.tag)\n",
    "                    ListCoeffValue.append(float(coeff.text))\n",
    "                    if len(coeff.attrib) != 0:\n",
    "                        ListCoeffUnits.append(coeff.attrib['units'])\n",
    "                    else:\n",
    "                        ListCoeffUnits.append('dimensionless')\n",
    "            Dict['coeffParams'] = dict(zip(ListCoeffTag, ListCoeffValue))\n",
    "            Dict['coeffUnits'] = dict(zip(ListCoeffTag,ListCoeffUnits))\n",
    "            Dict['id'] = reaction.attrib['id']\n",
    "            Dict['reversible'] = reaction.attrib['reversible']\n",
    "            Dict['type'] = reaction.attrib['type']\n",
    "            Dict['reactants'] = dict(zip(reactants, Nup))\n",
    "            Dict['products'] = dict(zip(products, Nupp))\n",
    "            Dict['coeffLaw'] = Law\n",
    "            self.ListDictionaries.append(Dict)\n",
    "    \n",
    "    def getParams(self):\n",
    "        return self.Species, self.ListDictionaries\n",
    "\n"
   ]
  },
  {
   "cell_type": "code",
   "execution_count": 34,
   "metadata": {},
   "outputs": [],
   "source": [
    "from xml2dictClass import xml2dict\n",
    "\n",
    "bonsoir = xml2dict()"
   ]
  },
  {
   "cell_type": "code",
   "execution_count": 35,
   "metadata": {},
   "outputs": [],
   "source": [
    "bonsoir.parse('rxns2.xml')"
   ]
  },
  {
   "cell_type": "code",
   "execution_count": 36,
   "metadata": {},
   "outputs": [
    {
     "data": {
      "text/plain": [
       "(['H2', 'O2', 'OH', 'HO2', 'H2O'],\n",
       " [{'coeffLaw': 'modArrhenius',\n",
       "   'coeffParams': {'A': 100000000.0, 'E': 50000.0, 'b': 0.5},\n",
       "   'coeffUnits': {'A': 'm3/mol/s', 'E': 'J/mol', 'b': 'dimensionless'},\n",
       "   'id': 'reaction01',\n",
       "   'products': {'H2': 1, 'OH': 2},\n",
       "   'reactants': {'H2': 2, 'O2': 1},\n",
       "   'reversible': 'yes',\n",
       "   'type': 'Elementary'},\n",
       "  {'coeffLaw': 'Constant',\n",
       "   'coeffParams': {'k': 10000.0},\n",
       "   'coeffUnits': {'k': 'm3/mol/s'},\n",
       "   'id': 'reaction02',\n",
       "   'products': {'H2O': 1, 'O2': 1},\n",
       "   'reactants': {'HO2': 1, 'OH': 1},\n",
       "   'reversible': 'yes',\n",
       "   'type': 'Elementary'},\n",
       "  {'coeffLaw': 'Arrhenius',\n",
       "   'coeffParams': {'A': 10000000.0, 'E': 10000.0},\n",
       "   'coeffUnits': {'A': 'm3/mol/s', 'E': 'J/mol'},\n",
       "   'id': 'reaction03',\n",
       "   'products': {'O': 1, 'OH': 1},\n",
       "   'reactants': {'H': 1, 'O2': 1},\n",
       "   'reversible': 'yes',\n",
       "   'type': 'Elementary'}])"
      ]
     },
     "execution_count": 36,
     "metadata": {},
     "output_type": "execute_result"
    }
   ],
   "source": [
    "bonsoir.getParams()"
   ]
  },
  {
   "cell_type": "code",
   "execution_count": 37,
   "metadata": {},
   "outputs": [
    {
     "name": "stdout",
     "output_type": "stream",
     "text": [
      "1 items had no tests:\n",
      "    __main__\n",
      "0 tests in 1 items.\n",
      "0 passed and 0 failed.\n",
      "Test passed.\n"
     ]
    },
    {
     "data": {
      "text/plain": [
       "TestResults(failed=0, attempted=0)"
      ]
     },
     "execution_count": 37,
     "metadata": {},
     "output_type": "execute_result"
    }
   ],
   "source": [
    "import doctest\n",
    "doctest.testmod(verbose=True)"
   ]
  },
  {
   "cell_type": "code",
   "execution_count": 79,
   "metadata": {},
   "outputs": [
    {
     "data": {
      "text/plain": [
       "(['H2', 'O2', 'OH', 'HO2', 'H2O'],\n",
       " [{'Law': 'modArrhenius',\n",
       "   'coeff_names': ['A', 'b', 'E'],\n",
       "   'coeff_units': ['m3/mol/s', 'dimensionless', 'J/mol'],\n",
       "   'coeff_values': [100000000.0, 0.5, 50000.0],\n",
       "   'id': 'reaction01',\n",
       "   'nup': [2, 1],\n",
       "   'nupp': [2, 1],\n",
       "   'products': ['OH', 'H2'],\n",
       "   'reactants': ['H2', 'O2'],\n",
       "   'reversible': 'yes',\n",
       "   'type': 'Elementary'},\n",
       "  {'Law': 'Constant',\n",
       "   'coeff_names': ['k'],\n",
       "   'coeff_units': ['m3/mol/s'],\n",
       "   'coeff_values': [10000.0],\n",
       "   'id': 'reaction02',\n",
       "   'nup': [1, 1],\n",
       "   'nupp': [1, 1],\n",
       "   'products': ['H2O', 'O2'],\n",
       "   'reactants': ['OH', 'HO2'],\n",
       "   'reversible': 'yes',\n",
       "   'type': 'Elementary'},\n",
       "  {'Law': 'Arrhenius',\n",
       "   'coeff_names': ['A', 'E'],\n",
       "   'coeff_units': ['m3/mol/s', 'J/mol'],\n",
       "   'coeff_values': [10000000.0, 10000.0],\n",
       "   'id': 'reaction03',\n",
       "   'nup': [1, 1],\n",
       "   'nupp': [1, 1],\n",
       "   'products': ['OH', 'O'],\n",
       "   'reactants': ['H', 'O2'],\n",
       "   'reversible': 'yes',\n",
       "   'type': 'Elementary'}])"
      ]
     },
     "execution_count": 79,
     "metadata": {},
     "output_type": "execute_result"
    }
   ],
   "source": [
    "xml2dict('rxns2.xml')"
   ]
  }
 ],
 "metadata": {
  "kernelspec": {
   "display_name": "Python 3",
   "language": "python",
   "name": "python3"
  },
  "language_info": {
   "codemirror_mode": {
    "name": "ipython",
    "version": 3
   },
   "file_extension": ".py",
   "mimetype": "text/x-python",
   "name": "python",
   "nbconvert_exporter": "python",
   "pygments_lexer": "ipython3",
   "version": "3.6.1"
  }
 },
 "nbformat": 4,
 "nbformat_minor": 2
}
