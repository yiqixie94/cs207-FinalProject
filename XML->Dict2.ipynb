{
 "cells": [
  {
   "cell_type": "code",
   "execution_count": 41,
   "metadata": {},
   "outputs": [],
   "source": [
    "#Written by Baptiste Lemaire\n",
    "\n",
    "def xml2dict(file):\n",
    "    \"\"\"Read the XML file of the reactions and returns a list of dictionaries with \n",
    "       the features of every reaction, and an array of all the species involved.\n",
    "       \n",
    "    INPUTS\n",
    "    ======\n",
    "    file : XML file. \n",
    "           The format of the this input file must follow\n",
    "           the format given by Prof. David Sondak.\n",
    "    \n",
    "    RETURNS\n",
    "    =======\n",
    "    Species: array of strings. \n",
    "    \n",
    "    ListDictionaries: list of dictionaries.\n",
    "                      Includes all the parameters of the reactions provided in XML files.\n",
    "             \n",
    "    EXAMPLES\n",
    "    ========\n",
    "    >>> xml2dict('rxns.xml')\n",
    "    (['H', 'O', 'OH', 'H2', 'O2'], [{'coeff_names': ['A', 'b', 'E'], 'coeff_values': [35200000000.0, -0.7, 71400.0], 'id': 'reaction01', 'reversible': 'yes', 'type': 'Elementary', 'nup': [1, 1], 'reactants': ['H', 'O2'], 'products': ['OH', 'O'], 'nupp': [1, 1], 'Law': 'Arrhenius', 'coeff_units': ['m3/mol/s', 'dimensionless', 'J/mol']}, {'coeff_names': ['A', 'b', 'E'], 'coeff_values': [0.0506, 2.7, 26300.0], 'id': 'reaction02', 'reversible': 'yes', 'type': 'Elementary', 'nup': [1, 1], 'reactants': ['H2', 'O'], 'products': ['OH', 'H'], 'nupp': [1, 1], 'Law': 'Arrhenius', 'coeff_units': ['m3/mol/s', 'dimensionless', 'J/mol']}])\n",
    "    \"\"\"\n",
    "    import xml.etree.ElementTree as ET\n",
    "    tree = ET.parse(file)\n",
    "    root = tree.getroot()\n",
    "\n",
    "    SpeciesArray=root.find('phase').find('speciesArray')\n",
    "    Species = SpeciesArray.text.strip().split(\" \")\n",
    "    \n",
    "    ListDictionaries = []\n",
    "    \n",
    "    #Now: go through every reaction to read the features:\n",
    "    \n",
    "    for reaction in root.find('reactionData').findall('reaction'):\n",
    "        \n",
    "        #Initialization of the variables\n",
    "        \n",
    "        Dict = {}\n",
    "        reactants = []\n",
    "        products = []\n",
    "        Nup = []\n",
    "        Nupp = []\n",
    "        ListCoeffUnits = []\n",
    "        \n",
    "        ListReactants = reaction.find('reactants').text.split()\n",
    "        for elementsR in ListReactants:\n",
    "            specie, nu = elementsR.split(':')\n",
    "            reactants.append(specie)\n",
    "            Nup.append(int(nu))\n",
    "        ListProducts = reaction.find('products').text.split()\n",
    "        for elementsP in ListProducts:\n",
    "            specie, nu = elementsP.split(':')\n",
    "            products.append(specie)\n",
    "            Nupp.append(int(nu))\n",
    "        for name in reaction.find('rateCoeff'):\n",
    "            Law = name.tag\n",
    "            ListCoeffTag = []\n",
    "            ListCoeffValue = []\n",
    "            for coeff in name:\n",
    "                ListCoeffTag.append(coeff.tag)\n",
    "                ListCoeffValue.append(float(coeff.text))\n",
    "                if len(coeff.attrib) != 0:\n",
    "                    ListCoeffUnits.append(coeff.attrib['units'])\n",
    "                else:\n",
    "                    ListCoeffUnits.append('dimensionless')\n",
    "        Dict['coeff_names'] = ListCoeffTag\n",
    "        Dict['coeff_values'] = ListCoeffValue\n",
    "        Dict['id'] = reaction.attrib['id']\n",
    "        Dict['reversible'] = reaction.attrib['reversible']\n",
    "        Dict['type'] = reaction.attrib['type']\n",
    "        Dict['nup'] = Nup\n",
    "        Dict['reactants'] = reactants\n",
    "        Dict['products'] = products\n",
    "        Dict['nupp'] = Nupp\n",
    "        Dict['Law'] = Law\n",
    "        Dict['coeff_units'] = ListCoeffUnits\n",
    "        ListDictionaries.append(Dict)\n",
    "        \n",
    "    return Species, ListDictionaries\n",
    "\n"
   ]
  },
  {
   "cell_type": "code",
   "execution_count": 44,
   "metadata": {},
   "outputs": [
    {
     "data": {
      "text/plain": [
       "(['H', 'O', 'OH', 'H2', 'O2'],\n",
       " [{'Law': 'Arrhenius',\n",
       "   'coeff_names': ['A', 'b', 'E'],\n",
       "   'coeff_units': ['m3/mol/s', 'dimensionless', 'J/mol'],\n",
       "   'coeff_values': [35200000000.0, -0.7, 71400.0],\n",
       "   'id': 'reaction01',\n",
       "   'nup': [1, 1],\n",
       "   'nupp': [1, 1],\n",
       "   'products': ['OH', 'O'],\n",
       "   'reactants': ['H', 'O2'],\n",
       "   'reversible': 'yes',\n",
       "   'type': 'Elementary'},\n",
       "  {'Law': 'Arrhenius',\n",
       "   'coeff_names': ['A', 'b', 'E'],\n",
       "   'coeff_units': ['m3/mol/s', 'dimensionless', 'J/mol'],\n",
       "   'coeff_values': [0.0506, 2.7, 26300.0],\n",
       "   'id': 'reaction02',\n",
       "   'nup': [1, 1],\n",
       "   'nupp': [1, 1],\n",
       "   'products': ['OH', 'H'],\n",
       "   'reactants': ['H2', 'O'],\n",
       "   'reversible': 'yes',\n",
       "   'type': 'Elementary'}])"
      ]
     },
     "execution_count": 44,
     "metadata": {},
     "output_type": "execute_result"
    }
   ],
   "source": [
    "xml2dict('rxns.xml')"
   ]
  },
  {
   "cell_type": "code",
   "execution_count": 43,
   "metadata": {},
   "outputs": [
    {
     "name": "stdout",
     "output_type": "stream",
     "text": [
      "Trying:\n",
      "    xml2dict('rxns.xml')\n",
      "Expecting:\n",
      "    (['H', 'O', 'OH', 'H2', 'O2'], [{'coeff_names': ['A', 'b', 'E'], 'coeff_values': [35200000000.0, -0.7, 71400.0], 'id': 'reaction01', 'reversible': 'yes', 'type': 'Elementary', 'nup': [1, 1], 'reactants': ['H', 'O2'], 'products': ['OH', 'O'], 'nupp': [1, 1], 'Law': 'Arrhenius', 'coeff_units': ['m3/mol/s', 'dimensionless', 'J/mol']}, {'coeff_names': ['A', 'b', 'E'], 'coeff_values': [0.0506, 2.7, 26300.0], 'id': 'reaction02', 'reversible': 'yes', 'type': 'Elementary', 'nup': [1, 1], 'reactants': ['H2', 'O'], 'products': ['OH', 'H'], 'nupp': [1, 1], 'Law': 'Arrhenius', 'coeff_units': ['m3/mol/s', 'dimensionless', 'J/mol']}])\n",
      "ok\n",
      "1 items had no tests:\n",
      "    __main__\n",
      "1 items passed all tests:\n",
      "   1 tests in __main__.xml2dict\n",
      "1 tests in 2 items.\n",
      "1 passed and 0 failed.\n",
      "Test passed.\n"
     ]
    },
    {
     "data": {
      "text/plain": [
       "TestResults(failed=0, attempted=1)"
      ]
     },
     "execution_count": 43,
     "metadata": {},
     "output_type": "execute_result"
    }
   ],
   "source": [
    "import doctest\n",
    "doctest.testmod(verbose=True)"
   ]
  },
  {
   "cell_type": "code",
   "execution_count": 16,
   "metadata": {},
   "outputs": [
    {
     "data": {
      "text/plain": [
       "(['H2', 'O2', 'OH', 'HO2', 'H2O'],\n",
       " [{'Law': 'modArrhenius',\n",
       "   'coeff_names': ['A', 'b', 'E'],\n",
       "   'coeff_values': [100000000.0, 0.5, 50000.0],\n",
       "   'id': 'reaction01',\n",
       "   'nup': [2, 1],\n",
       "   'nupp': [2, 1],\n",
       "   'products': ['OH', 'H2'],\n",
       "   'reactants': ['H2', 'O2'],\n",
       "   'reversible': 'yes',\n",
       "   'type': 'Elementary'},\n",
       "  {'Law': 'Constant',\n",
       "   'coeff_names': ['k'],\n",
       "   'coeff_values': [10000.0],\n",
       "   'id': 'reaction02',\n",
       "   'nup': [1, 1],\n",
       "   'nupp': [1, 1],\n",
       "   'products': ['H2O', 'O2'],\n",
       "   'reactants': ['OH', 'HO2'],\n",
       "   'reversible': 'yes',\n",
       "   'type': 'Elementary'},\n",
       "  {'Law': 'Arrhenius',\n",
       "   'coeff_names': ['A', 'E'],\n",
       "   'coeff_values': [10000000.0, 10000.0],\n",
       "   'id': 'reaction03',\n",
       "   'nup': [1, 1],\n",
       "   'nupp': [1, 1],\n",
       "   'products': ['OH', 'O'],\n",
       "   'reactants': ['H', 'O2'],\n",
       "   'reversible': 'yes',\n",
       "   'type': 'Elementary'}])"
      ]
     },
     "execution_count": 16,
     "metadata": {},
     "output_type": "execute_result"
    }
   ],
   "source": [
    "xml2dict('rxns2.xml')"
   ]
  }
 ],
 "metadata": {
  "kernelspec": {
   "display_name": "Python 3",
   "language": "python",
   "name": "python3"
  },
  "language_info": {
   "codemirror_mode": {
    "name": "ipython",
    "version": 3
   },
   "file_extension": ".py",
   "mimetype": "text/x-python",
   "name": "python",
   "nbconvert_exporter": "python",
   "pygments_lexer": "ipython3",
   "version": "3.6.1"
  }
 },
 "nbformat": 4,
 "nbformat_minor": 2
}
