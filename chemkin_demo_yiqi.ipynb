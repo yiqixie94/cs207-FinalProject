{
 "cells": [
  {
   "cell_type": "markdown",
   "metadata": {},
   "source": [
    "## Load Data"
   ]
  },
  {
   "cell_type": "code",
   "execution_count": 1,
   "metadata": {
    "collapsed": true
   },
   "outputs": [],
   "source": [
    "import os\n",
    "import chemkin_CS207_G9\n",
    "from chemkin_CS207_G9.parser.xml2dict import xml2dict\n",
    "from chemkin_CS207_G9.parser.database_query import CoeffQuery\n",
    "\n",
    "BASE_DIR = os.path.dirname(os.path.abspath(chemkin_CS207_G9.__file__))\n",
    "path_xml = os.path.join(BASE_DIR, 'data/rxns_reversible.xml')\n",
    "path_sql = os.path.join(BASE_DIR, 'data/nasa_thermo_all.sqlite')\n",
    "\n",
    "species, reac_info = xml2dict().parse(path_xml).get_info()\n",
    "nasa_query = CoeffQuery(path_sql)"
   ]
  },
  {
   "cell_type": "code",
   "execution_count": 2,
   "metadata": {},
   "outputs": [
    {
     "data": {
      "text/plain": [
       "['H', 'O', 'OH', 'H2', 'H2O', 'O2', 'HO2', 'H2O2']"
      ]
     },
     "execution_count": 2,
     "metadata": {},
     "output_type": "execute_result"
    }
   ],
   "source": [
    "species"
   ]
  },
  {
   "cell_type": "code",
   "execution_count": 3,
   "metadata": {},
   "outputs": [
    {
     "data": {
      "text/plain": [
       "[{'ID': 'reaction01',\n",
       "  'TYPE': 'Elementary',\n",
       "  'coeffLaw': 'modifiedArrhenius',\n",
       "  'coeffParams': {'A': 3547000000000000.0, 'E': 16599.0, 'b': -0.406},\n",
       "  'products': {'O': 1, 'OH': 1},\n",
       "  'reactants': {'H': 1, 'O2': 1},\n",
       "  'reversible': 'yes'},\n",
       " {'ID': 'reaction02',\n",
       "  'TYPE': 'Elementary',\n",
       "  'coeffLaw': 'modifiedArrhenius',\n",
       "  'coeffParams': {'A': 50800.0, 'E': 6290.0, 'b': 2.67},\n",
       "  'products': {'H': 1, 'OH': 1},\n",
       "  'reactants': {'H2': 1, 'O': 1},\n",
       "  'reversible': 'yes'}]"
      ]
     },
     "execution_count": 3,
     "metadata": {},
     "output_type": "execute_result"
    }
   ],
   "source": [
    "reac_info[:2]"
   ]
  },
  {
   "cell_type": "code",
   "execution_count": 4,
   "metadata": {},
   "outputs": [
    {
     "data": {
      "text/plain": [
       "<chemkin_CS207_G9.parser.database_query.CoeffQuery at 0x10b7c3fd0>"
      ]
     },
     "execution_count": 4,
     "metadata": {},
     "output_type": "execute_result"
    }
   ],
   "source": [
    "nasa_query"
   ]
  },
  {
   "cell_type": "markdown",
   "metadata": {},
   "source": [
    "## Create a Reaction System and Play with it"
   ]
  },
  {
   "cell_type": "code",
   "execution_count": 5,
   "metadata": {
    "collapsed": true
   },
   "outputs": [],
   "source": [
    "import numpy as np\n",
    "from chemkin_CS207_G9.reaction.Reaction import Reaction\n",
    "from chemkin_CS207_G9.reaction.ReactionSystem import ReactionSystem\n",
    "\n",
    "reactions = [Reaction(**r) for r in reac_info]\n",
    "reac_sys = ReactionSystem(reactions, species, nasa_query)"
   ]
  },
  {
   "cell_type": "code",
   "execution_count": 6,
   "metadata": {
    "scrolled": true
   },
   "outputs": [
    {
     "name": "stdout",
     "output_type": "stream",
     "text": [
      "ReactionSystem object with following Reactions: \n",
      "\n",
      "Reaction 0: \n",
      "========================================\n",
      "Reaction Equation:\n",
      "1H + 1O2 [=] 1O + 1OH\n",
      "----------------------------------------\n",
      "Reaction Info:\n",
      "ID: reaction01\n",
      "TYPE: Elementary\n",
      "reversible: True\n",
      "coeffLaw: modifiedArrhenius\n",
      "coeffParams: [('A', 3547000000000000.0), ('E', 16599.0), ('R', 8.314), ('b', -0.406)]\n",
      "coeffUnits: []\n",
      "========================================\n",
      "\n",
      "Reaction 1: \n",
      "========================================\n",
      "Reaction Equation:\n",
      "1H2 + 1O [=] 1H + 1OH\n",
      "----------------------------------------\n",
      "Reaction Info:\n",
      "ID: reaction02\n",
      "TYPE: Elementary\n",
      "reversible: True\n",
      "coeffLaw: modifiedArrhenius\n",
      "coeffParams: [('A', 50800.0), ('E', 6290.0), ('R', 8.314), ('b', 2.67)]\n",
      "coeffUnits: []\n",
      "========================================\n",
      "\n",
      "Reaction 2: \n",
      "========================================\n",
      "Reaction Equation:\n",
      "1H2 + 1OH [=] 1H + 1H2O\n",
      "----------------------------------------\n",
      "Reaction Info:\n",
      "ID: reaction03\n",
      "TYPE: Elementary\n",
      "reversible: True\n",
      "coeffLaw: modifiedArrhenius\n",
      "coeffParams: [('A', 216000000.0), ('E', 3430.0), ('R', 8.314), ('b', 1.51)]\n",
      "coeffUnits: []\n",
      "========================================\n",
      "\n",
      "Reaction 3: \n",
      "========================================\n",
      "Reaction Equation:\n",
      "1H2O + 1O [=] 2OH\n",
      "----------------------------------------\n",
      "Reaction Info:\n",
      "ID: reaction04\n",
      "TYPE: Elementary\n",
      "reversible: True\n",
      "coeffLaw: modifiedArrhenius\n",
      "coeffParams: [('A', 2970000.0), ('E', 13400.0), ('R', 8.314), ('b', 2.02)]\n",
      "coeffUnits: []\n",
      "========================================\n",
      "\n",
      "Reaction 4: \n",
      "========================================\n",
      "Reaction Equation:\n",
      "1H + 1HO2 [=] 1H2 + 1O2\n",
      "----------------------------------------\n",
      "Reaction Info:\n",
      "ID: reaction05\n",
      "TYPE: Elementary\n",
      "reversible: True\n",
      "coeffLaw: Arrhenius\n",
      "coeffParams: [('A', 16600000000000.0), ('E', 823.0), ('R', 8.314)]\n",
      "coeffUnits: []\n",
      "========================================\n",
      "\n",
      "Reaction 5: \n",
      "========================================\n",
      "Reaction Equation:\n",
      "1H + 1HO2 [=] 2OH\n",
      "----------------------------------------\n",
      "Reaction Info:\n",
      "ID: reaction06\n",
      "TYPE: Elementary\n",
      "reversible: True\n",
      "coeffLaw: Arrhenius\n",
      "coeffParams: [('A', 70790000000000.0), ('E', 295.0), ('R', 8.314)]\n",
      "coeffUnits: []\n",
      "========================================\n",
      "\n",
      "Reaction 6: \n",
      "========================================\n",
      "Reaction Equation:\n",
      "1HO2 + 1O [=] 1O2 + 1OH\n",
      "----------------------------------------\n",
      "Reaction Info:\n",
      "ID: reaction07\n",
      "TYPE: Elementary\n",
      "reversible: True\n",
      "coeffLaw: Arrhenius\n",
      "coeffParams: [('A', 32500000000000.0), ('E', 0.0), ('R', 8.314)]\n",
      "coeffUnits: []\n",
      "========================================\n",
      "\n",
      "Reaction 7: \n",
      "========================================\n",
      "Reaction Equation:\n",
      "1HO2 + 1OH [=] 1H2O + 1O2\n",
      "----------------------------------------\n",
      "Reaction Info:\n",
      "ID: reaction08\n",
      "TYPE: Elementary\n",
      "reversible: True\n",
      "coeffLaw: Arrhenius\n",
      "coeffParams: [('A', 28900000000000.0), ('E', -497.0), ('R', 8.314)]\n",
      "coeffUnits: []\n",
      "========================================\n",
      "\n",
      "Reaction 8: \n",
      "========================================\n",
      "Reaction Equation:\n",
      "1H + 1H2O2 [=] 1H2O + 1OH\n",
      "----------------------------------------\n",
      "Reaction Info:\n",
      "ID: reaction09\n",
      "TYPE: Elementary\n",
      "reversible: True\n",
      "coeffLaw: Arrhenius\n",
      "coeffParams: [('A', 24100000000000.0), ('E', 3970.0), ('R', 8.314)]\n",
      "coeffUnits: []\n",
      "========================================\n",
      "\n",
      "Reaction 9: \n",
      "========================================\n",
      "Reaction Equation:\n",
      "1H + 1H2O2 [=] 1H2 + 1HO2\n",
      "----------------------------------------\n",
      "Reaction Info:\n",
      "ID: reaction10\n",
      "TYPE: Elementary\n",
      "reversible: True\n",
      "coeffLaw: Arrhenius\n",
      "coeffParams: [('A', 48200000000000.0), ('E', 7950.0), ('R', 8.314)]\n",
      "coeffUnits: []\n",
      "========================================\n",
      "\n",
      "Reaction 10: \n",
      "========================================\n",
      "Reaction Equation:\n",
      "1H2O2 + 1O [=] 1HO2 + 1OH\n",
      "----------------------------------------\n",
      "Reaction Info:\n",
      "ID: reaction11\n",
      "TYPE: Elementary\n",
      "reversible: True\n",
      "coeffLaw: modifiedArrhenius\n",
      "coeffParams: [('A', 9550000.0), ('E', 3970.0), ('R', 8.314), ('b', 2.0)]\n",
      "coeffUnits: []\n",
      "========================================\n",
      "\n"
     ]
    }
   ],
   "source": [
    "print(reac_sys)"
   ]
  },
  {
   "cell_type": "code",
   "execution_count": 7,
   "metadata": {},
   "outputs": [
    {
     "data": {
      "text/plain": [
       "['H', 'O', 'OH', 'H2', 'H2O', 'O2', 'HO2', 'H2O2']"
      ]
     },
     "execution_count": 7,
     "metadata": {},
     "output_type": "execute_result"
    }
   ],
   "source": [
    "reac_sys.get_species()"
   ]
  },
  {
   "cell_type": "code",
   "execution_count": 8,
   "metadata": {},
   "outputs": [
    {
     "data": {
      "text/plain": [
       "array([[-1.,  1.,  1.,  0., -1., -1.,  0.,  0., -1., -1.,  0.],\n",
       "       [ 1., -1.,  0., -1.,  0.,  0., -1.,  0.,  0.,  0., -1.],\n",
       "       [ 1.,  1., -1.,  2.,  0.,  2.,  1., -1.,  1.,  0.,  1.],\n",
       "       [ 0., -1., -1.,  0.,  1.,  0.,  0.,  0.,  0.,  1.,  0.],\n",
       "       [ 0.,  0.,  1., -1.,  0.,  0.,  0.,  1.,  1.,  0.,  0.],\n",
       "       [-1.,  0.,  0.,  0.,  1.,  0.,  1.,  1.,  0.,  0.,  0.],\n",
       "       [ 0.,  0.,  0.,  0., -1., -1., -1., -1.,  0.,  1.,  1.],\n",
       "       [ 0.,  0.,  0.,  0.,  0.,  0.,  0.,  0., -1., -1., -1.]])"
      ]
     },
     "execution_count": 8,
     "metadata": {},
     "output_type": "execute_result"
    }
   ],
   "source": [
    "reac_sys.get_nu_2() - reac_sys.get_nu_1()"
   ]
  },
  {
   "cell_type": "code",
   "execution_count": 9,
   "metadata": {
    "collapsed": true
   },
   "outputs": [],
   "source": [
    "temperature = 3000\n",
    "concentrations = dict(H=2, O=1, OH=0.5, H2=1, H2O=1, O2=1, HO2=0.5, H2O2=1)\n",
    "reac_sys.set_temp(temperature)\n",
    "reac_sys.set_concs(concentrations)"
   ]
  },
  {
   "cell_type": "code",
   "execution_count": 10,
   "metadata": {
    "scrolled": true
   },
   "outputs": [
    {
     "data": {
      "text/plain": [
       "array([[  2.50000001e+00,  -2.30842973e-11,   1.61561948e-14,\n",
       "         -4.73515235e-18,   4.98197357e-22,   2.54736599e+04,\n",
       "         -4.46682914e-01],\n",
       "       [  2.56942078e+00,  -8.59741137e-05,   4.19484589e-08,\n",
       "         -1.00177799e-11,   1.22833691e-15,   2.92175791e+04,\n",
       "          4.78433864e+00]])"
      ]
     },
     "execution_count": 10,
     "metadata": {},
     "output_type": "execute_result"
    }
   ],
   "source": [
    "reac_sys.get_a()[:2]"
   ]
  },
  {
   "cell_type": "code",
   "execution_count": 11,
   "metadata": {},
   "outputs": [
    {
     "data": {
      "text/plain": [
       "(array([  7.06521297e+13,   7.59022899e+13,   3.35106679e+13,\n",
       "          1.83323539e+13,   1.60611955e+13,   6.99576674e+13,\n",
       "          3.25000000e+13,   2.94816438e+13,   2.05537328e+13,\n",
       "          3.50445302e+13,   7.33026279e+13]),\n",
       " array([  8.43868884e+13,   4.64734002e+13,   1.11101111e+13,\n",
       "          3.38557536e+13,   5.18954735e+09,   1.65305087e+10,\n",
       "          6.42960869e+09,   3.15819268e+09,   4.84326316e+07,\n",
       "          1.05409897e+12,   1.34998910e+12]))"
      ]
     },
     "execution_count": 11,
     "metadata": {},
     "output_type": "execute_result"
    }
   ],
   "source": [
    "reac_sys.get_reac_rate_coefs()"
   ]
  },
  {
   "cell_type": "code",
   "execution_count": 12,
   "metadata": {},
   "outputs": [
    {
     "data": {
      "text/plain": [
       "array([ -2.71825807e+14,  -2.93984058e+13,   4.16600598e+14,\n",
       "         6.16540153e+13,   3.31413904e+13,  -5.94407714e+13,\n",
       "         3.29035629e+13,  -1.83634583e+14])"
      ]
     },
     "execution_count": 12,
     "metadata": {},
     "output_type": "execute_result"
    }
   ],
   "source": [
    "reac_sys.get_reac_rate()"
   ]
  },
  {
   "cell_type": "code",
   "execution_count": 13,
   "metadata": {},
   "outputs": [
    {
     "data": {
      "text/plain": [
       "['H', 'O', 'OH', 'H2', 'H2O', 'O2', 'HO2', 'H2O2']"
      ]
     },
     "execution_count": 13,
     "metadata": {},
     "output_type": "execute_result"
    }
   ],
   "source": [
    "reac_sys.get_species()"
   ]
  },
  {
   "cell_type": "code",
   "execution_count": 14,
   "metadata": {
    "scrolled": true
   },
   "outputs": [
    {
     "data": {
      "text/plain": [
       "array([ -2.71825807e+14,  -2.93984058e+13,   4.16600598e+14,\n",
       "         6.16540153e+13,   3.31413904e+13,  -5.94407714e+13,\n",
       "         3.29035629e+13,  -1.83634583e+14])"
      ]
     },
     "execution_count": 14,
     "metadata": {},
     "output_type": "execute_result"
    }
   ],
   "source": [
    "reac_sys.get_reac_rate()"
   ]
  },
  {
   "cell_type": "code",
   "execution_count": 15,
   "metadata": {
    "scrolled": true
   },
   "outputs": [
    {
     "data": {
      "text/plain": [
       "{'H': 1.1627219799131316,\n",
       " 'H2': 1.0993697352704879,\n",
       " 'H2O': 1.7809423424679851,\n",
       " 'H2O2': 0.23967262058998651,\n",
       " 'HO2': 0.29881855417282721,\n",
       " 'O': 0.8963841579076538,\n",
       " 'O2': 1.2236005404208046,\n",
       " 'OH': 1.2984900692571233}"
      ]
     },
     "execution_count": 15,
     "metadata": {},
     "output_type": "execute_result"
    }
   ],
   "source": [
    "reac_sys.evolute(1e-14, method='LSODA')\n",
    "reac_sys.get_concs()"
   ]
  },
  {
   "cell_type": "code",
   "execution_count": 16,
   "metadata": {
    "collapsed": true
   },
   "outputs": [],
   "source": [
    "reac_sys.set_concs(concentrations)"
   ]
  },
  {
   "cell_type": "markdown",
   "metadata": {},
   "source": [
    "## Visaulize the Evolution of a Reaction System"
   ]
  },
  {
   "cell_type": "code",
   "execution_count": 23,
   "metadata": {},
   "outputs": [
    {
     "data": {
      "image/png": "[encoded data removed]",
      "text/plain": [
       "<matplotlib.figure.Figure at 0x10f64c828>"
      ]
     },
     "metadata": {},
     "output_type": "display_data"
    }
   ],
   "source": [
    "import numpy as np\n",
    "import matplotlib.pyplot as plt\n",
    "from chemkin_CS207_G9.plotting.NonNetworkPlot import plot_concentration\n",
    "from chemkin_CS207_G9.plotting.NonNetworkPlot import plot_reaction_rate\n",
    "\n",
    "time_grid = np.arange(0, 5e-14, 1e-15)\n",
    "fig, axes = plt.subplots(2, 1, figsize=(8,12))\n",
    "plot_concentration(\n",
    "    reac_sys, time_grid, ax=axes[0], linestyle='dashed', \n",
    "    species=['H','O'], logscale=True)\n",
    "plot_reaction_rate(\n",
    "    reac_sys, time_grid, ax=axes[1], alpha=0.7)\n",
    "plt.show()\n",
    "# fig.savefig('conc_rate_evo.png')"
   ]
  },
  {
   "cell_type": "markdown",
   "metadata": {},
   "source": [
    "## Visualize Your Choice of Coefficient Law"
   ]
  },
  {
   "cell_type": "code",
   "execution_count": 25,
   "metadata": {},
   "outputs": [
    {
     "data": {
      "image/png": "[encoded data removed]",
      "text/plain": [
       "<matplotlib.figure.Figure at 0x10f661828>"
      ]
     },
     "metadata": {},
     "output_type": "display_data"
    }
   ],
   "source": [
    "import numpy as np\n",
    "import matplotlib.pyplot as plt\n",
    "from chemkin_CS207_G9.plotting.NonNetworkPlot import plot_modified_arrhenius\n",
    "\n",
    "fig, ax = plt.subplots(figsize=(8,6))\n",
    "plot_modified_arrhenius(\n",
    "    RToE_grid=np.arange(0.01,2,0.01), \n",
    "    b_grid=np.arange(-2,2,1),\n",
    "    ax=ax)\n",
    "plt.show()\n",
    "# fig.savefig('modarr.png')"
   ]
  },
  {
   "cell_type": "markdown",
   "metadata": {},
   "source": [
    "## \"Contribute\" to the Library"
   ]
  },
  {
   "cell_type": "code",
   "execution_count": 19,
   "metadata": {},
   "outputs": [
    {
     "data": {
      "text/plain": [
       "{'Arrhenius': chemkin_CS207_G9.chemkin.reaction.CoeffLaw.Arrhenius,\n",
       " 'Constant': chemkin_CS207_G9.chemkin.reaction.CoeffLaw.Constant,\n",
       " 'modArrhenius': chemkin_CS207_G9.chemkin.reaction.CoeffLaw.modArrhenius,\n",
       " 'modifiedArrhenius': chemkin_CS207_G9.chemkin.reaction.CoeffLaw.modArrhenius}"
      ]
     },
     "execution_count": 19,
     "metadata": {},
     "output_type": "execute_result"
    }
   ],
   "source": [
    "from chemkin_CS207_G9.chemkin.reaction.Reaction import Reaction\n",
    "Reaction._CoeffLawDict._get_all()"
   ]
  },
  {
   "cell_type": "code",
   "execution_count": 20,
   "metadata": {},
   "outputs": [
    {
     "data": {
      "text/plain": [
       "{'Arrhenius': chemkin_CS207_G9.chemkin.reaction.CoeffLaw.Arrhenius,\n",
       " 'Constant': chemkin_CS207_G9.chemkin.reaction.CoeffLaw.Constant,\n",
       " 'modArrhenius': chemkin_CS207_G9.chemkin.reaction.CoeffLaw.modArrhenius,\n",
       " 'modifiedArrhenius': chemkin_CS207_G9.chemkin.reaction.CoeffLaw.modArrhenius,\n",
       " 'some': __main__.some_coeff_law}"
      ]
     },
     "execution_count": 20,
     "metadata": {},
     "output_type": "execute_result"
    }
   ],
   "source": [
    "from chemkin_CS207_G9.chemkin.auxiliary.mathematical_science import MathModel\n",
    "\n",
    "class some_coeff_law(MathModel):\n",
    "    @staticmethod\n",
    "    def _kernel(T, E, R):\n",
    "        return E / (T * R)\n",
    "    def check_stateparams(self, T, **options):\n",
    "        if T <= 0.0: raise ValueError\n",
    "\n",
    "Reaction._CoeffLawDict.update('some', some_coeff_law)\n",
    "Reaction._CoeffLawDict._get_all()"
   ]
  },
  {
   "cell_type": "code",
   "execution_count": 21,
   "metadata": {},
   "outputs": [
    {
     "data": {
      "text/plain": [
       "1.0"
      ]
     },
     "execution_count": 21,
     "metadata": {},
     "output_type": "execute_result"
    }
   ],
   "source": [
    "reac = Reaction(coeffLaw='some', coeffParams=dict(E=4.157, R=8.314))\n",
    "reac.rateCoeff(T=0.5)"
   ]
  },
  {
   "cell_type": "code",
   "execution_count": 22,
   "metadata": {},
   "outputs": [
    {
     "data": {
      "text/plain": [
       "2.718281828459045"
      ]
     },
     "execution_count": 22,
     "metadata": {},
     "output_type": "execute_result"
    }
   ],
   "source": [
    "Reaction._CoeffLawDict.update('arr', chemkin_CS207_G9.chemkin.reaction.CoeffLaw.Arrhenius)\n",
    "reac = Reaction(coeffLaw='arr', coeffParams=dict(A=1.0, E=-4.157, R=8.314))\n",
    "reac.rateCoeff(T=0.5)"
   ]
  },
  {
   "cell_type": "code",
   "execution_count": null,
   "metadata": {
    "collapsed": true
   },
   "outputs": [],
   "source": []
  }
 ],
 "metadata": {
  "kernelspec": {
   "display_name": "Python 3",
   "language": "python",
   "name": "python3"
  },
  "language_info": {
   "codemirror_mode": {
    "name": "ipython",
    "version": 3
   },
   "file_extension": ".py",
   "mimetype": "text/x-python",
   "name": "python",
   "nbconvert_exporter": "python",
   "pygments_lexer": "ipython3",
   "version": "3.6.1"
  }
 },
 "nbformat": 4,
 "nbformat_minor": 2
}
