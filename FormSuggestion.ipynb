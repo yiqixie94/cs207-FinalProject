{
 "cells": [
  {
   "cell_type": "code",
   "execution_count": null,
   "metadata": {
    "collapsed": true
   },
   "outputs": [],
   "source": [
    "\"\"\"\n",
    "class ReactionSystem:\n",
    "    \n",
    "    # names starting with '_' are not suggested to get accessed by user\n",
    "    \n",
    "    # some infrastructure\n",
    "    def _progressRate(nu_react, concs, k, checkinput=False):\n",
    "        # this function can be called as a classmethod\n",
    "        # need to do input check if not called by an instance\n",
    "        if checkinput: \n",
    "            pass # do some check, especially dimension check\n",
    "        # calculate based on formula, derive w\n",
    "        return w\n",
    "    def _reactionRate(nu_react, nu_prod, w, checkinput=False):\n",
    "        # this function can be called as a classmethod\n",
    "        # need to do input check if not called by an instance\n",
    "        if checkinput: \n",
    "            pass # do some check, especially dimension check\n",
    "        # calculate based on formula, derive rate\n",
    "        return rate\n",
    "    \n",
    "    # main attributes:\n",
    "        # nuReact, nuProd, k, w, rate\n",
    "        # reactions, elements\n",
    "        # _T, _concs\n",
    "    \n",
    "    # interfaces\n",
    "    def __init__(self, list_reactions, list_elements):\n",
    "        # extract nu_react, nu_prod\n",
    "        # record them in self\n",
    "        # may also create:\n",
    "        self.num_elements = len(list_elements)\n",
    "        self.num_reactions = len(list_reactions)\n",
    "    def set_conditions(**kwargs):\n",
    "        if 'T' in kwargs:\n",
    "            # check validity (T>=0?)\n",
    "            self._T = kwargs['T']\n",
    "        if 'concs' in kwargs:\n",
    "            # check validity (concs>=0?)\n",
    "            self._concs = kwargs['concs']\n",
    "        return self\n",
    "    def get_conditions(self):\n",
    "        return dict(T=self._T, concs=self._concs)\n",
    "    def reactionRateCoeffs(self):\n",
    "        self.k = [0] * self.num_reactions\n",
    "        for idx,r in enumerate(self.list_reactions):\n",
    "            self.k[idx] = r.rateCoeff(T=self._T)\n",
    "        self.k = np.array(self.k)\n",
    "        return self.k\n",
    "    def progressRates(self):\n",
    "        self.w = self._progressRate(self.nuReact, self._concs, self.k)\n",
    "        return self.w\n",
    "    def reactionRates(self):\n",
    "        self.rate = self._reactionRate(self.nuReact, self.nuProd, self.w)\n",
    "        return self.rate\n",
    "\"\"\""
   ]
  }
 ],
 "metadata": {
  "kernelspec": {
   "display_name": "Python 3",
   "language": "python",
   "name": "python3"
  },
  "language_info": {
   "codemirror_mode": {
    "name": "ipython",
    "version": 3
   },
   "file_extension": ".py",
   "mimetype": "text/x-python",
   "name": "python",
   "nbconvert_exporter": "python",
   "pygments_lexer": "ipython3",
   "version": "3.6.1"
  }
 },
 "nbformat": 4,
 "nbformat_minor": 2
}
