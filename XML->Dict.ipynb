{
 "cells": [
  {
   "cell_type": "code",
   "execution_count": 53,
   "metadata": {
    "collapsed": true
   },
   "outputs": [],
   "source": [
    "def xml2dict(file):\n",
    "    import xml.etree.ElementTree as ET\n",
    "    tree = ET.parse(file)\n",
    "    root = tree.getroot()\n",
    "\n",
    "    SpeciesArray=root.find('phase').find('speciesArray')\n",
    "    Species = SpeciesArray.text.strip().split(\" \")\n",
    "    \n",
    "    ReactionAttribute = []\n",
    "    ListReaction = []\n",
    "    ListProducts = []\n",
    "    ListCoeffLaw = []\n",
    "    \n",
    "    for reaction in root.find('reactionData').findall('reaction'):\n",
    "        ReactionAttribute.append(reaction.attrib)\n",
    "        ListReaction.append(reaction.find('reactants').text)\n",
    "        ListProducts.append(reaction.find('products').text)\n",
    "        for name in reaction.find('rateCoeff'):\n",
    "            Law = name.tag\n",
    "            ListCoeffTag = []\n",
    "            ListCoeffValue = []\n",
    "            for coeff in name:\n",
    "                ListCoeffTag.append(coeff.tag)\n",
    "                ListCoeffValue.append(coeff.text)\n",
    "        ListCoeffLaw.append(Law)\n",
    "        \n",
    "    return Species, ReactionAttribute, ListReaction, ListProducts, ListCoeffLaw\n",
    "\n"
   ]
  },
  {
   "cell_type": "code",
   "execution_count": 54,
   "metadata": {},
   "outputs": [
    {
     "data": {
      "text/plain": [
       "(['H', 'O', 'OH', 'H2', 'O2'],\n",
       " [{'id': 'reaction01', 'reversible': 'yes', 'type': 'Elementary'},\n",
       "  {'id': 'reaction02', 'reversible': 'yes', 'type': 'Elementary'}],\n",
       " ['H:1 O2:1', 'H2:1 O:1'],\n",
       " ['OH:1 O:1', 'OH:1 H:1'],\n",
       " ['Arrhenius', 'Arrhenius'])"
      ]
     },
     "execution_count": 54,
     "metadata": {},
     "output_type": "execute_result"
    }
   ],
   "source": [
    "xml2dict('rxns.xml')"
   ]
  },
  {
   "cell_type": "code",
   "execution_count": 55,
   "metadata": {},
   "outputs": [
    {
     "ename": "ValueError",
     "evalue": "not enough values to unpack (expected 2, got 1)",
     "output_type": "error",
     "traceback": [
      "\u001b[0;31m---------------------------------------------------------------------------\u001b[0m",
      "\u001b[0;31mValueError\u001b[0m                                Traceback (most recent call last)",
      "\u001b[0;32m<ipython-input-55-7c1f3d40ade9>\u001b[0m in \u001b[0;36m<module>\u001b[0;34m()\u001b[0m\n\u001b[1;32m     22\u001b[0m     \u001b[0mreactants\u001b[0m \u001b[0;34m=\u001b[0m \u001b[0mreaction\u001b[0m\u001b[0;34m.\u001b[0m\u001b[0mfind\u001b[0m\u001b[0;34m(\u001b[0m\u001b[0;34m'reactants'\u001b[0m\u001b[0;34m)\u001b[0m\u001b[0;34m.\u001b[0m\u001b[0mtext\u001b[0m\u001b[0;34m.\u001b[0m\u001b[0msplit\u001b[0m\u001b[0;34m(\u001b[0m\u001b[0;34m)\u001b[0m\u001b[0;34m\u001b[0m\u001b[0m\n\u001b[1;32m     23\u001b[0m     \u001b[0;32mfor\u001b[0m \u001b[0melements\u001b[0m \u001b[0;32min\u001b[0m \u001b[0mreactants\u001b[0m\u001b[0;34m:\u001b[0m\u001b[0;34m\u001b[0m\u001b[0m\n\u001b[0;32m---> 24\u001b[0;31m         \u001b[0mspecie\u001b[0m\u001b[0;34m,\u001b[0m \u001b[0mnu\u001b[0m \u001b[0;34m=\u001b[0m \u001b[0melements\u001b[0m\u001b[0;34m.\u001b[0m\u001b[0msplit\u001b[0m\u001b[0;34m(\u001b[0m\u001b[0;34m':'\u001b[0m\u001b[0;34m)\u001b[0m\u001b[0;34m\u001b[0m\u001b[0m\n\u001b[0m\u001b[1;32m     25\u001b[0m         \u001b[0mreactants\u001b[0m\u001b[0;34m.\u001b[0m\u001b[0mappend\u001b[0m\u001b[0;34m(\u001b[0m\u001b[0mspecie\u001b[0m\u001b[0;34m)\u001b[0m\u001b[0;34m\u001b[0m\u001b[0m\n\u001b[1;32m     26\u001b[0m         \u001b[0mNup\u001b[0m\u001b[0;34m.\u001b[0m\u001b[0mappend\u001b[0m\u001b[0;34m(\u001b[0m\u001b[0mint\u001b[0m\u001b[0;34m(\u001b[0m\u001b[0mnu\u001b[0m\u001b[0;34m)\u001b[0m\u001b[0;34m)\u001b[0m\u001b[0;34m\u001b[0m\u001b[0m\n",
      "\u001b[0;31mValueError\u001b[0m: not enough values to unpack (expected 2, got 1)"
     ]
    }
   ],
   "source": [
    "import xml.etree.ElementTree as ET\n",
    "tree = ET.parse('rxns.xml')\n",
    "root = tree.getroot()\n",
    "\n",
    "SpeciesArray=root.find('phase').find('speciesArray')\n",
    "Species = SpeciesArray.text.strip().split(\" \")\n",
    "    \n",
    "ReactionAttribute = []\n",
    "ListReaction = []\n",
    "ListProducts = []\n",
    "ListCoeffLaw = []\n",
    "ListDictionaries = []\n",
    "\n",
    "for reaction in root.find('reactionData').findall('reaction'):\n",
    "    Dict = {}\n",
    "    reactants = []\n",
    "    products = []\n",
    "    Nup = []\n",
    "    Nupp = []\n",
    "    ReactionAttribute.append(reaction.attrib)\n",
    "    #ListReaction.append(reaction.find('reactants').text)\n",
    "    reactants = reaction.find('reactants').text.split()\n",
    "    for elements in reactants:\n",
    "        specie, nu = elements.split(':')\n",
    "        reactants.append(specie)\n",
    "        Nup.append(int(nu))\n",
    "    ListProducts.append(reaction.find('products').text)\n",
    "    products = reaction.find('products').text\n",
    "    for elements in products:\n",
    "        specie, nu = elements.split(':')\n",
    "        products.append(specie)\n",
    "        Nupp.append(int(nu))\n",
    "    for name in reaction.find('rateCoeff'):\n",
    "        Law = name.tag\n",
    "        ListCoeffTag = []\n",
    "        ListCoeffValue = []\n",
    "        for coeff in name:\n",
    "            ListCoeffTag.append(coeff.tag)\n",
    "            ListCoeffValue.append(coeff.text)\n",
    "    ListCoeffLaw.append(Law)\n",
    "    Dict['reactants'] = reactants\n",
    "    Dict['Nup'] = Nup\n",
    "    Dict['products'] = products\n",
    "    Dict['Nupp'] = Nupp\n",
    "    ListDictionaries.append(Dict)\n",
    "    \n"
   ]
  },
  {
   "cell_type": "code",
   "execution_count": 57,
   "metadata": {},
   "outputs": [
    {
     "name": "stdout",
     "output_type": "stream",
     "text": [
      "H:1 O2:1\n",
      "['H:1', 'O2:1']\n",
      "H2:1 O:1\n",
      "['H2:1', 'O:1']\n"
     ]
    }
   ],
   "source": [
    "for reaction in root.find('reactionData').findall('reaction'):\n",
    "    Dict = {}\n",
    "    reactants = []\n",
    "    products = []\n",
    "    Nup = []\n",
    "    Nupp = []\n",
    "    ReactionAttribute.append(reaction.attrib)\n",
    "    #ListReaction.append(reaction.find('reactants').text)\n",
    "    print(reaction.find('reactants').text)\n",
    "    print(reaction.find('reactants').text.split())\n",
    "    reactants = reaction.find('reactants').text.split()"
   ]
  },
  {
   "cell_type": "code",
   "execution_count": 58,
   "metadata": {},
   "outputs": [
    {
     "data": {
      "text/plain": [
       "['H2:1', 'O:1']"
      ]
     },
     "execution_count": 58,
     "metadata": {},
     "output_type": "execute_result"
    }
   ],
   "source": [
    "reactants"
   ]
  },
  {
   "cell_type": "code",
   "execution_count": 6,
   "metadata": {},
   "outputs": [
    {
     "data": {
      "text/plain": [
       "['Arrhenius', 'Arrhenius']"
      ]
     },
     "execution_count": 6,
     "metadata": {},
     "output_type": "execute_result"
    }
   ],
   "source": [
    "ListCoeffLaw"
   ]
  },
  {
   "cell_type": "code",
   "execution_count": 13,
   "metadata": {},
   "outputs": [
    {
     "data": {
      "text/plain": [
       "['OH:1', 'H:1']"
      ]
     },
     "execution_count": 13,
     "metadata": {},
     "output_type": "execute_result"
    }
   ],
   "source": [
    "ListProducts[1].split()"
   ]
  },
  {
   "cell_type": "code",
   "execution_count": 19,
   "metadata": {
    "scrolled": true
   },
   "outputs": [],
   "source": [
    "for elements in ListProducts[0].split():\n",
    "    specie, nu = elements.split(':')\n",
    "    nu = int(nu)"
   ]
  },
  {
   "cell_type": "code",
   "execution_count": 27,
   "metadata": {},
   "outputs": [],
   "source": [
    "s,n = ListProducts[0].split()[0].split(':')"
   ]
  },
  {
   "cell_type": "code",
   "execution_count": 28,
   "metadata": {},
   "outputs": [
    {
     "data": {
      "text/plain": [
       "'OH'"
      ]
     },
     "execution_count": 28,
     "metadata": {},
     "output_type": "execute_result"
    }
   ],
   "source": [
    "s"
   ]
  },
  {
   "cell_type": "code",
   "execution_count": 9,
   "metadata": {},
   "outputs": [
    {
     "data": {
      "text/plain": [
       "[{'id': 'reaction01', 'reversible': 'yes', 'type': 'Elementary'},\n",
       " {'id': 'reaction02', 'reversible': 'yes', 'type': 'Elementary'}]"
      ]
     },
     "execution_count": 9,
     "metadata": {},
     "output_type": "execute_result"
    }
   ],
   "source": [
    "ReactionAttribute"
   ]
  },
  {
   "cell_type": "code",
   "execution_count": 12,
   "metadata": {},
   "outputs": [
    {
     "data": {
      "text/plain": [
       "'yes'"
      ]
     },
     "execution_count": 12,
     "metadata": {},
     "output_type": "execute_result"
    }
   ],
   "source": [
    "ReactionAttribute[0]['reversible']"
   ]
  },
  {
   "cell_type": "code",
   "execution_count": 13,
   "metadata": {},
   "outputs": [
    {
     "data": {
      "text/plain": [
       "2"
      ]
     },
     "execution_count": 13,
     "metadata": {},
     "output_type": "execute_result"
    }
   ],
   "source": [
    "len(ReactionAttribute)"
   ]
  },
  {
   "cell_type": "code",
   "execution_count": null,
   "metadata": {
    "collapsed": true
   },
   "outputs": [],
   "source": []
  }
 ],
 "metadata": {
  "kernelspec": {
   "display_name": "Python 3",
   "language": "python",
   "name": "python3"
  },
  "language_info": {
   "codemirror_mode": {
    "name": "ipython",
    "version": 3
   },
   "file_extension": ".py",
   "mimetype": "text/x-python",
   "name": "python",
   "nbconvert_exporter": "python",
   "pygments_lexer": "ipython3",
   "version": "3.6.1"
  }
 },
 "nbformat": 4,
 "nbformat_minor": 2
}
