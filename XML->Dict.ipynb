{
 "cells": [
  {
   "cell_type": "code",
   "execution_count": 44,
   "metadata": {},
   "outputs": [],
   "source": [
    "def xml2dict(file):\n",
    "    import xml.etree.ElementTree as ET\n",
    "    tree = ET.parse(file)\n",
    "    root = tree.getroot()\n",
    "\n",
    "    SpeciesArray=root.find('phase').find('speciesArray')\n",
    "    Species = SpeciesArray.text.strip().split(\" \")\n",
    "    \n",
    "    ReactionAttribute = []\n",
    "    ListReaction = []\n",
    "    ListProducts = []\n",
    "    ListCoeffLaw = []\n",
    "    \n",
    "    for reaction in root.find('reactionData').findall('reaction'):\n",
    "        ReactionAttribute.append(reaction.attrib)\n",
    "        ListReaction.append(reaction.find('reactants').text)\n",
    "        ListProducts.append(reaction.find('products').text)\n",
    "        for name in reaction.find('rateCoeff'):\n",
    "            Law = name.tag\n",
    "        ListCoeffLaw.append(Law)\n",
    "    \n",
    "    return Species, ReactionAttribute, ListReaction, ListProducts, ListCoeffLaw\n",
    "\n"
   ]
  },
  {
   "cell_type": "code",
   "execution_count": 45,
   "metadata": {},
   "outputs": [
    {
     "data": {
      "text/plain": [
       "(['H', 'O', 'OH', 'H2', 'O2'],\n",
       " [{'id': 'reaction01', 'reversible': 'yes', 'type': 'Elementary'},\n",
       "  {'id': 'reaction02', 'reversible': 'yes', 'type': 'Elementary'}],\n",
       " ['H:1 O2:1', 'H2:1 O:1'],\n",
       " ['OH:1 O:1', 'OH:1 H:1'],\n",
       " ['Arrhenius', 'Arrhenius'])"
      ]
     },
     "execution_count": 45,
     "metadata": {},
     "output_type": "execute_result"
    }
   ],
   "source": [
    "xml2dict('rxns.xml')"
   ]
  },
  {
   "cell_type": "code",
   "execution_count": 42,
   "metadata": {},
   "outputs": [],
   "source": [
    "import xml.etree.ElementTree as ET\n",
    "tree = ET.parse('rxns.xml')\n",
    "root = tree.getroot()\n",
    "\n",
    "SpeciesArray=root.find('phase').find('speciesArray')\n",
    "Species = SpeciesArray.text.strip().split(\" \")\n",
    "    \n",
    "ReactionAttribute = []\n",
    "ListReaction = []\n",
    "ListProducts = []\n",
    "ListCoeffLaw = []\n",
    "\n",
    "for reaction in root.find('reactionData').findall('reaction'):\n",
    "    ReactionAttribute.append(reaction.attrib)\n",
    "    ListReaction.append(reaction.find('reactants').text)\n",
    "    ListProducts.append(reaction.find('products').text)\n",
    "    for name in reaction.find('rateCoeff'):\n",
    "        Law = name.tag\n",
    "        for \n",
    "    ListCoeffLaw.append(Law)\n"
   ]
  },
  {
   "cell_type": "code",
   "execution_count": 43,
   "metadata": {},
   "outputs": [
    {
     "data": {
      "text/plain": [
       "['Arrhenius', 'Arrhenius']"
      ]
     },
     "execution_count": 43,
     "metadata": {},
     "output_type": "execute_result"
    }
   ],
   "source": [
    "ListCoeffLaw"
   ]
  },
  {
   "cell_type": "code",
   "execution_count": 27,
   "metadata": {},
   "outputs": [
    {
     "data": {
      "text/plain": [
       "['OH:1 O:1', 'OH:1 H:1']"
      ]
     },
     "execution_count": 27,
     "metadata": {},
     "output_type": "execute_result"
    }
   ],
   "source": [
    "ListProducts"
   ]
  },
  {
   "cell_type": "code",
   "execution_count": 9,
   "metadata": {},
   "outputs": [
    {
     "data": {
      "text/plain": [
       "[{'id': 'reaction01', 'reversible': 'yes', 'type': 'Elementary'},\n",
       " {'id': 'reaction02', 'reversible': 'yes', 'type': 'Elementary'}]"
      ]
     },
     "execution_count": 9,
     "metadata": {},
     "output_type": "execute_result"
    }
   ],
   "source": [
    "ReactionAttribute"
   ]
  },
  {
   "cell_type": "code",
   "execution_count": 12,
   "metadata": {},
   "outputs": [
    {
     "data": {
      "text/plain": [
       "'yes'"
      ]
     },
     "execution_count": 12,
     "metadata": {},
     "output_type": "execute_result"
    }
   ],
   "source": [
    "ReactionAttribute[0]['reversible']"
   ]
  },
  {
   "cell_type": "code",
   "execution_count": 13,
   "metadata": {},
   "outputs": [
    {
     "data": {
      "text/plain": [
       "2"
      ]
     },
     "execution_count": 13,
     "metadata": {},
     "output_type": "execute_result"
    }
   ],
   "source": [
    "len(ReactionAttribute)"
   ]
  },
  {
   "cell_type": "code",
   "execution_count": null,
   "metadata": {
    "collapsed": true
   },
   "outputs": [],
   "source": []
  }
 ],
 "metadata": {
  "kernelspec": {
   "display_name": "Python 3",
   "language": "python",
   "name": "python3"
  },
  "language_info": {
   "codemirror_mode": {
    "name": "ipython",
    "version": 3
   },
   "file_extension": ".py",
   "mimetype": "text/x-python",
   "name": "python",
   "nbconvert_exporter": "python",
   "pygments_lexer": "ipython3",
   "version": "3.6.1"
  }
 },
 "nbformat": 4,
 "nbformat_minor": 2
}
