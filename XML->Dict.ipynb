{
 "cells": [
  {
   "cell_type": "code",
   "execution_count": 94,
   "metadata": {
    "collapsed": true
   },
   "outputs": [],
   "source": [
    "#Written by Baptiste Lemaire\n",
    "\n",
    "def xml2dict(file):\n",
    "    \"\"\"Read the XML file of the reactions and returns a list of dictionaries with \n",
    "       the features of every reaction, and an array of all the species involved.\n",
    "       \n",
    "    INPUTS\n",
    "    ======\n",
    "    file : XML file. \n",
    "           The format of the this input file must follow\n",
    "           the format given by Prof. David Sondak.\n",
    "    \n",
    "    RETURNS\n",
    "    =======\n",
    "    Species: array of strings. \n",
    "    \n",
    "    ListDictionaries: list of dictionaries.\n",
    "                      Includes all the parameters of the reactions provided in XML files.\n",
    "             \n",
    "    EXAMPLES\n",
    "    ========\n",
    "    >>> xml2dict('rxns.xml')\n",
    "    (['H', 'O', 'OH', 'H2', 'O2'], [{'coeffParams': {'A': 35200000000.0, 'b': -0.7, 'E': 71400.0}, 'coeffUnits': {'A': 'm3/mol/s', 'b': 'dimensionless', 'E': 'J/mol'}, 'id': 'reaction01', 'reversible': 'yes', 'type': 'Elementary', 'reactants': {'H': 1, 'O2': 1}, 'products': {'OH': 1, 'O': 1}, 'coeffLaw': 'Arrhenius'}, {'coeffParams': {'A': 0.0506, 'b': 2.7, 'E': 26300.0}, 'coeffUnits': {'A': 'm3/mol/s', 'b': 'dimensionless', 'E': 'J/mol'}, 'id': 'reaction02', 'reversible': 'yes', 'type': 'Elementary', 'reactants': {'H2': 1, 'O': 1}, 'products': {'OH': 1, 'H': 1}, 'coeffLaw': 'Arrhenius'}])    \n",
    "    \"\"\"\n",
    "    import xml.etree.ElementTree as ET\n",
    "    tree = ET.parse(file)\n",
    "    root = tree.getroot()\n",
    "\n",
    "    SpeciesArray=root.find('phase').find('speciesArray')\n",
    "    Species = SpeciesArray.text.strip().split(\" \")\n",
    "    \n",
    "    ListDictionaries = []\n",
    "    \n",
    "    #Now: go through every reaction to read the features:\n",
    "    \n",
    "    for reaction in root.find('reactionData').findall('reaction'):\n",
    "        \n",
    "        #Initialization of the variables\n",
    "        \n",
    "        Dict = {}\n",
    "        reactants = []\n",
    "        products = []\n",
    "        Nup = []\n",
    "        Nupp = []\n",
    "        ListCoeffUnits = []\n",
    "        \n",
    "        ListReactants = reaction.find('reactants').text.split()\n",
    "        for elementsR in ListReactants:\n",
    "            specie, nu = elementsR.split(':')\n",
    "            reactants.append(specie)\n",
    "            Nup.append(int(nu))\n",
    "        ListProducts = reaction.find('products').text.split()\n",
    "        for elementsP in ListProducts:\n",
    "            specie, nu = elementsP.split(':')\n",
    "            products.append(specie)\n",
    "            Nupp.append(int(nu))\n",
    "        for name in reaction.find('rateCoeff'):\n",
    "            Law = name.tag\n",
    "            ListCoeffTag = []\n",
    "            ListCoeffValue = []\n",
    "            for coeff in name:\n",
    "                ListCoeffTag.append(coeff.tag)\n",
    "                ListCoeffValue.append(float(coeff.text))\n",
    "                if len(coeff.attrib) != 0:\n",
    "                    ListCoeffUnits.append(coeff.attrib['units'])\n",
    "                else:\n",
    "                    ListCoeffUnits.append('dimensionless')\n",
    "        Dict['coeffParams'] = dict(zip(ListCoeffTag, ListCoeffValue))\n",
    "        Dict['coeffUnits'] = dict(zip(ListCoeffTag,ListCoeffUnits))\n",
    "        Dict['id'] = reaction.attrib['id']\n",
    "        Dict['reversible'] = reaction.attrib['reversible']\n",
    "        Dict['type'] = reaction.attrib['type']\n",
    "        Dict['reactants'] = dict(zip(reactants, Nup))\n",
    "        Dict['products'] = dict(zip(products, Nupp))\n",
    "        Dict['coeffLaw'] = Law\n",
    "        ListDictionaries.append(Dict)\n",
    "        \n",
    "    return Species, ListDictionaries\n",
    "\n"
   ]
  },
  {
   "cell_type": "code",
   "execution_count": 95,
   "metadata": {},
   "outputs": [
    {
     "data": {
      "text/plain": [
       "(['H', 'O', 'OH', 'H2', 'O2'],\n",
       " [{'coeffLaw': 'Arrhenius',\n",
       "   'coeffParams': {'A': 35200000000.0, 'E': 71400.0, 'b': -0.7},\n",
       "   'coeffUnits': {'A': 'm3/mol/s', 'E': 'J/mol', 'b': 'dimensionless'},\n",
       "   'id': 'reaction01',\n",
       "   'products': {'O': 1, 'OH': 1},\n",
       "   'reactants': {'H': 1, 'O2': 1},\n",
       "   'reversible': 'yes',\n",
       "   'type': 'Elementary'},\n",
       "  {'coeffLaw': 'Arrhenius',\n",
       "   'coeffParams': {'A': 0.0506, 'E': 26300.0, 'b': 2.7},\n",
       "   'coeffUnits': {'A': 'm3/mol/s', 'E': 'J/mol', 'b': 'dimensionless'},\n",
       "   'id': 'reaction02',\n",
       "   'products': {'H': 1, 'OH': 1},\n",
       "   'reactants': {'H2': 1, 'O': 1},\n",
       "   'reversible': 'yes',\n",
       "   'type': 'Elementary'}])"
      ]
     },
     "execution_count": 95,
     "metadata": {},
     "output_type": "execute_result"
    }
   ],
   "source": [
    "xml2dict('rxns.xml')"
   ]
  },
  {
   "cell_type": "code",
   "execution_count": 96,
   "metadata": {},
   "outputs": [
    {
     "name": "stdout",
     "output_type": "stream",
     "text": [
      "Trying:\n",
      "    xml2dict('rxns.xml')\n",
      "Expecting:\n",
      "    (['H', 'O', 'OH', 'H2', 'O2'], [{'coeffParams': {'A': 35200000000.0, 'b': -0.7, 'E': 71400.0}, 'coeffUnits': {'A': 'm3/mol/s', 'b': 'dimensionless', 'E': 'J/mol'}, 'id': 'reaction01', 'reversible': 'yes', 'type': 'Elementary', 'reactants': {'H': 1, 'O2': 1}, 'products': {'OH': 1, 'O': 1}, 'coeffLaw': 'Arrhenius'}, {'coeffParams': {'A': 0.0506, 'b': 2.7, 'E': 26300.0}, 'coeffUnits': {'A': 'm3/mol/s', 'b': 'dimensionless', 'E': 'J/mol'}, 'id': 'reaction02', 'reversible': 'yes', 'type': 'Elementary', 'reactants': {'H2': 1, 'O': 1}, 'products': {'OH': 1, 'H': 1}, 'coeffLaw': 'Arrhenius'}])    \n",
      "**********************************************************************\n",
      "File \"__main__\", line 22, in __main__.xml2dict\n",
      "Failed example:\n",
      "    xml2dict('rxns.xml')\n",
      "Expected:\n",
      "    (['H', 'O', 'OH', 'H2', 'O2'], [{'coeffParams': {'A': 35200000000.0, 'b': -0.7, 'E': 71400.0}, 'coeffUnits': {'A': 'm3/mol/s', 'b': 'dimensionless', 'E': 'J/mol'}, 'id': 'reaction01', 'reversible': 'yes', 'type': 'Elementary', 'reactants': {'H': 1, 'O2': 1}, 'products': {'OH': 1, 'O': 1}, 'coeffLaw': 'Arrhenius'}, {'coeffParams': {'A': 0.0506, 'b': 2.7, 'E': 26300.0}, 'coeffUnits': {'A': 'm3/mol/s', 'b': 'dimensionless', 'E': 'J/mol'}, 'id': 'reaction02', 'reversible': 'yes', 'type': 'Elementary', 'reactants': {'H2': 1, 'O': 1}, 'products': {'OH': 1, 'H': 1}, 'coeffLaw': 'Arrhenius'}])    \n",
      "Got:\n",
      "    (['H', 'O', 'OH', 'H2', 'O2'], [{'coeffParams': {'A': 35200000000.0, 'b': -0.7, 'E': 71400.0}, 'coeffUnits': {'A': 'm3/mol/s', 'b': 'dimensionless', 'E': 'J/mol'}, 'id': 'reaction01', 'reversible': 'yes', 'type': 'Elementary', 'reactants': {'H': 1, 'O2': 1}, 'products': {'OH': 1, 'O': 1}, 'coeffLaw': 'Arrhenius'}, {'coeffParams': {'A': 0.0506, 'b': 2.7, 'E': 26300.0}, 'coeffUnits': {'A': 'm3/mol/s', 'b': 'dimensionless', 'E': 'J/mol'}, 'id': 'reaction02', 'reversible': 'yes', 'type': 'Elementary', 'reactants': {'H2': 1, 'O': 1}, 'products': {'OH': 1, 'H': 1}, 'coeffLaw': 'Arrhenius'}])\n",
      "1 items had no tests:\n",
      "    __main__\n",
      "**********************************************************************\n",
      "1 items had failures:\n",
      "   1 of   1 in __main__.xml2dict\n",
      "1 tests in 2 items.\n",
      "0 passed and 1 failed.\n",
      "***Test Failed*** 1 failures.\n"
     ]
    },
    {
     "data": {
      "text/plain": [
       "TestResults(failed=1, attempted=1)"
      ]
     },
     "execution_count": 96,
     "metadata": {},
     "output_type": "execute_result"
    }
   ],
   "source": [
    "import doctest\n",
    "doctest.testmod(verbose=True)"
   ]
  },
  {
   "cell_type": "code",
   "execution_count": 79,
   "metadata": {},
   "outputs": [
    {
     "data": {
      "text/plain": [
       "(['H2', 'O2', 'OH', 'HO2', 'H2O'],\n",
       " [{'Law': 'modArrhenius',\n",
       "   'coeff_names': ['A', 'b', 'E'],\n",
       "   'coeff_units': ['m3/mol/s', 'dimensionless', 'J/mol'],\n",
       "   'coeff_values': [100000000.0, 0.5, 50000.0],\n",
       "   'id': 'reaction01',\n",
       "   'nup': [2, 1],\n",
       "   'nupp': [2, 1],\n",
       "   'products': ['OH', 'H2'],\n",
       "   'reactants': ['H2', 'O2'],\n",
       "   'reversible': 'yes',\n",
       "   'type': 'Elementary'},\n",
       "  {'Law': 'Constant',\n",
       "   'coeff_names': ['k'],\n",
       "   'coeff_units': ['m3/mol/s'],\n",
       "   'coeff_values': [10000.0],\n",
       "   'id': 'reaction02',\n",
       "   'nup': [1, 1],\n",
       "   'nupp': [1, 1],\n",
       "   'products': ['H2O', 'O2'],\n",
       "   'reactants': ['OH', 'HO2'],\n",
       "   'reversible': 'yes',\n",
       "   'type': 'Elementary'},\n",
       "  {'Law': 'Arrhenius',\n",
       "   'coeff_names': ['A', 'E'],\n",
       "   'coeff_units': ['m3/mol/s', 'J/mol'],\n",
       "   'coeff_values': [10000000.0, 10000.0],\n",
       "   'id': 'reaction03',\n",
       "   'nup': [1, 1],\n",
       "   'nupp': [1, 1],\n",
       "   'products': ['OH', 'O'],\n",
       "   'reactants': ['H', 'O2'],\n",
       "   'reversible': 'yes',\n",
       "   'type': 'Elementary'}])"
      ]
     },
     "execution_count": 79,
     "metadata": {},
     "output_type": "execute_result"
    }
   ],
   "source": [
    "xml2dict('rxns2.xml')"
   ]
  }
 ],
 "metadata": {
  "kernelspec": {
   "display_name": "Python 3",
   "language": "python",
   "name": "python3"
  },
  "language_info": {
   "codemirror_mode": {
    "name": "ipython",
    "version": 3
   },
   "file_extension": ".py",
   "mimetype": "text/x-python",
   "name": "python",
   "nbconvert_exporter": "python",
   "pygments_lexer": "ipython3",
   "version": "3.6.1"
  }
 },
 "nbformat": 4,
 "nbformat_minor": 2
}
