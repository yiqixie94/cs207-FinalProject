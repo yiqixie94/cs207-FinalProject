{
 "cells": [
  {
   "cell_type": "code",
   "execution_count": 1,
   "metadata": {
    "collapsed": true
   },
   "outputs": [],
   "source": [
    "from copy import deepcopy\n",
    "import numpy as np\n",
    "\n",
    "\n",
    "class Reaction:\n",
    "    \n",
    "    class _CoeffLaws:\n",
    "        \n",
    "        class _BuiltIn:\n",
    "            def const(**kwargs):\n",
    "                k = kwargs['k'] if 'k' in kwargs else 1.0\n",
    "                if k <= 0.0:\n",
    "                    raise ValueError('k = {0:18.16e}:  Non-positive reaction rate coefficient is prohibited.'.format(k))\n",
    "                return k\n",
    "            def arr(**kwargs):\n",
    "                T = kwargs['T']\n",
    "                R = kwargs['R'] if 'R' in kwargs else 8.314\n",
    "                A = kwargs['A'] if 'A' in kwargs else 1.0\n",
    "                E = kwargs['E'] if 'E' in kwargs else 0.0\n",
    "                if T <= 0.0:\n",
    "                    raise ValueError(\"T = {0:18.16e}:  Non-positive Arrhenius prefactor is prohibited.\".format(T))\n",
    "                if A <= 0.0:\n",
    "                    raise ValueError(\"A = {0:18.16e}:  Non-positive temperature is prohibited.\".format(A))\n",
    "                if R <= 0.0:\n",
    "                    raise ValueError(\"R = {0:18.16e}:  Non-positive ideal gas constant is prohibited.\".format(R))\n",
    "                return A * np.exp(-E / (R * T))\n",
    "            def modarr(**kwargs):\n",
    "                T = kwargs['T']\n",
    "                R = kwargs['R'] if 'R' in kwargs else 8.314\n",
    "                A = kwargs['A'] if 'A' in kwargs else 1.0\n",
    "                b = kwargs['b'] if 'b' in kwargs else 0.0\n",
    "                E = kwargs['E'] if 'E' in kwargs else 0.0\n",
    "                if T <= 0.0:\n",
    "                    raise ValueError(\"T = {0:18.16e}:  Non-positive Arrhenius prefactor is prohibited.\".format(T))\n",
    "                if A <= 0.0:\n",
    "                    raise ValueError(\"A = {0:18.16e}:  Non-positive temperature is prohibited.\".format(A))\n",
    "                if R <= 0.0:\n",
    "                    raise ValueError(\"R = {0:18.16e}:  Non-positive ideal gas constant is prohibited.\".format(R))\n",
    "                return A * (T ** b) * np.exp(-E / (R * T))\n",
    "            \n",
    "        _dict_builtin = {\n",
    "            'const' :_BuiltIn.const, \n",
    "            'arr'   :_BuiltIn.arr, \n",
    "            'modarr':_BuiltIn.modarr\n",
    "        }\n",
    "        _dict_full = deepcopy(_dict_builtin)\n",
    "        \n",
    "        @classmethod\n",
    "        def get(cls, name):\n",
    "            return cls._dict_full[name]\n",
    "        @classmethod\n",
    "        def update(cls, name, law):\n",
    "            if name in cls._dict_builtin:\n",
    "                raise ValueError('LawName = {}. Changing a built-in law is prohibited.'.format(name))\n",
    "            cls._dict_full[name] = law\n",
    "        @classmethod\n",
    "        def remove(cls, name):\n",
    "            if name in cls._dict_builtin:\n",
    "                raise ValueError('LawName = {}. Removing a built-in law is prohibited.'.format(name))\n",
    "            del cls._dict_full[name]\n",
    "        @classmethod\n",
    "        def reset(cls):\n",
    "            cls._dict_full = deepcopy(cls._dict_builtin)\n",
    "            \n",
    "    \n",
    "    \n",
    "    def __init__(self, **kwargs):\n",
    "        self._id          = kwargs['id']          if 'id'          in kwargs else ''\n",
    "        self._reversible  = kwargs['reversible']  if 'reversible'  in kwargs else False\n",
    "        self._type        = kwargs['type']        if 'type'        in kwargs else 'elementary'\n",
    "        self._coeffLaw    = kwargs['coeffLaw']    if 'coeffLaw'    in kwargs else 'const'\n",
    "        self._coeffParams = kwargs['coeffParams'] if 'coeffParams' in kwargs else {}\n",
    "        self._reactants   = kwargs['reactants']   if 'reactants'   in kwargs else {}\n",
    "        self._products    = kwargs['products']    if 'products'    in kwargs else {}\n",
    "        if self._reversible == True:\n",
    "            raise NotImplementedError('Reversible reaction is not implemented.')\n",
    "        if self._type != 'elementary':\n",
    "            raise NotImplementedError('Type = {}. Non-elementary reaction is not implemented.'.format(self._type))\n",
    "        if not self._coeffLaw in self._CoeffLaws._dict_full:\n",
    "            raise NotImplementedError('Law = {}. Refered reaction rate coefficient law is not implemented.'.format(self._coeffLaw))\n",
    "    \n",
    "    def rateCoeff(self, **otherParams):\n",
    "        return self._CoeffLaws._dict_full[self._coeffLaw](**self._coeffParams, **otherParams)\n",
    "    \n",
    "    def getReactants(self):\n",
    "        return self._reactants\n",
    "    \n",
    "    def getProducats(self):\n",
    "        return self._products"
   ]
  },
  {
   "cell_type": "code",
   "execution_count": 78,
   "metadata": {
    "collapsed": true
   },
   "outputs": [],
   "source": [
    "import numpy as np\n",
    "\n",
    "class Reaction_Rate:\n",
    "    \n",
    "    def __init__(self, nu_react, nu_prod, concs, k):\n",
    "        self.nu_react = nu_react\n",
    "        self.nu_prod = nu_prod\n",
    "        self.concs = concs\n",
    "        self.k = k\n",
    "     \n",
    "    def progress_rate(self):\n",
    "        \"\"\"Returns the progress rate of a system of irreversible, elementary reactions\n",
    "\n",
    "        INPUTS:\n",
    "        =======\n",
    "        nu_react: numpy array of floats, \n",
    "                  size: num_species X num_reactions\n",
    "                  stoichiometric coefficients for the reaction\n",
    "        k:        array of floats\n",
    "                  Reaction rate coefficient for the reaction\n",
    "        concs:    numpy array of floats \n",
    "                  concentration of species\n",
    "\n",
    "        RETURNS:\n",
    "        ========\n",
    "        omega: numpy array of floats\n",
    "               size: num_reactions\n",
    "               progress rate of each reaction\n",
    "\n",
    "        EXAMPLES:\n",
    "        =========\n",
    "        >>> progress_rate_2(np.array([[2.0, 1.0], [1.0, 0.0], [0.0, 1.0]]), np.array([2.0, 1.0, 1.0]), 10.0)\n",
    "        array([ 40.,  20.])\n",
    "        \"\"\"\n",
    "        self.progress = self.k # Initialize progress rates with reaction rate coefficients\n",
    "        for jdx, rj in enumerate(self.progress):\n",
    "            if rj < 0:\n",
    "                raise ValueError(\"k = {0:18.16e}:  Negative reaction rate coefficients are prohibited!\".format(rj))\n",
    "            for idx, xi in enumerate(self.concs):\n",
    "                nu_ij = self.nu_react[idx,jdx]\n",
    "                if xi  < 0.0:\n",
    "                    raise ValueError(\"x{0} = {1:18.16e}:  Negative concentrations are prohibited!\".format(idx, xi))\n",
    "                if nu_ij < 0:\n",
    "                    raise ValueError(\"nu_{0}{1} = {2}:  Negative stoichiometric coefficients are prohibited!\".format(idx, jdx, nu_ij))\n",
    "\n",
    "                self.progress[jdx] *= xi**nu_ij\n",
    "        return self.progress\n",
    "\n",
    "    def reaction_rate(self):\n",
    "        \"\"\"Returns the reaction rate of a system of irreversible, elementary reactions\n",
    "\n",
    "        INPUTS:\n",
    "        =======\n",
    "        nu_react: numpy array of floats, \n",
    "                  size: num_species X num_reactions\n",
    "                  stoichiometric coefficients for the reactants\n",
    "        nu_prod:  numpy array of floats, \n",
    "                  size: num_species X num_reactions\n",
    "                  stoichiometric coefficients for the products\n",
    "        k:        float, default value is 10, \n",
    "                  Reaction rate coefficient for the reaction\n",
    "        concs:    numpy array of floats \n",
    "                  concentration of species\n",
    "\n",
    "        RETURNS:\n",
    "        ========\n",
    "        f: numpy array of floats\n",
    "           size: num_species\n",
    "           reaction rate of each specie\n",
    "\n",
    "        EXAMPLES:\n",
    "        =========\n",
    "        >>> nu_react = np.array([[1.0, 0.0], [2.0, 0.0], [0.0, 2.0]])\n",
    "        >>> nu_prod = np.array([[0.0, 1.0], [0.0, 2.0], [1.0, 0.0]])\n",
    "        >>> r = np.array([ 40.,  20.])\n",
    "        >>> reaction_rate(nu_react, nu_prod, r)\n",
    "        array([-20., -40.,   0.])\n",
    "        \"\"\"\n",
    "        nu = self.nu_prod - self.nu_react\n",
    "        return np.dot(nu, self.progress)"
   ]
  },
  {
   "cell_type": "code",
   "execution_count": 79,
   "metadata": {
    "collapsed": true
   },
   "outputs": [],
   "source": [
    "class transform:\n",
    "    \n",
    "    def __init__(self, r_ls, element_ls, T):\n",
    "        num_reaction = len(r_ls)\n",
    "        self._reactants = np.zeros([len(element_list), num_reaction])\n",
    "        self._products = np.zeros([len(element_list), num_reaction])\n",
    "        self._k = np.zeros(num_reaction)\n",
    "        \n",
    "        for n, r in enumerate(r_ls):\n",
    "            self._k[n] = r.rateCoeff(T = T)\n",
    "            for idx, e in enumerate(element_list):\n",
    "                self._reactants[idx, n] = r.getReactants()[e] if e in r.getReactants() else 0\n",
    "                self._products[idx, n] = r.getProducats()[e] if e in r.getProducats() else 0\n",
    "    \n",
    "    def rateCoeff(self):\n",
    "        return self._k\n",
    "    \n",
    "    def getReactants(self):\n",
    "        return self._reactants\n",
    "    \n",
    "    def getProducats(self):\n",
    "        return self._products"
   ]
  },
  {
   "cell_type": "code",
   "execution_count": 80,
   "metadata": {
    "collapsed": true
   },
   "outputs": [],
   "source": [
    "r_ls = []\n",
    "r_ls.append(Reaction(\n",
    "    reactants=dict(H=1,O2=1), products=dict(OH=1,O=1),\n",
    "    coeffLaw='arr', coeffParams=dict(E=-8.314)\n",
    "))\n",
    "\n",
    "r_ls.append(Reaction(\n",
    "    reactants=dict(H2=1,O=1), products=dict(OH=1,H=1),\n",
    "    coeffLaw='arr', coeffParams=dict(E=-8.314)\n",
    "))"
   ]
  },
  {
   "cell_type": "code",
   "execution_count": 81,
   "metadata": {
    "collapsed": true
   },
   "outputs": [],
   "source": [
    "element_list = ['H', 'O', 'OH', 'H2', 'O2']"
   ]
  },
  {
   "cell_type": "code",
   "execution_count": 82,
   "metadata": {
    "collapsed": true
   },
   "outputs": [],
   "source": [
    "concentration = np.array([2, 1, 0.5, 1, 1]).transpose()"
   ]
  },
  {
   "cell_type": "code",
   "execution_count": 83,
   "metadata": {
    "collapsed": true
   },
   "outputs": [],
   "source": [
    "t = transform(r_ls, element_list, T = 1)"
   ]
  },
  {
   "cell_type": "code",
   "execution_count": 84,
   "metadata": {},
   "outputs": [
    {
     "data": {
      "text/plain": [
       "array([ 2.71828183,  2.71828183])"
      ]
     },
     "execution_count": 84,
     "metadata": {},
     "output_type": "execute_result"
    }
   ],
   "source": [
    "t.rateCoeff()"
   ]
  },
  {
   "cell_type": "code",
   "execution_count": 85,
   "metadata": {},
   "outputs": [
    {
     "data": {
      "text/plain": [
       "array([[ 0.,  1.],\n",
       "       [ 1.,  0.],\n",
       "       [ 1.,  1.],\n",
       "       [ 0.,  0.],\n",
       "       [ 0.,  0.]])"
      ]
     },
     "execution_count": 85,
     "metadata": {},
     "output_type": "execute_result"
    }
   ],
   "source": [
    "t.getProducats()"
   ]
  },
  {
   "cell_type": "code",
   "execution_count": 86,
   "metadata": {},
   "outputs": [
    {
     "data": {
      "text/plain": [
       "array([[ 1.,  0.],\n",
       "       [ 0.,  1.],\n",
       "       [ 0.,  0.],\n",
       "       [ 0.,  1.],\n",
       "       [ 1.,  0.]])"
      ]
     },
     "execution_count": 86,
     "metadata": {},
     "output_type": "execute_result"
    }
   ],
   "source": [
    "t.getReactants()"
   ]
  },
  {
   "cell_type": "code",
   "execution_count": 87,
   "metadata": {
    "collapsed": true
   },
   "outputs": [],
   "source": [
    "reaction_rate = Reaction_Rate(t.getReactants(), t.getProducats(), concentration, t.rateCoeff())"
   ]
  },
  {
   "cell_type": "code",
   "execution_count": 89,
   "metadata": {},
   "outputs": [
    {
     "data": {
      "text/plain": [
       "array([-2.71828183,  2.71828183,  8.15484549, -2.71828183, -5.43656366])"
      ]
     },
     "execution_count": 89,
     "metadata": {},
     "output_type": "execute_result"
    }
   ],
   "source": [
    "reaction_rate.reaction_rate()"
   ]
  },
  {
   "cell_type": "raw",
   "metadata": {},
   "source": []
  }
 ],
 "metadata": {
  "kernelspec": {
   "display_name": "Python 3",
   "language": "python",
   "name": "python3"
  },
  "language_info": {
   "codemirror_mode": {
    "name": "ipython",
    "version": 3
   },
   "file_extension": ".py",
   "mimetype": "text/x-python",
   "name": "python",
   "nbconvert_exporter": "python",
   "pygments_lexer": "ipython3",
   "version": "3.6.1"
  }
 },
 "nbformat": 4,
 "nbformat_minor": 2
}
