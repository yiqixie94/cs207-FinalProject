{
 "cells": [
  {
   "cell_type": "code",
   "execution_count": 1,
   "metadata": {
    "collapsed": true
   },
   "outputs": [],
   "source": [
    "from chemkin_CS207_G9.reaction.Reaction import Reaction\n",
    "from chemkin_CS207_G9.reaction.ReactionSystem import ReactionSystem\n",
    "from chemkin_CS207_G9.parser.database_query import CoeffQuery"
   ]
  },
  {
   "cell_type": "markdown",
   "metadata": {},
   "source": [
    "### Some reactions involving species H2, O2, OH, HO2 and H2O"
   ]
  },
  {
   "cell_type": "code",
   "execution_count": null,
   "metadata": {
    "collapsed": true
   },
   "outputs": [],
   "source": [
    "reaction1 = Reaction(\n",
    "    reactants={'H2':2,'O2':1}, products = {'OH':2,'H2':1}, \n",
    "    coeffLaw = 'Constant', coeffParams = {'k':10}, \n",
    "    reversible='no')\n",
    "reaction2 = Reaction(\n",
    "    reactants={'OH':1,'HO2':1}, products = {'H2O':1,'O2':1}, \n",
    "    coeffLaw = 'Arrhenius', coeffParams = {'A':5, 'E':-10}, \n",
    "    reversible='yes')\n",
    "reactions = [reaction1, reaction2]"
   ]
  },
  {
   "cell_type": "markdown",
   "metadata": {},
   "source": [
    "### Species specified in order"
   ]
  },
  {
   "cell_type": "code",
   "execution_count": null,
   "metadata": {
    "collapsed": true
   },
   "outputs": [],
   "source": [
    "species = ['H2', 'O2', 'OH', 'HO2', 'H2O']"
   ]
  },
  {
   "cell_type": "markdown",
   "metadata": {},
   "source": [
    "### One concentration value is needed for each species of our reactions"
   ]
  },
  {
   "cell_type": "code",
   "execution_count": null,
   "metadata": {
    "collapsed": true
   },
   "outputs": [],
   "source": [
    "concentrations = {'H2':1, 'O2':2, 'OH':2, 'HO2':1, 'H2O':1}"
   ]
  },
  {
   "cell_type": "markdown",
   "metadata": {},
   "source": [
    "### And the temperature under which they react"
   ]
  },
  {
   "cell_type": "code",
   "execution_count": null,
   "metadata": {
    "collapsed": true
   },
   "outputs": [],
   "source": [
    "temperature = 300"
   ]
  },
  {
   "cell_type": "markdown",
   "metadata": {},
   "source": [
    "### Database connection object to the nasa coefficients\n",
    "### (this is just an example, you should specify your own path to the file)"
   ]
  },
  {
   "cell_type": "code",
   "execution_count": null,
   "metadata": {
    "collapsed": true
   },
   "outputs": [],
   "source": [
    "nasa_query = CoeffQuery('nasa_thermo_all.sqlite')"
   ]
  }
 ],
 "metadata": {
  "kernelspec": {
   "display_name": "Python 3",
   "language": "python",
   "name": "python3"
  },
  "language_info": {
   "codemirror_mode": {
    "name": "ipython",
    "version": 3
   },
   "file_extension": ".py",
   "mimetype": "text/x-python",
   "name": "python",
   "nbconvert_exporter": "python",
   "pygments_lexer": "ipython3",
   "version": "3.6.1"
  }
 },
 "nbformat": 4,
 "nbformat_minor": 2
}
