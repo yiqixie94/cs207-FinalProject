{
 "cells": [
  {
   "cell_type": "code",
   "execution_count": 4,
   "metadata": {},
   "outputs": [
    {
     "name": "stdout",
     "output_type": "stream",
     "text": [
      "running install\n",
      "running bdist_egg\n",
      "running egg_info\n",
      "writing chemkin_CS207_G9.egg-info/PKG-INFO\n",
      "writing dependency_links to chemkin_CS207_G9.egg-info/dependency_links.txt\n",
      "writing top-level names to chemkin_CS207_G9.egg-info/top_level.txt\n",
      "reading manifest file 'chemkin_CS207_G9.egg-info/SOURCES.txt'\n",
      "writing manifest file 'chemkin_CS207_G9.egg-info/SOURCES.txt'\n",
      "installing library code to build/bdist.macosx-10.7-x86_64/egg\n",
      "running install_lib\n",
      "running build_py\n",
      "copying test/test_ode_solver.py -> build/lib/test\n",
      "copying test/test_RSGraph.py -> build/lib/test\n",
      "copying test/test_NonNetworkPlot.py -> build/lib/test\n",
      "creating build/lib/chemkin_CS207_G9/reaction\n",
      "copying chemkin_CS207_G9/reaction/ReactionSystem.py -> build/lib/chemkin_CS207_G9/reaction\n",
      "copying chemkin_CS207_G9/reaction/__init__.py -> build/lib/chemkin_CS207_G9/reaction\n",
      "copying chemkin_CS207_G9/reaction/CoeffLaw.py -> build/lib/chemkin_CS207_G9/reaction\n",
      "copying chemkin_CS207_G9/reaction/Reaction.py -> build/lib/chemkin_CS207_G9/reaction\n",
      "creating build/lib/chemkin_CS207_G9/parser\n",
      "copying chemkin_CS207_G9/parser/__init__.py -> build/lib/chemkin_CS207_G9/parser\n",
      "copying chemkin_CS207_G9/parser/database_query.py -> build/lib/chemkin_CS207_G9/parser\n",
      "copying chemkin_CS207_G9/parser/xml2dict.py -> build/lib/chemkin_CS207_G9/parser\n",
      "creating build/lib/chemkin_CS207_G9/math\n",
      "copying chemkin_CS207_G9/math/__init__.py -> build/lib/chemkin_CS207_G9/math\n",
      "copying chemkin_CS207_G9/math/ode_solver.py -> build/lib/chemkin_CS207_G9/math\n",
      "creating build/lib/chemkin_CS207_G9/plotting\n",
      "copying chemkin_CS207_G9/plotting/NonNetworkPlot.py -> build/lib/chemkin_CS207_G9/plotting\n",
      "copying chemkin_CS207_G9/plotting/__init__.py -> build/lib/chemkin_CS207_G9/plotting\n",
      "copying chemkin_CS207_G9/plotting/RSGraph.py -> build/lib/chemkin_CS207_G9/plotting\n",
      "creating build/lib/chemkin_CS207_G9/data\n",
      "copying chemkin_CS207_G9/data/__init__.py -> build/lib/chemkin_CS207_G9/data\n",
      "creating build/lib/chemkin_CS207_G9/auxiliary\n",
      "copying chemkin_CS207_G9/auxiliary/useful_structure.py -> build/lib/chemkin_CS207_G9/auxiliary\n",
      "copying chemkin_CS207_G9/auxiliary/__init__.py -> build/lib/chemkin_CS207_G9/auxiliary\n",
      "copying chemkin_CS207_G9/auxiliary/check_and_response.py -> build/lib/chemkin_CS207_G9/auxiliary\n",
      "copying chemkin_CS207_G9/auxiliary/mathematical_science.py -> build/lib/chemkin_CS207_G9/auxiliary\n",
      "copying test/rxns_reversible.xml -> build/lib/test\n",
      "copying chemkin_CS207_G9/parser/nasa_thermo.sqlite -> build/lib/chemkin_CS207_G9/parser\n",
      "copying chemkin_CS207_G9/data/rxns_reversible.xml -> build/lib/chemkin_CS207_G9/data\n",
      "copying chemkin_CS207_G9/data/nasa_thermo.sqlite -> build/lib/chemkin_CS207_G9/data\n",
      "copying chemkin_CS207_G9/data/nasa_thermo_all.sqlite -> build/lib/chemkin_CS207_G9/data\n",
      "creating build/bdist.macosx-10.7-x86_64\n",
      "creating build/bdist.macosx-10.7-x86_64/egg\n",
      "creating build/bdist.macosx-10.7-x86_64/egg/test\n",
      "copying build/lib/test/test_database_query.py -> build/bdist.macosx-10.7-x86_64/egg/test\n",
      "copying build/lib/test/rxns.xml -> build/bdist.macosx-10.7-x86_64/egg/test\n",
      "copying build/lib/test/rxns2.xml -> build/bdist.macosx-10.7-x86_64/egg/test\n",
      "copying build/lib/test/__init__.py -> build/bdist.macosx-10.7-x86_64/egg/test\n",
      "copying build/lib/test/rxns_reversible.xml -> build/bdist.macosx-10.7-x86_64/egg/test\n",
      "copying build/lib/test/test_xml2dict.py -> build/bdist.macosx-10.7-x86_64/egg/test\n",
      "copying build/lib/test/test_ode_solver.py -> build/bdist.macosx-10.7-x86_64/egg/test\n",
      "copying build/lib/test/test_Reaction.py -> build/bdist.macosx-10.7-x86_64/egg/test\n",
      "copying build/lib/test/test_RSGraph.py -> build/bdist.macosx-10.7-x86_64/egg/test\n",
      "copying build/lib/test/test_database.sqlite -> build/bdist.macosx-10.7-x86_64/egg/test\n",
      "copying build/lib/test/nasa_thermo.sqlite -> build/bdist.macosx-10.7-x86_64/egg/test\n",
      "copying build/lib/test/test_CoeffLaw.py -> build/bdist.macosx-10.7-x86_64/egg/test\n",
      "copying build/lib/test/test_ReactionSystem.py -> build/bdist.macosx-10.7-x86_64/egg/test\n",
      "copying build/lib/test/test_NonNetworkPlot.py -> build/bdist.macosx-10.7-x86_64/egg/test\n",
      "creating build/bdist.macosx-10.7-x86_64/egg/former_structure\n",
      "copying build/lib/former_structure/__init__.py -> build/bdist.macosx-10.7-x86_64/egg/former_structure\n",
      "creating build/bdist.macosx-10.7-x86_64/egg/former_structure/This_is_a_test2\n",
      "copying build/lib/former_structure/This_is_a_test2/ReactionSystem.py -> build/bdist.macosx-10.7-x86_64/egg/former_structure/This_is_a_test2\n",
      "copying build/lib/former_structure/This_is_a_test2/useful_structure.py -> build/bdist.macosx-10.7-x86_64/egg/former_structure/This_is_a_test2\n",
      "copying build/lib/former_structure/This_is_a_test2/__init__.py -> build/bdist.macosx-10.7-x86_64/egg/former_structure/This_is_a_test2\n",
      "copying build/lib/former_structure/This_is_a_test2/CoeffLaw.py -> build/bdist.macosx-10.7-x86_64/egg/former_structure/This_is_a_test2\n",
      "copying build/lib/former_structure/This_is_a_test2/rxns_reversible.xml -> build/bdist.macosx-10.7-x86_64/egg/former_structure/This_is_a_test2\n",
      "copying build/lib/former_structure/This_is_a_test2/check_and_response.py -> build/bdist.macosx-10.7-x86_64/egg/former_structure/This_is_a_test2\n",
      "copying build/lib/former_structure/This_is_a_test2/mathematical_science.py -> build/bdist.macosx-10.7-x86_64/egg/former_structure/This_is_a_test2\n",
      "copying build/lib/former_structure/This_is_a_test2/nasa_thermo.sqlite -> build/bdist.macosx-10.7-x86_64/egg/former_structure/This_is_a_test2\n",
      "copying build/lib/former_structure/This_is_a_test2/database_query.py -> build/bdist.macosx-10.7-x86_64/egg/former_structure/This_is_a_test2\n",
      "copying build/lib/former_structure/This_is_a_test2/xml2dict.py -> build/bdist.macosx-10.7-x86_64/egg/former_structure/This_is_a_test2\n",
      "copying build/lib/former_structure/This_is_a_test2/Reaction.py -> build/bdist.macosx-10.7-x86_64/egg/former_structure/This_is_a_test2\n",
      "creating build/bdist.macosx-10.7-x86_64/egg/former_structure/This_is_a_test\n",
      "copying build/lib/former_structure/This_is_a_test/hello.py -> build/bdist.macosx-10.7-x86_64/egg/former_structure/This_is_a_test\n",
      "copying build/lib/former_structure/This_is_a_test/__init__.py -> build/bdist.macosx-10.7-x86_64/egg/former_structure/This_is_a_test\n",
      "creating build/bdist.macosx-10.7-x86_64/egg/chemkin_CS207_G9\n",
      "creating build/bdist.macosx-10.7-x86_64/egg/chemkin_CS207_G9/reaction\n",
      "copying build/lib/chemkin_CS207_G9/reaction/ReactionSystem.py -> build/bdist.macosx-10.7-x86_64/egg/chemkin_CS207_G9/reaction\n",
      "copying build/lib/chemkin_CS207_G9/reaction/__init__.py -> build/bdist.macosx-10.7-x86_64/egg/chemkin_CS207_G9/reaction\n",
      "copying build/lib/chemkin_CS207_G9/reaction/CoeffLaw.py -> build/bdist.macosx-10.7-x86_64/egg/chemkin_CS207_G9/reaction\n",
      "copying build/lib/chemkin_CS207_G9/reaction/Reaction.py -> build/bdist.macosx-10.7-x86_64/egg/chemkin_CS207_G9/reaction\n",
      "creating build/bdist.macosx-10.7-x86_64/egg/chemkin_CS207_G9/test\n",
      "copying build/lib/chemkin_CS207_G9/test/test_database_query.py -> build/bdist.macosx-10.7-x86_64/egg/chemkin_CS207_G9/test\n",
      "copying build/lib/chemkin_CS207_G9/test/rxns.xml -> build/bdist.macosx-10.7-x86_64/egg/chemkin_CS207_G9/test\n",
      "copying build/lib/chemkin_CS207_G9/test/rxns2.xml -> build/bdist.macosx-10.7-x86_64/egg/chemkin_CS207_G9/test\n",
      "copying build/lib/chemkin_CS207_G9/test/__init__.py -> build/bdist.macosx-10.7-x86_64/egg/chemkin_CS207_G9/test\n",
      "copying build/lib/chemkin_CS207_G9/test/test_xml2dict.py -> build/bdist.macosx-10.7-x86_64/egg/chemkin_CS207_G9/test\n",
      "copying build/lib/chemkin_CS207_G9/test/test_Reaction.py -> build/bdist.macosx-10.7-x86_64/egg/chemkin_CS207_G9/test\n",
      "copying build/lib/chemkin_CS207_G9/test/test_database.sqlite -> build/bdist.macosx-10.7-x86_64/egg/chemkin_CS207_G9/test\n",
      "copying build/lib/chemkin_CS207_G9/test/nasa_thermo.sqlite -> build/bdist.macosx-10.7-x86_64/egg/chemkin_CS207_G9/test\n",
      "copying build/lib/chemkin_CS207_G9/test/test_CoeffLaw.py -> build/bdist.macosx-10.7-x86_64/egg/chemkin_CS207_G9/test\n",
      "copying build/lib/chemkin_CS207_G9/test/test_ReactionSystem.py -> build/bdist.macosx-10.7-x86_64/egg/chemkin_CS207_G9/test\n",
      "copying build/lib/chemkin_CS207_G9/__init__.py -> build/bdist.macosx-10.7-x86_64/egg/chemkin_CS207_G9\n",
      "creating build/bdist.macosx-10.7-x86_64/egg/chemkin_CS207_G9/parser\n",
      "copying build/lib/chemkin_CS207_G9/parser/__init__.py -> build/bdist.macosx-10.7-x86_64/egg/chemkin_CS207_G9/parser\n",
      "copying build/lib/chemkin_CS207_G9/parser/nasa_thermo.sqlite -> build/bdist.macosx-10.7-x86_64/egg/chemkin_CS207_G9/parser\n",
      "copying build/lib/chemkin_CS207_G9/parser/database_query.py -> build/bdist.macosx-10.7-x86_64/egg/chemkin_CS207_G9/parser\n",
      "copying build/lib/chemkin_CS207_G9/parser/xml2dict.py -> build/bdist.macosx-10.7-x86_64/egg/chemkin_CS207_G9/parser\n",
      "creating build/bdist.macosx-10.7-x86_64/egg/chemkin_CS207_G9/math\n",
      "copying build/lib/chemkin_CS207_G9/math/__init__.py -> build/bdist.macosx-10.7-x86_64/egg/chemkin_CS207_G9/math\n",
      "copying build/lib/chemkin_CS207_G9/math/ode_solver.py -> build/bdist.macosx-10.7-x86_64/egg/chemkin_CS207_G9/math\n",
      "creating build/bdist.macosx-10.7-x86_64/egg/chemkin_CS207_G9/chemkin\n",
      "creating build/bdist.macosx-10.7-x86_64/egg/chemkin_CS207_G9/chemkin/reaction\n",
      "copying build/lib/chemkin_CS207_G9/chemkin/reaction/ReactionSystem.py -> build/bdist.macosx-10.7-x86_64/egg/chemkin_CS207_G9/chemkin/reaction\n",
      "copying build/lib/chemkin_CS207_G9/chemkin/reaction/__init__.py -> build/bdist.macosx-10.7-x86_64/egg/chemkin_CS207_G9/chemkin/reaction\n",
      "copying build/lib/chemkin_CS207_G9/chemkin/reaction/CoeffLaw.py -> build/bdist.macosx-10.7-x86_64/egg/chemkin_CS207_G9/chemkin/reaction\n",
      "copying build/lib/chemkin_CS207_G9/chemkin/reaction/Reaction.py -> build/bdist.macosx-10.7-x86_64/egg/chemkin_CS207_G9/chemkin/reaction\n",
      "copying build/lib/chemkin_CS207_G9/chemkin/__init__.py -> build/bdist.macosx-10.7-x86_64/egg/chemkin_CS207_G9/chemkin\n",
      "creating build/bdist.macosx-10.7-x86_64/egg/chemkin_CS207_G9/chemkin/parser\n",
      "copying build/lib/chemkin_CS207_G9/chemkin/parser/__init__.py -> build/bdist.macosx-10.7-x86_64/egg/chemkin_CS207_G9/chemkin/parser\n",
      "copying build/lib/chemkin_CS207_G9/chemkin/parser/nasa_thermo.sqlite -> build/bdist.macosx-10.7-x86_64/egg/chemkin_CS207_G9/chemkin/parser\n",
      "copying build/lib/chemkin_CS207_G9/chemkin/parser/database_query.py -> build/bdist.macosx-10.7-x86_64/egg/chemkin_CS207_G9/chemkin/parser\n",
      "copying build/lib/chemkin_CS207_G9/chemkin/parser/xml2dict.py -> build/bdist.macosx-10.7-x86_64/egg/chemkin_CS207_G9/chemkin/parser\n",
      "creating build/bdist.macosx-10.7-x86_64/egg/chemkin_CS207_G9/chemkin/plotting\n",
      "copying build/lib/chemkin_CS207_G9/chemkin/plotting/__init__.py -> build/bdist.macosx-10.7-x86_64/egg/chemkin_CS207_G9/chemkin/plotting\n",
      "creating build/bdist.macosx-10.7-x86_64/egg/chemkin_CS207_G9/chemkin/data\n",
      "copying build/lib/chemkin_CS207_G9/chemkin/data/__init__.py -> build/bdist.macosx-10.7-x86_64/egg/chemkin_CS207_G9/chemkin/data\n",
      "copying build/lib/chemkin_CS207_G9/chemkin/data/rxns_reversible.xml -> build/bdist.macosx-10.7-x86_64/egg/chemkin_CS207_G9/chemkin/data\n",
      "copying build/lib/chemkin_CS207_G9/chemkin/data/nasa_thermo.sqlite -> build/bdist.macosx-10.7-x86_64/egg/chemkin_CS207_G9/chemkin/data\n",
      "creating build/bdist.macosx-10.7-x86_64/egg/chemkin_CS207_G9/chemkin/auxiliary\n",
      "copying build/lib/chemkin_CS207_G9/chemkin/auxiliary/useful_structure.py -> build/bdist.macosx-10.7-x86_64/egg/chemkin_CS207_G9/chemkin/auxiliary\n",
      "copying build/lib/chemkin_CS207_G9/chemkin/auxiliary/__init__.py -> build/bdist.macosx-10.7-x86_64/egg/chemkin_CS207_G9/chemkin/auxiliary\n",
      "copying build/lib/chemkin_CS207_G9/chemkin/auxiliary/check_and_response.py -> build/bdist.macosx-10.7-x86_64/egg/chemkin_CS207_G9/chemkin/auxiliary\n",
      "copying build/lib/chemkin_CS207_G9/chemkin/auxiliary/mathematical_science.py -> build/bdist.macosx-10.7-x86_64/egg/chemkin_CS207_G9/chemkin/auxiliary\n",
      "creating build/bdist.macosx-10.7-x86_64/egg/chemkin_CS207_G9/plotting\n",
      "copying build/lib/chemkin_CS207_G9/plotting/NonNetworkPlot.py -> build/bdist.macosx-10.7-x86_64/egg/chemkin_CS207_G9/plotting\n",
      "copying build/lib/chemkin_CS207_G9/plotting/__init__.py -> build/bdist.macosx-10.7-x86_64/egg/chemkin_CS207_G9/plotting\n",
      "copying build/lib/chemkin_CS207_G9/plotting/RSGraph.py -> build/bdist.macosx-10.7-x86_64/egg/chemkin_CS207_G9/plotting\n",
      "copying build/lib/chemkin_CS207_G9/nasa_thermo.sqlite -> build/bdist.macosx-10.7-x86_64/egg/chemkin_CS207_G9\n",
      "creating build/bdist.macosx-10.7-x86_64/egg/chemkin_CS207_G9/data\n",
      "copying build/lib/chemkin_CS207_G9/data/__init__.py -> build/bdist.macosx-10.7-x86_64/egg/chemkin_CS207_G9/data\n",
      "copying build/lib/chemkin_CS207_G9/data/rxns_reversible.xml -> build/bdist.macosx-10.7-x86_64/egg/chemkin_CS207_G9/data\n",
      "copying build/lib/chemkin_CS207_G9/data/nasa_thermo.sqlite -> build/bdist.macosx-10.7-x86_64/egg/chemkin_CS207_G9/data\n",
      "copying build/lib/chemkin_CS207_G9/data/nasa_thermo_all.sqlite -> build/bdist.macosx-10.7-x86_64/egg/chemkin_CS207_G9/data\n",
      "creating build/bdist.macosx-10.7-x86_64/egg/chemkin_CS207_G9/auxiliary\n",
      "copying build/lib/chemkin_CS207_G9/auxiliary/useful_structure.py -> build/bdist.macosx-10.7-x86_64/egg/chemkin_CS207_G9/auxiliary\n",
      "copying build/lib/chemkin_CS207_G9/auxiliary/__init__.py -> build/bdist.macosx-10.7-x86_64/egg/chemkin_CS207_G9/auxiliary\n",
      "copying build/lib/chemkin_CS207_G9/auxiliary/check_and_response.py -> build/bdist.macosx-10.7-x86_64/egg/chemkin_CS207_G9/auxiliary\n",
      "copying build/lib/chemkin_CS207_G9/auxiliary/mathematical_science.py -> build/bdist.macosx-10.7-x86_64/egg/chemkin_CS207_G9/auxiliary\n",
      "byte-compiling build/bdist.macosx-10.7-x86_64/egg/test/test_database_query.py to test_database_query.cpython-36.pyc\n",
      "byte-compiling build/bdist.macosx-10.7-x86_64/egg/test/__init__.py to __init__.cpython-36.pyc\n",
      "byte-compiling build/bdist.macosx-10.7-x86_64/egg/test/test_xml2dict.py to test_xml2dict.cpython-36.pyc\n",
      "byte-compiling build/bdist.macosx-10.7-x86_64/egg/test/test_ode_solver.py to test_ode_solver.cpython-36.pyc\n",
      "byte-compiling build/bdist.macosx-10.7-x86_64/egg/test/test_Reaction.py to test_Reaction.cpython-36.pyc\n",
      "byte-compiling build/bdist.macosx-10.7-x86_64/egg/test/test_RSGraph.py to test_RSGraph.cpython-36.pyc\n",
      "byte-compiling build/bdist.macosx-10.7-x86_64/egg/test/test_CoeffLaw.py to test_CoeffLaw.cpython-36.pyc\n",
      "byte-compiling build/bdist.macosx-10.7-x86_64/egg/test/test_ReactionSystem.py to test_ReactionSystem.cpython-36.pyc\n",
      "byte-compiling build/bdist.macosx-10.7-x86_64/egg/test/test_NonNetworkPlot.py to test_NonNetworkPlot.cpython-36.pyc\n",
      "byte-compiling build/bdist.macosx-10.7-x86_64/egg/former_structure/__init__.py to __init__.cpython-36.pyc\n",
      "byte-compiling build/bdist.macosx-10.7-x86_64/egg/former_structure/This_is_a_test2/ReactionSystem.py to ReactionSystem.cpython-36.pyc\n",
      "byte-compiling build/bdist.macosx-10.7-x86_64/egg/former_structure/This_is_a_test2/useful_structure.py to useful_structure.cpython-36.pyc\n",
      "byte-compiling build/bdist.macosx-10.7-x86_64/egg/former_structure/This_is_a_test2/__init__.py to __init__.cpython-36.pyc\n",
      "byte-compiling build/bdist.macosx-10.7-x86_64/egg/former_structure/This_is_a_test2/CoeffLaw.py to CoeffLaw.cpython-36.pyc\n",
      "byte-compiling build/bdist.macosx-10.7-x86_64/egg/former_structure/This_is_a_test2/check_and_response.py to check_and_response.cpython-36.pyc\n",
      "byte-compiling build/bdist.macosx-10.7-x86_64/egg/former_structure/This_is_a_test2/mathematical_science.py to mathematical_science.cpython-36.pyc\n",
      "byte-compiling build/bdist.macosx-10.7-x86_64/egg/former_structure/This_is_a_test2/database_query.py to database_query.cpython-36.pyc\n",
      "byte-compiling build/bdist.macosx-10.7-x86_64/egg/former_structure/This_is_a_test2/xml2dict.py to xml2dict.cpython-36.pyc\n",
      "byte-compiling build/bdist.macosx-10.7-x86_64/egg/former_structure/This_is_a_test2/Reaction.py to Reaction.cpython-36.pyc\n",
      "byte-compiling build/bdist.macosx-10.7-x86_64/egg/former_structure/This_is_a_test/hello.py to hello.cpython-36.pyc\n",
      "byte-compiling build/bdist.macosx-10.7-x86_64/egg/former_structure/This_is_a_test/__init__.py to __init__.cpython-36.pyc\n",
      "byte-compiling build/bdist.macosx-10.7-x86_64/egg/chemkin_CS207_G9/reaction/ReactionSystem.py to ReactionSystem.cpython-36.pyc\n",
      "byte-compiling build/bdist.macosx-10.7-x86_64/egg/chemkin_CS207_G9/reaction/__init__.py to __init__.cpython-36.pyc\n",
      "byte-compiling build/bdist.macosx-10.7-x86_64/egg/chemkin_CS207_G9/reaction/CoeffLaw.py to CoeffLaw.cpython-36.pyc\n",
      "byte-compiling build/bdist.macosx-10.7-x86_64/egg/chemkin_CS207_G9/reaction/Reaction.py to Reaction.cpython-36.pyc\n",
      "byte-compiling build/bdist.macosx-10.7-x86_64/egg/chemkin_CS207_G9/test/test_database_query.py to test_database_query.cpython-36.pyc\n",
      "byte-compiling build/bdist.macosx-10.7-x86_64/egg/chemkin_CS207_G9/test/__init__.py to __init__.cpython-36.pyc\n",
      "byte-compiling build/bdist.macosx-10.7-x86_64/egg/chemkin_CS207_G9/test/test_xml2dict.py to test_xml2dict.cpython-36.pyc\n",
      "byte-compiling build/bdist.macosx-10.7-x86_64/egg/chemkin_CS207_G9/test/test_Reaction.py to test_Reaction.cpython-36.pyc\n",
      "byte-compiling build/bdist.macosx-10.7-x86_64/egg/chemkin_CS207_G9/test/test_CoeffLaw.py to test_CoeffLaw.cpython-36.pyc\n",
      "byte-compiling build/bdist.macosx-10.7-x86_64/egg/chemkin_CS207_G9/test/test_ReactionSystem.py to test_ReactionSystem.cpython-36.pyc\n",
      "byte-compiling build/bdist.macosx-10.7-x86_64/egg/chemkin_CS207_G9/__init__.py to __init__.cpython-36.pyc\n",
      "byte-compiling build/bdist.macosx-10.7-x86_64/egg/chemkin_CS207_G9/parser/__init__.py to __init__.cpython-36.pyc\n",
      "byte-compiling build/bdist.macosx-10.7-x86_64/egg/chemkin_CS207_G9/parser/database_query.py to database_query.cpython-36.pyc\n",
      "byte-compiling build/bdist.macosx-10.7-x86_64/egg/chemkin_CS207_G9/parser/xml2dict.py to xml2dict.cpython-36.pyc\n",
      "byte-compiling build/bdist.macosx-10.7-x86_64/egg/chemkin_CS207_G9/math/__init__.py to __init__.cpython-36.pyc\n",
      "byte-compiling build/bdist.macosx-10.7-x86_64/egg/chemkin_CS207_G9/math/ode_solver.py to ode_solver.cpython-36.pyc\n",
      "byte-compiling build/bdist.macosx-10.7-x86_64/egg/chemkin_CS207_G9/chemkin/reaction/ReactionSystem.py to ReactionSystem.cpython-36.pyc\n",
      "byte-compiling build/bdist.macosx-10.7-x86_64/egg/chemkin_CS207_G9/chemkin/reaction/__init__.py to __init__.cpython-36.pyc\n",
      "byte-compiling build/bdist.macosx-10.7-x86_64/egg/chemkin_CS207_G9/chemkin/reaction/CoeffLaw.py to CoeffLaw.cpython-36.pyc\n",
      "byte-compiling build/bdist.macosx-10.7-x86_64/egg/chemkin_CS207_G9/chemkin/reaction/Reaction.py to Reaction.cpython-36.pyc\n",
      "byte-compiling build/bdist.macosx-10.7-x86_64/egg/chemkin_CS207_G9/chemkin/__init__.py to __init__.cpython-36.pyc\n",
      "byte-compiling build/bdist.macosx-10.7-x86_64/egg/chemkin_CS207_G9/chemkin/parser/__init__.py to __init__.cpython-36.pyc\n",
      "byte-compiling build/bdist.macosx-10.7-x86_64/egg/chemkin_CS207_G9/chemkin/parser/database_query.py to database_query.cpython-36.pyc\n",
      "byte-compiling build/bdist.macosx-10.7-x86_64/egg/chemkin_CS207_G9/chemkin/parser/xml2dict.py to xml2dict.cpython-36.pyc\n",
      "byte-compiling build/bdist.macosx-10.7-x86_64/egg/chemkin_CS207_G9/chemkin/plotting/__init__.py to __init__.cpython-36.pyc\n",
      "byte-compiling build/bdist.macosx-10.7-x86_64/egg/chemkin_CS207_G9/chemkin/data/__init__.py to __init__.cpython-36.pyc\n",
      "byte-compiling build/bdist.macosx-10.7-x86_64/egg/chemkin_CS207_G9/chemkin/auxiliary/useful_structure.py to useful_structure.cpython-36.pyc\n",
      "byte-compiling build/bdist.macosx-10.7-x86_64/egg/chemkin_CS207_G9/chemkin/auxiliary/__init__.py to __init__.cpython-36.pyc\n",
      "byte-compiling build/bdist.macosx-10.7-x86_64/egg/chemkin_CS207_G9/chemkin/auxiliary/check_and_response.py to check_and_response.cpython-36.pyc\n",
      "byte-compiling build/bdist.macosx-10.7-x86_64/egg/chemkin_CS207_G9/chemkin/auxiliary/mathematical_science.py to mathematical_science.cpython-36.pyc\n",
      "byte-compiling build/bdist.macosx-10.7-x86_64/egg/chemkin_CS207_G9/plotting/NonNetworkPlot.py to NonNetworkPlot.cpython-36.pyc\n",
      "byte-compiling build/bdist.macosx-10.7-x86_64/egg/chemkin_CS207_G9/plotting/__init__.py to __init__.cpython-36.pyc\n",
      "byte-compiling build/bdist.macosx-10.7-x86_64/egg/chemkin_CS207_G9/plotting/RSGraph.py to RSGraph.cpython-36.pyc\n",
      "byte-compiling build/bdist.macosx-10.7-x86_64/egg/chemkin_CS207_G9/data/__init__.py to __init__.cpython-36.pyc\n",
      "byte-compiling build/bdist.macosx-10.7-x86_64/egg/chemkin_CS207_G9/auxiliary/useful_structure.py to useful_structure.cpython-36.pyc\n",
      "byte-compiling build/bdist.macosx-10.7-x86_64/egg/chemkin_CS207_G9/auxiliary/__init__.py to __init__.cpython-36.pyc\n",
      "byte-compiling build/bdist.macosx-10.7-x86_64/egg/chemkin_CS207_G9/auxiliary/check_and_response.py to check_and_response.cpython-36.pyc\n",
      "byte-compiling build/bdist.macosx-10.7-x86_64/egg/chemkin_CS207_G9/auxiliary/mathematical_science.py to mathematical_science.cpython-36.pyc\n",
      "creating build/bdist.macosx-10.7-x86_64/egg/EGG-INFO\n",
      "copying chemkin_CS207_G9.egg-info/PKG-INFO -> build/bdist.macosx-10.7-x86_64/egg/EGG-INFO\n",
      "copying chemkin_CS207_G9.egg-info/SOURCES.txt -> build/bdist.macosx-10.7-x86_64/egg/EGG-INFO\n",
      "copying chemkin_CS207_G9.egg-info/dependency_links.txt -> build/bdist.macosx-10.7-x86_64/egg/EGG-INFO\n",
      "copying chemkin_CS207_G9.egg-info/not-zip-safe -> build/bdist.macosx-10.7-x86_64/egg/EGG-INFO\n",
      "copying chemkin_CS207_G9.egg-info/top_level.txt -> build/bdist.macosx-10.7-x86_64/egg/EGG-INFO\n",
      "creating 'dist/chemkin_CS207_G9-2.23-py3.6.egg' and adding 'build/bdist.macosx-10.7-x86_64/egg' to it\n",
      "removing 'build/bdist.macosx-10.7-x86_64/egg' (and everything under it)\n",
      "Processing chemkin_CS207_G9-2.23-py3.6.egg\n",
      "removing '/Users/gwungwun/anaconda/lib/python3.6/site-packages/chemkin_CS207_G9-2.23-py3.6.egg' (and everything under it)\n",
      "creating /Users/gwungwun/anaconda/lib/python3.6/site-packages/chemkin_CS207_G9-2.23-py3.6.egg\n",
      "Extracting chemkin_CS207_G9-2.23-py3.6.egg to /Users/gwungwun/anaconda/lib/python3.6/site-packages\n",
      "chemkin-CS207-G9 2.23 is already the active version in easy-install.pth\n",
      "\n",
      "Installed /Users/gwungwun/anaconda/lib/python3.6/site-packages/chemkin_CS207_G9-2.23-py3.6.egg\n",
      "Processing dependencies for chemkin-CS207-G9==2.23\n",
      "Finished processing dependencies for chemkin-CS207-G9==2.23\n"
     ]
    },
    {
     "name": "stderr",
     "output_type": "stream",
     "text": [
      "Cloning into 'cs207-FinalProject'...\n"
     ]
    }
   ],
   "source": [
    "%%bash\n",
    "cd /Users/gwungwun/Movies\n",
    "git clone https://github.com/cs207group9/cs207-FinalProject.git\n",
    "cd cs207-FinalProject\n",
    "python setup.py install"
   ]
  },
  {
   "cell_type": "markdown",
   "metadata": {},
   "source": [
    "## Path to the Example Data"
   ]
  },
  {
   "cell_type": "code",
   "execution_count": 1,
   "metadata": {
    "collapsed": true
   },
   "outputs": [],
   "source": [
    "import os\n",
    "import chemkin_CS207_G9\n",
    "\n",
    "BASE_DIR = os.path.dirname(os.path.abspath(chemkin_CS207_G9.__file__))\n",
    "path_xml = os.path.join(BASE_DIR, 'data/rxns_reversible.xml')\n",
    "path_sql = os.path.join(BASE_DIR, 'data/nasa_thermo_all.sqlite')"
   ]
  },
  {
   "cell_type": "markdown",
   "metadata": {},
   "source": [
    "----\n",
    "\n",
    "## Reaction Systems"
   ]
  },
  {
   "cell_type": "markdown",
   "metadata": {},
   "source": [
    "### `Reaction`"
   ]
  },
  {
   "cell_type": "code",
   "execution_count": 2,
   "metadata": {
    "collapsed": true
   },
   "outputs": [],
   "source": [
    "from chemkin_CS207_G9.reaction.Reaction import Reaction\n",
    "\n",
    "reaction1 = Reaction(\n",
    "    reactants={'H2':2,'O2':1}, products = {'OH':2,'H2':1}, \n",
    "    coeffLaw = 'Constant', coeffParams = {'k':10}, \n",
    "    reversible='no')\n",
    "reaction2 = Reaction(\n",
    "    reactants={'OH':1,'HO2':1}, products = {'H2O':1,'O2':1}, \n",
    "    coeffLaw = 'Arrhenius', coeffParams = {'A':5, 'E':-10}, \n",
    "    reversible='yes')\n",
    "\n",
    "reactions = [reaction1, reaction2]"
   ]
  },
  {
   "cell_type": "markdown",
   "metadata": {},
   "source": [
    "### `ReactionSystem`"
   ]
  },
  {
   "cell_type": "code",
   "execution_count": 3,
   "metadata": {},
   "outputs": [
    {
     "name": "stdout",
     "output_type": "stream",
     "text": [
      "ReactionSystem object with following Reactions: \n",
      "\n",
      "Reaction 0: \n",
      "========================================\n",
      "Reaction Equation:\n",
      "2H2 + 1O2 =] 1H2 + 2OH\n",
      "----------------------------------------\n",
      "Reaction Info:\n",
      "ID: reaction\n",
      "TYPE: Elementary\n",
      "reversible: False\n",
      "coeffLaw: Constant\n",
      "coeffParams: [('k', 10)]\n",
      "coeffUnits: []\n",
      "========================================\n",
      "\n",
      "Reaction 1: \n",
      "========================================\n",
      "Reaction Equation:\n",
      "1HO2 + 1OH [=] 1H2O + 1O2\n",
      "----------------------------------------\n",
      "Reaction Info:\n",
      "ID: reaction\n",
      "TYPE: Elementary\n",
      "reversible: True\n",
      "coeffLaw: Arrhenius\n",
      "coeffParams: [('A', 5), ('E', -10), ('R', 8.314)]\n",
      "coeffUnits: []\n",
      "========================================\n",
      "\n"
     ]
    }
   ],
   "source": [
    "from chemkin_CS207_G9.reaction.ReactionSystem import ReactionSystem\n",
    "from chemkin_CS207_G9.parser.database_query import CoeffQuery\n",
    "\n",
    "species = ['H2', 'O2', 'OH', 'HO2', 'H2O']\n",
    "concentrations = {'H2':1, 'O2':2, 'OH':2, 'HO2':1, 'H2O':1}\n",
    "\n",
    "nasa_query = CoeffQuery(path_sql)\n",
    "temperature = 300\n",
    "\n",
    "reac_sys = ReactionSystem(\n",
    "    reactions, species, nasa_query, temperature, concentrations)\n",
    "\n",
    "print(reac_sys)"
   ]
  },
  {
   "cell_type": "code",
   "execution_count": 4,
   "metadata": {},
   "outputs": [
    {
     "data": {
      "text/plain": [
       "array([[-1.,  0.],\n",
       "       [-1.,  1.],\n",
       "       [ 2., -1.],\n",
       "       [ 0., -1.],\n",
       "       [ 0.,  1.]])"
      ]
     },
     "execution_count": 4,
     "metadata": {},
     "output_type": "execute_result"
    }
   ],
   "source": [
    "# nu matrix of stoich coeffs\n",
    "reac_sys.get_nu_2() - reac_sys.get_nu_1()"
   ]
  },
  {
   "cell_type": "code",
   "execution_count": 5,
   "metadata": {},
   "outputs": [
    {
     "data": {
      "text/plain": [
       "array([[  2.34433112e+00,   7.98052075e-03,  -1.94781510e-05,\n",
       "          2.01572094e-08,  -7.37611761e-12,  -9.17935173e+02,\n",
       "          6.83010238e-01],\n",
       "       [  3.78245636e+00,  -2.99673416e-03,   9.84730201e-06,\n",
       "         -9.68129509e-09,   3.24372837e-12,  -1.06394356e+03,\n",
       "          3.65767573e+00],\n",
       "       [  3.99201543e+00,  -2.40131752e-03,   4.61793841e-06,\n",
       "         -3.88113333e-09,   1.36411470e-12,   3.61508056e+03,\n",
       "         -1.03925458e-01],\n",
       "       [  4.30179801e+00,  -4.74912051e-03,   2.11582891e-05,\n",
       "         -2.42763894e-08,   9.29225124e-12,   2.94808040e+02,\n",
       "          3.71666245e+00],\n",
       "       [  4.19864056e+00,  -2.03643410e-03,   6.52040211e-06,\n",
       "         -5.48797062e-09,   1.77197817e-12,  -3.02937267e+04,\n",
       "         -8.49032208e-01]])"
      ]
     },
     "execution_count": 5,
     "metadata": {},
     "output_type": "execute_result"
    }
   ],
   "source": [
    "# nasa coeffs of species\n",
    "reac_sys.get_a()"
   ]
  },
  {
   "cell_type": "code",
   "execution_count": 6,
   "metadata": {},
   "outputs": [
    {
     "data": {
      "text/plain": [
       "(array([ 10.        ,   5.02008675]),\n",
       " array([  1.11791588e+13,   3.51069689e-50]))"
      ]
     },
     "execution_count": 6,
     "metadata": {},
     "output_type": "execute_result"
    }
   ],
   "source": [
    "# forward coeff, backward coeff, for each reaction\n",
    "reac_sys.get_reac_rate_coefs()"
   ]
  },
  {
   "cell_type": "code",
   "execution_count": 7,
   "metadata": {},
   "outputs": [
    {
     "data": {
      "text/plain": [
       "array([-20.       ,  -9.9598265,  29.9598265, -10.0401735,  10.0401735])"
      ]
     },
     "execution_count": 7,
     "metadata": {},
     "output_type": "execute_result"
    }
   ],
   "source": [
    "# reaction rate, for each species\n",
    "reac_sys.get_reac_rate()"
   ]
  },
  {
   "cell_type": "markdown",
   "metadata": {},
   "source": [
    "### A Simpler Approach"
   ]
  },
  {
   "cell_type": "code",
   "execution_count": 8,
   "metadata": {
    "collapsed": true
   },
   "outputs": [],
   "source": [
    "import os\n",
    "import chemkin_CS207_G9\n",
    "from chemkin_CS207_G9.parser.Reaction_Creator import Reaction_Creator\n",
    "\n",
    "BASE_DIR = os.path.dirname(os.path.abspath(chemkin_CS207_G9.__file__))\n",
    "path_xml = os.path.join(BASE_DIR, 'data/rxns_reversible.xml')\n",
    "path_sql = os.path.join(BASE_DIR, 'data/nasa_thermo_all.sqlite')\n",
    "\n",
    "reac_sys = Reaction_Creator(path_xml, path_sql)\n",
    "\n",
    "temperature = 3000\n",
    "concentrations = dict(H=2, O=1, OH=0.5, H2=1, H2O=1, O2=1, HO2=0.5, H2O2=1)\n",
    "reac_sys.set_temp(temperature)\n",
    "reac_sys.set_concs(concentrations)"
   ]
  },
  {
   "cell_type": "code",
   "execution_count": 9,
   "metadata": {},
   "outputs": [
    {
     "data": {
      "text/plain": [
       "['H', 'O', 'OH', 'H2', 'H2O', 'O2', 'HO2', 'H2O2']"
      ]
     },
     "execution_count": 9,
     "metadata": {},
     "output_type": "execute_result"
    }
   ],
   "source": [
    "reac_sys.get_species()"
   ]
  },
  {
   "cell_type": "code",
   "execution_count": 10,
   "metadata": {},
   "outputs": [
    {
     "data": {
      "text/plain": [
       "array([[-1.,  1.,  1.,  0., -1., -1.,  0.,  0., -1., -1.,  0.],\n",
       "       [ 1., -1.,  0., -1.,  0.,  0., -1.,  0.,  0.,  0., -1.],\n",
       "       [ 1.,  1., -1.,  2.,  0.,  2.,  1., -1.,  1.,  0.,  1.],\n",
       "       [ 0., -1., -1.,  0.,  1.,  0.,  0.,  0.,  0.,  1.,  0.],\n",
       "       [ 0.,  0.,  1., -1.,  0.,  0.,  0.,  1.,  1.,  0.,  0.],\n",
       "       [-1.,  0.,  0.,  0.,  1.,  0.,  1.,  1.,  0.,  0.,  0.],\n",
       "       [ 0.,  0.,  0.,  0., -1., -1., -1., -1.,  0.,  1.,  1.],\n",
       "       [ 0.,  0.,  0.,  0.,  0.,  0.,  0.,  0., -1., -1., -1.]])"
      ]
     },
     "execution_count": 10,
     "metadata": {},
     "output_type": "execute_result"
    }
   ],
   "source": [
    "reac_sys.get_nu_2() - reac_sys.get_nu_1()"
   ]
  },
  {
   "cell_type": "code",
   "execution_count": 11,
   "metadata": {},
   "outputs": [
    {
     "data": {
      "text/plain": [
       "array([ -2.71825807e+14,  -2.93984058e+13,   4.16600598e+14,\n",
       "         6.16540153e+13,   3.31413904e+13,  -5.94407714e+13,\n",
       "         3.29035629e+13,  -1.83634583e+14])"
      ]
     },
     "execution_count": 11,
     "metadata": {},
     "output_type": "execute_result"
    }
   ],
   "source": [
    "reac_sys.get_reac_rate()"
   ]
  },
  {
   "cell_type": "markdown",
   "metadata": {},
   "source": [
    "### It's ALIVE !!!"
   ]
  },
  {
   "cell_type": "code",
   "execution_count": 12,
   "metadata": {},
   "outputs": [
    {
     "data": {
      "text/plain": [
       "{'H': 1.1627219799131316,\n",
       " 'H2': 1.0993697352704879,\n",
       " 'H2O': 1.7809423424679851,\n",
       " 'H2O2': 0.23967262058998651,\n",
       " 'HO2': 0.29881855417282721,\n",
       " 'O': 0.8963841579076538,\n",
       " 'O2': 1.2236005404208046,\n",
       " 'OH': 1.2984900692571233}"
      ]
     },
     "execution_count": 12,
     "metadata": {},
     "output_type": "execute_result"
    }
   ],
   "source": [
    "reac_sys.evolute(1e-14, method='LSODA')\n",
    "reac_sys.get_concs()"
   ]
  },
  {
   "cell_type": "code",
   "execution_count": 13,
   "metadata": {},
   "outputs": [
    {
     "data": {
      "image/png": "[encoded data removed]",
      "text/plain": [
       "<matplotlib.figure.Figure at 0x1123d2048>"
      ]
     },
     "metadata": {},
     "output_type": "display_data"
    }
   ],
   "source": [
    "import numpy as np\n",
    "import matplotlib.pyplot as plt\n",
    "from chemkin_CS207_G9.plotting.NonNetworkPlot import plot_concentration\n",
    "from chemkin_CS207_G9.plotting.NonNetworkPlot import plot_reaction_rate\n",
    "\n",
    "reac_sys.set_concs(concentrations)\n",
    "time_grid = np.arange(0, 5e-14, 1e-15)\n",
    "\n",
    "fig, axes = plt.subplots(2, 1, figsize=(8,12))\n",
    "plot_concentration(reac_sys, time_grid, ax=axes[0])\n",
    "                   #species=['H','O'], linestyle='dashed', alpha=0.7)\n",
    "plot_reaction_rate(reac_sys, time_grid, ax=axes[1])\n",
    "plt.show()"
   ]
  },
  {
   "cell_type": "markdown",
   "metadata": {},
   "source": [
    "### Interlude: get some intuition to your coefficient law"
   ]
  },
  {
   "cell_type": "code",
   "execution_count": 14,
   "metadata": {
    "scrolled": false
   },
   "outputs": [
    {
     "data": {
      "image/png": "[encoded data removed]",
      "text/plain": [
       "<matplotlib.figure.Figure at 0x1138a2e80>"
      ]
     },
     "metadata": {},
     "output_type": "display_data"
    }
   ],
   "source": [
    "import numpy as np\n",
    "import matplotlib.pyplot as plt\n",
    "from chemkin_CS207_G9.plotting.NonNetworkPlot import plot_modified_arrhenius\n",
    "\n",
    "fig, ax = plt.subplots(figsize=(8,6))\n",
    "plot_modified_arrhenius(\n",
    "    RToE_grid=np.arange(0.01,2,0.01), \n",
    "    b_grid=np.arange(-2,2,1),\n",
    "    ax=ax)\n",
    "plt.show()"
   ]
  },
  {
   "cell_type": "markdown",
   "metadata": {},
   "source": [
    "\n",
    "---\n",
    "##  Network Visualization"
   ]
  },
  {
   "cell_type": "markdown",
   "metadata": {},
   "source": [
    "### Bipartite Graph"
   ]
  },
  {
   "cell_type": "code",
   "execution_count": 15,
   "metadata": {
    "collapsed": true
   },
   "outputs": [],
   "source": [
    "import imageio\n",
    "imageio.plugins.ffmpeg.download()\n",
    "from chemkin_CS207_G9.plotting.RSGraph import *\n",
    "\n",
    "import graphviz\n",
    "from graphviz import Digraph"
   ]
  },
  {
   "cell_type": "code",
   "execution_count": 16,
   "metadata": {
    "collapsed": true
   },
   "outputs": [],
   "source": [
    "rs1 = Reaction_Creator(path_xml, path_sql, start = 0, end = 2)\n",
    "rs2 = Reaction_Creator(path_xml, path_sql)"
   ]
  },
  {
   "cell_type": "code",
   "execution_count": 17,
   "metadata": {
    "collapsed": true
   },
   "outputs": [],
   "source": [
    "dot_b = BipartiteRSGraph(rs1)"
   ]
  },
  {
   "cell_type": "code",
   "execution_count": 18,
   "metadata": {},
   "outputs": [
    {
     "data": {
      "image/svg+xml": [
       "<?xml version=\"1.0\" encoding=\"UTF-8\" standalone=\"no\"?>\n",
       "<!DOCTYPE svg PUBLIC \"-//W3C//DTD SVG 1.1//EN\"\n",
       " \"http://www.w3.org/Graphics/SVG/1.1/DTD/svg11.dtd\">\n",
       "<!-- Generated by graphviz version 2.38.0 (20140413.2041)\n",
       " -->\n",
       "<!-- Title: %3 Pages: 1 -->\n",
       "<svg width=\"416pt\" height=\"476pt\"\n",
       " viewBox=\"0.00 0.00 415.74 476.00\" xmlns=\"http://www.w3.org/2000/svg\" xmlns:xlink=\"http://www.w3.org/1999/xlink\">\n",
       "<g id=\"graph0\" class=\"graph\" transform=\"scale(1 1) rotate(0) translate(72 404)\">\n",
       "<title>%3</title>\n",
       "<polygon fill=\"#333333\" stroke=\"none\" points=\"-72,72 -72,-404 343.744,-404 343.744,72 -72,72\"/>\n",
       "<g id=\"clust1\" class=\"cluster\"><title>cluster_1</title>\n",
       "<polygon fill=\"#333333\" stroke=\"white\" points=\"0,-100 0,-230 72,-230 72,-100 0,-100\"/>\n",
       "<text text-anchor=\"middle\" x=\"36\" y=\"-213.2\" font-family=\"Times,serif\" font-size=\"16.00\" fill=\"white\">Reaction</text>\n",
       "</g>\n",
       "<g id=\"clust2\" class=\"cluster\"><title>cluster_0</title>\n",
       "<polygon fill=\"#333333\" stroke=\"white\" points=\"200,-8 200,-324 264.744,-324 264.744,-8 200,-8\"/>\n",
       "<text text-anchor=\"middle\" x=\"232.372\" y=\"-307.2\" font-family=\"Times,serif\" font-size=\"16.00\" fill=\"white\">Species</text>\n",
       "</g>\n",
       "<!-- 0 -->\n",
       "<g id=\"node1\" class=\"node\"><title>0</title>\n",
       "<ellipse fill=\"black\" stroke=\"white\" cx=\"36\" cy=\"-180\" rx=\"18\" ry=\"18\"/>\n",
       "<text text-anchor=\"middle\" x=\"36\" y=\"-175.8\" font-family=\"Helvetica,sans-Serif\" font-size=\"14.00\" fill=\"white\">0</text>\n",
       "</g>\n",
       "<!-- O -->\n",
       "<g id=\"node5\" class=\"node\"><title>O</title>\n",
       "<ellipse fill=\"black\" stroke=\"white\" cx=\"232.372\" cy=\"-212\" rx=\"18\" ry=\"18\"/>\n",
       "<text text-anchor=\"middle\" x=\"232.372\" y=\"-207.8\" font-family=\"Helvetica,sans-Serif\" font-size=\"14.00\" fill=\"white\">O</text>\n",
       "</g>\n",
       "<!-- 0&#45;&gt;O -->\n",
       "<g id=\"edge3\" class=\"edge\"><title>0&#45;&gt;O</title>\n",
       "<path fill=\"none\" stroke=\"#a7557e\" stroke-dasharray=\"5,2\" d=\"M53.9092,-182.784C87.6539,-188.339 163.602,-200.843 204.341,-207.55\"/>\n",
       "<polygon fill=\"#a7557e\" stroke=\"#a7557e\" points=\"214.363,-209.2 203.765,-212.016 209.43,-208.388 204.496,-207.575 204.496,-207.575 204.496,-207.575 209.43,-208.388 205.227,-203.135 214.363,-209.2 214.363,-209.2\"/>\n",
       "</g>\n",
       "<!-- OH -->\n",
       "<g id=\"node7\" class=\"node\"><title>OH</title>\n",
       "<ellipse fill=\"black\" stroke=\"white\" cx=\"232.372\" cy=\"-153\" rx=\"23.2447\" ry=\"23.2447\"/>\n",
       "<text text-anchor=\"middle\" x=\"232.372\" y=\"-148.8\" font-family=\"Helvetica,sans-Serif\" font-size=\"14.00\" fill=\"white\">OH</text>\n",
       "</g>\n",
       "<!-- 0&#45;&gt;OH -->\n",
       "<g id=\"edge4\" class=\"edge\"><title>0&#45;&gt;OH</title>\n",
       "<path fill=\"none\" stroke=\"#a7557e\" stroke-dasharray=\"5,2\" d=\"M53.9092,-177.651C86.2649,-173.157 157.421,-163.272 199.137,-157.478\"/>\n",
       "<polygon fill=\"#a7557e\" stroke=\"#a7557e\" points=\"209.066,-156.098 199.78,-161.932 204.114,-156.786 199.161,-157.474 199.161,-157.474 199.161,-157.474 204.114,-156.786 198.542,-153.017 209.066,-156.098 209.066,-156.098\"/>\n",
       "</g>\n",
       "<!-- 1 -->\n",
       "<g id=\"node2\" class=\"node\"><title>1</title>\n",
       "<ellipse fill=\"black\" stroke=\"white\" cx=\"36\" cy=\"-126\" rx=\"18\" ry=\"18\"/>\n",
       "<text text-anchor=\"middle\" x=\"36\" y=\"-121.8\" font-family=\"Helvetica,sans-Serif\" font-size=\"14.00\" fill=\"white\">1</text>\n",
       "</g>\n",
       "<!-- H -->\n",
       "<g id=\"node3\" class=\"node\"><title>H</title>\n",
       "<ellipse fill=\"black\" stroke=\"white\" cx=\"232.372\" cy=\"-94\" rx=\"18\" ry=\"18\"/>\n",
       "<text text-anchor=\"middle\" x=\"232.372\" y=\"-89.8\" font-family=\"Helvetica,sans-Serif\" font-size=\"14.00\" fill=\"white\">H</text>\n",
       "</g>\n",
       "<!-- 1&#45;&gt;H -->\n",
       "<g id=\"edge7\" class=\"edge\"><title>1&#45;&gt;H</title>\n",
       "<path fill=\"none\" stroke=\"#036e4c\" stroke-dasharray=\"5,2\" d=\"M53.9092,-123.216C87.6539,-117.661 163.602,-105.157 204.341,-98.4502\"/>\n",
       "<polygon fill=\"#036e4c\" stroke=\"#036e4c\" points=\"214.363,-96.8002 205.227,-102.865 209.43,-97.6124 204.496,-98.4247 204.496,-98.4247 204.496,-98.4247 209.43,-97.6124 203.765,-93.9845 214.363,-96.8002 214.363,-96.8002\"/>\n",
       "</g>\n",
       "<!-- 1&#45;&gt;OH -->\n",
       "<g id=\"edge8\" class=\"edge\"><title>1&#45;&gt;OH</title>\n",
       "<path fill=\"none\" stroke=\"#036e4c\" stroke-dasharray=\"5,2\" d=\"M53.9092,-128.349C86.2649,-132.843 157.421,-142.728 199.137,-148.522\"/>\n",
       "<polygon fill=\"#036e4c\" stroke=\"#036e4c\" points=\"209.066,-149.902 198.542,-152.983 204.114,-149.214 199.161,-148.526 199.161,-148.526 199.161,-148.526 204.114,-149.214 199.78,-144.068 209.066,-149.902 209.066,-149.902\"/>\n",
       "</g>\n",
       "<!-- H&#45;&gt;0 -->\n",
       "<g id=\"edge1\" class=\"edge\"><title>H&#45;&gt;0</title>\n",
       "<path fill=\"none\" stroke=\"#a7557e\" stroke-dasharray=\"5,2\" d=\"M215.519,-101.014C181.81,-115.929 102.785,-150.893 62.1324,-168.88\"/>\n",
       "<polygon fill=\"#a7557e\" stroke=\"#a7557e\" points=\"52.9063,-172.962 60.2304,-164.801 57.4787,-170.939 62.0512,-168.916 62.0512,-168.916 62.0512,-168.916 57.4787,-170.939 63.872,-173.031 52.9063,-172.962 52.9063,-172.962\"/>\n",
       "</g>\n",
       "<!-- H2 -->\n",
       "<g id=\"node4\" class=\"node\"><title>H2</title>\n",
       "<ellipse fill=\"black\" stroke=\"white\" cx=\"232.372\" cy=\"-37\" rx=\"21.3236\" ry=\"21.3236\"/>\n",
       "<text text-anchor=\"middle\" x=\"232.372\" y=\"-32.8\" font-family=\"Helvetica,sans-Serif\" font-size=\"14.00\" fill=\"white\">H2</text>\n",
       "</g>\n",
       "<!-- H2&#45;&gt;1 -->\n",
       "<g id=\"edge6\" class=\"edge\"><title>H2&#45;&gt;1</title>\n",
       "<path fill=\"none\" stroke=\"#036e4c\" stroke-dasharray=\"5,2\" d=\"M212.624,-45.5845C177.364,-61.7293 101.187,-96.6099 61.7618,-114.662\"/>\n",
       "<polygon fill=\"#036e4c\" stroke=\"#036e4c\" points=\"52.5777,-118.867 59.7965,-110.612 57.1238,-116.786 61.6699,-114.704 61.6699,-114.704 61.6699,-114.704 57.1238,-116.786 63.5434,-118.795 52.5777,-118.867 52.5777,-118.867\"/>\n",
       "</g>\n",
       "<!-- O&#45;&gt;1 -->\n",
       "<g id=\"edge5\" class=\"edge\"><title>O&#45;&gt;1</title>\n",
       "<path fill=\"none\" stroke=\"#036e4c\" stroke-dasharray=\"5,2\" d=\"M215.519,-204.986C181.81,-190.071 102.785,-155.107 62.1324,-137.12\"/>\n",
       "<polygon fill=\"#036e4c\" stroke=\"#036e4c\" points=\"52.9063,-133.038 63.872,-132.969 57.4787,-135.061 62.0512,-137.084 62.0512,-137.084 62.0512,-137.084 57.4787,-135.061 60.2304,-141.199 52.9063,-133.038 52.9063,-133.038\"/>\n",
       "</g>\n",
       "<!-- O2 -->\n",
       "<g id=\"node6\" class=\"node\"><title>O2</title>\n",
       "<ellipse fill=\"black\" stroke=\"white\" cx=\"232.372\" cy=\"-270\" rx=\"21.8081\" ry=\"21.8081\"/>\n",
       "<text text-anchor=\"middle\" x=\"232.372\" y=\"-265.8\" font-family=\"Helvetica,sans-Serif\" font-size=\"14.00\" fill=\"white\">O2</text>\n",
       "</g>\n",
       "<!-- O2&#45;&gt;0 -->\n",
       "<g id=\"edge2\" class=\"edge\"><title>O2&#45;&gt;0</title>\n",
       "<path fill=\"none\" stroke=\"#a7557e\" stroke-dasharray=\"5,2\" d=\"M212.036,-261.047C176.509,-244.597 100.903,-209.589 61.7108,-191.442\"/>\n",
       "<polygon fill=\"#a7557e\" stroke=\"#a7557e\" points=\"52.5777,-187.213 63.543,-187.331 57.1149,-189.314 61.6522,-191.415 61.6522,-191.415 61.6522,-191.415 57.1149,-189.314 59.7614,-195.498 52.5777,-187.213 52.5777,-187.213\"/>\n",
       "</g>\n",
       "</g>\n",
       "</svg>\n"
      ],
      "text/plain": [
       "<graphviz.dot.Digraph at 0x114d7ac88>"
      ]
     },
     "execution_count": 18,
     "metadata": {},
     "output_type": "execute_result"
    }
   ],
   "source": [
    "dot_b.plot_system()"
   ]
  },
  {
   "cell_type": "markdown",
   "metadata": {},
   "source": [
    "0: H + O2 = O + OH\n",
    "\n",
    "1: O + H2 = H + OH"
   ]
  },
  {
   "cell_type": "markdown",
   "metadata": {},
   "source": [
    "### Change style of the graph"
   ]
  },
  {
   "cell_type": "code",
   "execution_count": 19,
   "metadata": {
    "collapsed": true
   },
   "outputs": [],
   "source": [
    "new_style = {\n",
    "        'graph': {\n",
    "            'fontsize': '16',\n",
    "            'fontcolor': 'red',\n",
    "            'bgcolor': '#333333',\n",
    "            'rankdir': 'BT',\n",
    "            'pad':'1'\n",
    "        },\n",
    "        'nodes': {\n",
    "            'fontname': 'Courier',\n",
    "            'shape': 'circle',\n",
    "            'fontcolor': 'red',\n",
    "            'color': 'white',\n",
    "            'style': 'dashed',\n",
    "            'fillcolor': 'black',\n",
    "        },\n",
    "        'edges': {\n",
    "            'style': 'dashed',\n",
    "            'color': 'red',\n",
    "            'arrowhead': 'empty',\n",
    "            'fontname': 'Courier',\n",
    "            'fontsize': '12',\n",
    "            'fontcolor': 'white',\n",
    "        }\n",
    "    }\n",
    "    \n",
    "dot_b.modify_current_style(new_style)"
   ]
  },
  {
   "cell_type": "code",
   "execution_count": 20,
   "metadata": {},
   "outputs": [
    {
     "data": {
      "image/svg+xml": [
       "<?xml version=\"1.0\" encoding=\"UTF-8\" standalone=\"no\"?>\n",
       "<!DOCTYPE svg PUBLIC \"-//W3C//DTD SVG 1.1//EN\"\n",
       " \"http://www.w3.org/Graphics/SVG/1.1/DTD/svg11.dtd\">\n",
       "<!-- Generated by graphviz version 2.38.0 (20140413.2041)\n",
       " -->\n",
       "<!-- Title: %3 Pages: 1 -->\n",
       "<svg width=\"412pt\" height=\"470pt\"\n",
       " viewBox=\"0.00 0.00 412.44 470.00\" xmlns=\"http://www.w3.org/2000/svg\" xmlns:xlink=\"http://www.w3.org/1999/xlink\">\n",
       "<g id=\"graph0\" class=\"graph\" transform=\"scale(1 1) rotate(0) translate(72 398)\">\n",
       "<title>%3</title>\n",
       "<polygon fill=\"#333333\" stroke=\"none\" points=\"-72,72 -72,-398 340.441,-398 340.441,72 -72,72\"/>\n",
       "<g id=\"clust1\" class=\"cluster\"><title>cluster_1</title>\n",
       "<polygon fill=\"#333333\" stroke=\"white\" points=\"0,-98 0,-228 72,-228 72,-98 0,-98\"/>\n",
       "<text text-anchor=\"middle\" x=\"36\" y=\"-211.2\" font-family=\"Times,serif\" font-size=\"16.00\" fill=\"red\">Reaction</text>\n",
       "</g>\n",
       "<g id=\"clust2\" class=\"cluster\"><title>cluster_0</title>\n",
       "<polygon fill=\"#333333\" stroke=\"white\" points=\"200,-8 200,-318 264.441,-318 264.441,-8 200,-8\"/>\n",
       "<text text-anchor=\"middle\" x=\"232.221\" y=\"-301.2\" font-family=\"Times,serif\" font-size=\"16.00\" fill=\"red\">Species</text>\n",
       "</g>\n",
       "<!-- 0 -->\n",
       "<g id=\"node1\" class=\"node\"><title>0</title>\n",
       "<ellipse fill=\"none\" stroke=\"white\" stroke-dasharray=\"5,2\" cx=\"36\" cy=\"-178\" rx=\"18\" ry=\"18\"/>\n",
       "<text text-anchor=\"middle\" x=\"36\" y=\"-173.8\" font-family=\"Courier,monospace\" font-size=\"14.00\" fill=\"red\">0</text>\n",
       "</g>\n",
       "<!-- O -->\n",
       "<g id=\"node5\" class=\"node\"><title>O</title>\n",
       "<ellipse fill=\"none\" stroke=\"white\" stroke-dasharray=\"5,2\" cx=\"231.721\" cy=\"-208\" rx=\"18\" ry=\"18\"/>\n",
       "<text text-anchor=\"middle\" x=\"231.721\" y=\"-203.8\" font-family=\"Courier,monospace\" font-size=\"14.00\" fill=\"red\">O</text>\n",
       "</g>\n",
       "<!-- 0&#45;&gt;O -->\n",
       "<g id=\"edge3\" class=\"edge\"><title>0&#45;&gt;O</title>\n",
       "<path fill=\"none\" stroke=\"#306676\" stroke-dasharray=\"5,2\" d=\"M53.8526,-180.61C87.4842,-185.818 163.178,-197.54 203.78,-203.828\"/>\n",
       "<polygon fill=\"none\" stroke=\"#306676\" points=\"203.351,-207.303 213.769,-205.375 204.423,-200.386 203.351,-207.303\"/>\n",
       "</g>\n",
       "<!-- OH -->\n",
       "<g id=\"node7\" class=\"node\"><title>OH</title>\n",
       "<ellipse fill=\"none\" stroke=\"white\" stroke-dasharray=\"5,2\" cx=\"231.721\" cy=\"-151\" rx=\"20.9438\" ry=\"20.9438\"/>\n",
       "<text text-anchor=\"middle\" x=\"231.721\" y=\"-146.8\" font-family=\"Courier,monospace\" font-size=\"14.00\" fill=\"red\">OH</text>\n",
       "</g>\n",
       "<!-- 0&#45;&gt;OH -->\n",
       "<g id=\"edge4\" class=\"edge\"><title>0&#45;&gt;OH</title>\n",
       "<path fill=\"none\" stroke=\"#306676\" stroke-dasharray=\"5,2\" d=\"M53.8526,-175.651C86.7089,-171.072 159.711,-160.897 200.917,-155.154\"/>\n",
       "<polygon fill=\"none\" stroke=\"#306676\" points=\"201.487,-158.608 210.908,-153.761 200.521,-151.675 201.487,-158.608\"/>\n",
       "</g>\n",
       "<!-- 1 -->\n",
       "<g id=\"node2\" class=\"node\"><title>1</title>\n",
       "<ellipse fill=\"none\" stroke=\"white\" stroke-dasharray=\"5,2\" cx=\"36\" cy=\"-124\" rx=\"18\" ry=\"18\"/>\n",
       "<text text-anchor=\"middle\" x=\"36\" y=\"-119.8\" font-family=\"Courier,monospace\" font-size=\"14.00\" fill=\"red\">1</text>\n",
       "</g>\n",
       "<!-- H -->\n",
       "<g id=\"node3\" class=\"node\"><title>H</title>\n",
       "<ellipse fill=\"none\" stroke=\"white\" stroke-dasharray=\"5,2\" cx=\"231.721\" cy=\"-94\" rx=\"18\" ry=\"18\"/>\n",
       "<text text-anchor=\"middle\" x=\"231.721\" y=\"-89.8\" font-family=\"Courier,monospace\" font-size=\"14.00\" fill=\"red\">H</text>\n",
       "</g>\n",
       "<!-- 1&#45;&gt;H -->\n",
       "<g id=\"edge7\" class=\"edge\"><title>1&#45;&gt;H</title>\n",
       "<path fill=\"none\" stroke=\"#d93710\" stroke-dasharray=\"5,2\" d=\"M53.8526,-121.39C87.4842,-116.182 163.178,-104.46 203.78,-98.1721\"/>\n",
       "<polygon fill=\"none\" stroke=\"#d93710\" points=\"204.423,-101.614 213.769,-96.6252 203.351,-94.6968 204.423,-101.614\"/>\n",
       "</g>\n",
       "<!-- 1&#45;&gt;OH -->\n",
       "<g id=\"edge8\" class=\"edge\"><title>1&#45;&gt;OH</title>\n",
       "<path fill=\"none\" stroke=\"#d93710\" stroke-dasharray=\"5,2\" d=\"M53.8526,-126.349C86.7089,-130.928 159.711,-141.103 200.917,-146.846\"/>\n",
       "<polygon fill=\"none\" stroke=\"#d93710\" points=\"200.521,-150.325 210.908,-148.239 201.487,-143.392 200.521,-150.325\"/>\n",
       "</g>\n",
       "<!-- H&#45;&gt;0 -->\n",
       "<g id=\"edge1\" class=\"edge\"><title>H&#45;&gt;0</title>\n",
       "<path fill=\"none\" stroke=\"#306676\" stroke-dasharray=\"5,2\" d=\"M214.92,-100.851C181.325,-115.419 102.565,-149.57 62.0482,-167.139\"/>\n",
       "<polygon fill=\"none\" stroke=\"#306676\" points=\"60.6352,-163.937 52.853,-171.126 63.42,-170.359 60.6352,-163.937\"/>\n",
       "</g>\n",
       "<!-- H2 -->\n",
       "<g id=\"node4\" class=\"node\"><title>H2</title>\n",
       "<ellipse fill=\"none\" stroke=\"white\" stroke-dasharray=\"5,2\" cx=\"231.721\" cy=\"-37\" rx=\"20.9438\" ry=\"20.9438\"/>\n",
       "<text text-anchor=\"middle\" x=\"231.721\" y=\"-32.8\" font-family=\"Courier,monospace\" font-size=\"14.00\" fill=\"red\">H2</text>\n",
       "</g>\n",
       "<!-- H2&#45;&gt;1 -->\n",
       "<g id=\"edge6\" class=\"edge\"><title>H2&#45;&gt;1</title>\n",
       "<path fill=\"none\" stroke=\"#d93710\" stroke-dasharray=\"5,2\" d=\"M212.406,-45.2252C177.547,-60.8801 101.62,-94.9791 62.0757,-112.739\"/>\n",
       "<polygon fill=\"none\" stroke=\"#d93710\" points=\"60.5414,-109.591 52.853,-116.88 63.4092,-115.976 60.5414,-109.591\"/>\n",
       "</g>\n",
       "<!-- O&#45;&gt;1 -->\n",
       "<g id=\"edge5\" class=\"edge\"><title>O&#45;&gt;1</title>\n",
       "<path fill=\"none\" stroke=\"#d93710\" stroke-dasharray=\"5,2\" d=\"M214.92,-201.149C181.325,-186.581 102.565,-152.43 62.0482,-134.861\"/>\n",
       "<polygon fill=\"none\" stroke=\"#d93710\" points=\"63.42,-131.641 52.853,-130.874 60.6352,-138.063 63.42,-131.641\"/>\n",
       "</g>\n",
       "<!-- O2 -->\n",
       "<g id=\"node6\" class=\"node\"><title>O2</title>\n",
       "<ellipse fill=\"none\" stroke=\"white\" stroke-dasharray=\"5,2\" cx=\"231.721\" cy=\"-265\" rx=\"20.9438\" ry=\"20.9438\"/>\n",
       "<text text-anchor=\"middle\" x=\"231.721\" y=\"-260.8\" font-family=\"Courier,monospace\" font-size=\"14.00\" fill=\"red\">O2</text>\n",
       "</g>\n",
       "<!-- O2&#45;&gt;0 -->\n",
       "<g id=\"edge2\" class=\"edge\"><title>O2&#45;&gt;0</title>\n",
       "<path fill=\"none\" stroke=\"#306676\" stroke-dasharray=\"5,2\" d=\"M212.406,-256.775C177.547,-241.12 101.62,-207.021 62.0757,-189.261\"/>\n",
       "<polygon fill=\"none\" stroke=\"#306676\" points=\"63.4092,-186.024 52.853,-185.12 60.5414,-192.409 63.4092,-186.024\"/>\n",
       "</g>\n",
       "</g>\n",
       "</svg>\n"
      ],
      "text/plain": [
       "<graphviz.dot.Digraph at 0x11541a240>"
      ]
     },
     "execution_count": 20,
     "metadata": {},
     "output_type": "execute_result"
    }
   ],
   "source": [
    "dot_b.plot_system()"
   ]
  },
  {
   "cell_type": "markdown",
   "metadata": {},
   "source": [
    "### Hierarchical Graph"
   ]
  },
  {
   "cell_type": "code",
   "execution_count": 21,
   "metadata": {
    "collapsed": true
   },
   "outputs": [],
   "source": [
    "dot_h = HierarchicalRSGraph(rs1)"
   ]
  },
  {
   "cell_type": "markdown",
   "metadata": {},
   "source": [
    "#### plot the whole reaction system"
   ]
  },
  {
   "cell_type": "code",
   "execution_count": 22,
   "metadata": {},
   "outputs": [
    {
     "data": {
      "image/svg+xml": [
       "<?xml version=\"1.0\" encoding=\"UTF-8\" standalone=\"no\"?>\n",
       "<!DOCTYPE svg PUBLIC \"-//W3C//DTD SVG 1.1//EN\"\n",
       " \"http://www.w3.org/Graphics/SVG/1.1/DTD/svg11.dtd\">\n",
       "<!-- Generated by graphviz version 2.38.0 (20140413.2041)\n",
       " -->\n",
       "<!-- Title: %3 Pages: 1 -->\n",
       "<svg width=\"482pt\" height=\"356pt\"\n",
       " viewBox=\"0.00 0.00 481.58 355.90\" xmlns=\"http://www.w3.org/2000/svg\" xmlns:xlink=\"http://www.w3.org/1999/xlink\">\n",
       "<g id=\"graph0\" class=\"graph\" transform=\"scale(1 1) rotate(0) translate(72 283.904)\">\n",
       "<title>%3</title>\n",
       "<polygon fill=\"#333333\" stroke=\"none\" points=\"-72,72 -72,-283.904 409.579,-283.904 409.579,72 -72,72\"/>\n",
       "<!-- H -->\n",
       "<g id=\"node1\" class=\"node\"><title>H</title>\n",
       "<defs>\n",
       "<linearGradient id=\"l_0\" gradientUnits=\"userSpaceOnUse\" x1=\"124.932\" y1=\"-1.77636e-14\" x2=\"124.932\" y2=\"-36\" >\n",
       "<stop offset=\"0.009\" style=\"stop-color:#997777;stop-opacity:1.;\"/>\n",
       "<stop offset=\"0.010\" style=\"stop-color:#333333;stop-opacity:1.;\"/>\n",
       "</linearGradient>\n",
       "</defs>\n",
       "<ellipse fill=\"url(#l_0)\" stroke=\"white\" cx=\"124.932\" cy=\"-18\" rx=\"18\" ry=\"18\"/>\n",
       "<text text-anchor=\"middle\" x=\"124.932\" y=\"-13.8\" font-family=\"Helvetica,sans-Serif\" font-size=\"14.00\" fill=\"white\">H</text>\n",
       "</g>\n",
       "<!-- O -->\n",
       "<g id=\"node3\" class=\"node\"><title>O</title>\n",
       "<defs>\n",
       "<linearGradient id=\"l_1\" gradientUnits=\"userSpaceOnUse\" x1=\"124.932\" y1=\"-114\" x2=\"124.932\" y2=\"-150\" >\n",
       "<stop offset=\"0.009\" style=\"stop-color:#997777;stop-opacity:1.;\"/>\n",
       "<stop offset=\"0.010\" style=\"stop-color:#333333;stop-opacity:1.;\"/>\n",
       "</linearGradient>\n",
       "</defs>\n",
       "<ellipse fill=\"url(#l_1)\" stroke=\"white\" cx=\"124.932\" cy=\"-132\" rx=\"18\" ry=\"18\"/>\n",
       "<text text-anchor=\"middle\" x=\"124.932\" y=\"-127.8\" font-family=\"Helvetica,sans-Serif\" font-size=\"14.00\" fill=\"white\">O</text>\n",
       "</g>\n",
       "<!-- H&#45;&gt;O -->\n",
       "<g id=\"edge1\" class=\"edge\"><title>H&#45;&gt;O</title>\n",
       "<path fill=\"none\" stroke=\"#1dbf2e\" stroke-width=\"2\" stroke-dasharray=\"5,2\" d=\"M97.0096,-23.5772C81.8017,-28.192 64.2502,-36.4478 55.0277,-51 43.6079,-69.0194 43.6079,-80.9806 55.0277,-99 64.2502,-113.552 81.8017,-121.808 97.0096,-126.423\"/>\n",
       "<polygon fill=\"#1dbf2e\" stroke=\"#1dbf2e\" stroke-width=\"2\" points=\"98.2572,-26.8679 107.033,-20.9314 96.4705,-20.0997 98.2572,-26.8679\"/>\n",
       "<polygon fill=\"#1dbf2e\" stroke=\"#1dbf2e\" stroke-width=\"2\" points=\"107.033,-129.069 96.2153,-130.867 102.071,-128.276 97.2362,-127 97.3638,-126.516 97.4915,-126.033 102.326,-127.309 98.5124,-122.165 107.033,-129.069 107.033,-129.069\"/>\n",
       "</g>\n",
       "<!-- O2 -->\n",
       "<g id=\"node4\" class=\"node\"><title>O2</title>\n",
       "<defs>\n",
       "<linearGradient id=\"l_2\" gradientUnits=\"userSpaceOnUse\" x1=\"124.932\" y1=\"-168.192\" x2=\"124.932\" y2=\"-211.808\" >\n",
       "<stop offset=\"0.009\" style=\"stop-color:#997777;stop-opacity:1.;\"/>\n",
       "<stop offset=\"0.010\" style=\"stop-color:#333333;stop-opacity:1.;\"/>\n",
       "</linearGradient>\n",
       "</defs>\n",
       "<ellipse fill=\"url(#l_2)\" stroke=\"white\" cx=\"124.932\" cy=\"-190\" rx=\"21.8081\" ry=\"21.8081\"/>\n",
       "<text text-anchor=\"middle\" x=\"124.932\" y=\"-185.8\" font-family=\"Helvetica,sans-Serif\" font-size=\"14.00\" fill=\"white\">O2</text>\n",
       "</g>\n",
       "<!-- H&#45;&gt;O2 -->\n",
       "<g id=\"edge3\" class=\"edge\"><title>H&#45;&gt;O2</title>\n",
       "<path fill=\"none\" stroke=\"#1dbf2e\" stroke-width=\"1.5\" d=\"M106.731,-19.0916C84.5835,-21.5098 48.0426,-29.2545 31.0277,-54 6.8535,-89.1575 7.5009,-114.406 31.0277,-150 46.9546,-174.096 80.6692,-183.724 103.063,-187.539\"/>\n",
       "</g>\n",
       "<!-- OH -->\n",
       "<g id=\"node5\" class=\"node\"><title>OH</title>\n",
       "<defs>\n",
       "<linearGradient id=\"l_3\" gradientUnits=\"userSpaceOnUse\" x1=\"314.207\" y1=\"-79.7553\" x2=\"314.207\" y2=\"-126.245\" >\n",
       "<stop offset=\"0.009\" style=\"stop-color:#997777;stop-opacity:1.;\"/>\n",
       "<stop offset=\"0.010\" style=\"stop-color:#333333;stop-opacity:1.;\"/>\n",
       "</linearGradient>\n",
       "</defs>\n",
       "<ellipse fill=\"url(#l_3)\" stroke=\"white\" cx=\"314.207\" cy=\"-103\" rx=\"23.2447\" ry=\"23.2447\"/>\n",
       "<text text-anchor=\"middle\" x=\"314.207\" y=\"-98.8\" font-family=\"Helvetica,sans-Serif\" font-size=\"14.00\" fill=\"white\">OH</text>\n",
       "</g>\n",
       "<!-- H&#45;&gt;OH -->\n",
       "<g id=\"edge2\" class=\"edge\"><title>H&#45;&gt;OH</title>\n",
       "<path fill=\"none\" stroke=\"#1dbf2e\" stroke-width=\"2\" stroke-dasharray=\"5,2\" d=\"M150.762,-29.27C185.057,-44.8355 246.832,-72.8737 283.522,-89.5265\"/>\n",
       "<polygon fill=\"#1dbf2e\" stroke=\"#1dbf2e\" stroke-width=\"2\" points=\"152.129,-26.0468 141.577,-25.1009 149.236,-32.421 152.129,-26.0468\"/>\n",
       "<polygon fill=\"#1dbf2e\" stroke=\"#1dbf2e\" stroke-width=\"2\" points=\"292.72,-93.7011 281.754,-93.6657 287.96,-92.0899 283.407,-90.0233 283.614,-89.568 283.82,-89.1127 288.373,-91.1793 285.474,-85.4704 292.72,-93.7011 292.72,-93.7011\"/>\n",
       "</g>\n",
       "<!-- H2 -->\n",
       "<g id=\"node2\" class=\"node\"><title>H2</title>\n",
       "<defs>\n",
       "<linearGradient id=\"l_4\" gradientUnits=\"userSpaceOnUse\" x1=\"124.932\" y1=\"-53.6764\" x2=\"124.932\" y2=\"-96.3236\" >\n",
       "<stop offset=\"0.009\" style=\"stop-color:#997777;stop-opacity:1.;\"/>\n",
       "<stop offset=\"0.010\" style=\"stop-color:#333333;stop-opacity:1.;\"/>\n",
       "</linearGradient>\n",
       "</defs>\n",
       "<ellipse fill=\"url(#l_4)\" stroke=\"white\" cx=\"124.932\" cy=\"-75\" rx=\"21.3236\" ry=\"21.3236\"/>\n",
       "<text text-anchor=\"middle\" x=\"124.932\" y=\"-70.8\" font-family=\"Helvetica,sans-Serif\" font-size=\"14.00\" fill=\"white\">H2</text>\n",
       "</g>\n",
       "<!-- H2&#45;&gt;H -->\n",
       "<g id=\"edge9\" class=\"edge\"><title>H2&#45;&gt;H</title>\n",
       "<path fill=\"none\" stroke=\"#dd8a3e\" stroke-width=\"2\" stroke-dasharray=\"5,2\" d=\"M124.932,-46.9395C124.932,-46.7934 124.932,-46.6474 124.932,-46.5014\"/>\n",
       "<polygon fill=\"#dd8a3e\" stroke=\"#dd8a3e\" stroke-width=\"2\" points=\"121.432,-43.5101 124.932,-53.5102 128.432,-43.5102 121.432,-43.5101\"/>\n",
       "<polygon fill=\"#dd8a3e\" stroke=\"#dd8a3e\" stroke-width=\"2\" points=\"124.932,-36.2578 129.432,-46.2578 125.432,-41.2578 125.432,-46.2578 124.932,-46.2578 124.432,-46.2578 124.432,-41.2578 120.432,-46.2579 124.932,-36.2578 124.932,-36.2578\"/>\n",
       "</g>\n",
       "<!-- H2&#45;&gt;OH -->\n",
       "<g id=\"edge10\" class=\"edge\"><title>H2&#45;&gt;OH</title>\n",
       "<path fill=\"none\" stroke=\"#dd8a3e\" stroke-width=\"2\" stroke-dasharray=\"5,2\" d=\"M156.221,-79.5286C190.342,-84.6301 245.594,-92.891 280.628,-98.129\"/>\n",
       "<polygon fill=\"#dd8a3e\" stroke=\"#dd8a3e\" stroke-width=\"2\" points=\"156.738,-76.067 146.33,-78.0498 155.702,-82.9901 156.738,-76.067\"/>\n",
       "<polygon fill=\"#dd8a3e\" stroke=\"#dd8a3e\" stroke-width=\"2\" points=\"290.806,-99.6507 280.25,-102.622 285.787,-99.4058 280.842,-98.6664 280.916,-98.1719 280.99,-97.6774 285.935,-98.4168 281.581,-93.7214 290.806,-99.6507 290.806,-99.6507\"/>\n",
       "</g>\n",
       "<!-- O&#45;&gt;H -->\n",
       "<g id=\"edge6\" class=\"edge\"><title>O&#45;&gt;H</title>\n",
       "<path fill=\"none\" stroke=\"#dd8a3e\" stroke-width=\"2\" stroke-dasharray=\"5,2\" d=\"M96.5,-131.485C68.5806,-129.274 27.3151,-121.079 7.02772,-93 -2.34257,-80.0309 -2.34257,-69.9691 7.02772,-57 27.3151,-28.921 68.5806,-20.7255 96.5,-18.5155\"/>\n",
       "<polygon fill=\"#dd8a3e\" stroke=\"#dd8a3e\" stroke-width=\"2\" points=\"96.6475,-134.999 106.833,-132.081 97.0508,-128.01 96.6475,-134.999\"/>\n",
       "<polygon fill=\"#dd8a3e\" stroke=\"#dd8a3e\" stroke-width=\"2\" points=\"106.833,-17.9193 97.1084,-22.988 101.87,-18.7065 96.8779,-18.9946 96.8491,-18.4954 96.8203,-17.9963 101.812,-17.7082 96.5898,-14.0029 106.833,-17.9193 106.833,-17.9193\"/>\n",
       "</g>\n",
       "<!-- O&#45;&gt;H2 -->\n",
       "<g id=\"edge8\" class=\"edge\"><title>O&#45;&gt;H2</title>\n",
       "<path fill=\"none\" stroke=\"#dd8a3e\" stroke-width=\"1.5\" d=\"M124.932,-113.86C124.932,-108.18 124.932,-102.5 124.932,-96.8203\"/>\n",
       "</g>\n",
       "<!-- O&#45;&gt;OH -->\n",
       "<g id=\"edge7\" class=\"edge\"><title>O&#45;&gt;OH</title>\n",
       "<path fill=\"none\" stroke=\"#dd8a3e\" stroke-width=\"2\" stroke-dasharray=\"5,2\" d=\"M152.998,-127.809C186.882,-122.562 244.853,-113.585 280.988,-107.989\"/>\n",
       "<polygon fill=\"#dd8a3e\" stroke=\"#dd8a3e\" stroke-width=\"2\" points=\"152.228,-124.386 142.881,-129.375 153.299,-131.304 152.228,-124.386\"/>\n",
       "<polygon fill=\"#dd8a3e\" stroke=\"#dd8a3e\" stroke-width=\"2\" points=\"291.007,-106.438 281.814,-112.415 286.143,-107.697 281.201,-108.462 281.125,-107.968 281.048,-107.474 285.989,-106.709 280.436,-103.521 291.007,-106.438 291.007,-106.438\"/>\n",
       "</g>\n",
       "<!-- O2&#45;&gt;O -->\n",
       "<g id=\"edge4\" class=\"edge\"><title>O2&#45;&gt;O</title>\n",
       "<path fill=\"none\" stroke=\"#1dbf2e\" stroke-width=\"2\" stroke-dasharray=\"5,2\" d=\"M124.932,-160.859C124.932,-160.703 124.932,-160.547 124.932,-160.391\"/>\n",
       "<polygon fill=\"#1dbf2e\" stroke=\"#1dbf2e\" stroke-width=\"2\" points=\"121.432,-157.882 124.932,-167.882 128.432,-157.882 121.432,-157.882\"/>\n",
       "<polygon fill=\"#1dbf2e\" stroke=\"#1dbf2e\" stroke-width=\"2\" points=\"124.932,-150.125 129.432,-160.125 125.432,-155.125 125.432,-160.125 124.932,-160.125 124.432,-160.125 124.432,-155.125 120.432,-160.125 124.932,-150.125 124.932,-150.125\"/>\n",
       "</g>\n",
       "<!-- O2&#45;&gt;OH -->\n",
       "<g id=\"edge5\" class=\"edge\"><title>O2&#45;&gt;OH</title>\n",
       "<path fill=\"none\" stroke=\"#1dbf2e\" stroke-width=\"2\" stroke-dasharray=\"5,2\" d=\"M154.767,-176.604C189.6,-160.423 247.908,-133.335 283.239,-116.922\"/>\n",
       "<polygon fill=\"#1dbf2e\" stroke=\"#1dbf2e\" stroke-width=\"2\" points=\"152.863,-173.63 145.268,-181.017 155.812,-179.978 152.863,-173.63\"/>\n",
       "<polygon fill=\"#1dbf2e\" stroke=\"#1dbf2e\" stroke-width=\"2\" points=\"292.557,-112.593 285.384,-120.888 288.233,-115.153 283.698,-117.26 283.488,-116.806 283.277,-116.353 287.812,-114.246 281.592,-112.725 292.557,-112.593 292.557,-112.593\"/>\n",
       "</g>\n",
       "</g>\n",
       "</svg>\n"
      ],
      "text/plain": [
       "<graphviz.dot.Digraph at 0x11541a630>"
      ]
     },
     "execution_count": 22,
     "metadata": {},
     "output_type": "execute_result"
    }
   ],
   "source": [
    "dot_h.plot_system()"
   ]
  },
  {
   "cell_type": "markdown",
   "metadata": {},
   "source": [
    "#### plot each reaction equation seperately"
   ]
  },
  {
   "cell_type": "code",
   "execution_count": 23,
   "metadata": {},
   "outputs": [
    {
     "data": {
      "image/svg+xml": [
       "<?xml version=\"1.0\" encoding=\"UTF-8\" standalone=\"no\"?>\n",
       "<!DOCTYPE svg PUBLIC \"-//W3C//DTD SVG 1.1//EN\"\n",
       " \"http://www.w3.org/Graphics/SVG/1.1/DTD/svg11.dtd\">\n",
       "<!-- Generated by graphviz version 2.38.0 (20140413.2041)\n",
       " -->\n",
       "<!-- Title: %3 Pages: 1 -->\n",
       "<svg width=\"375pt\" height=\"448pt\"\n",
       " viewBox=\"0.00 0.00 374.55 448.00\" xmlns=\"http://www.w3.org/2000/svg\" xmlns:xlink=\"http://www.w3.org/1999/xlink\">\n",
       "<g id=\"graph0\" class=\"graph\" transform=\"scale(1 1) rotate(0) translate(72 376)\">\n",
       "<title>%3</title>\n",
       "<polygon fill=\"#333333\" stroke=\"none\" points=\"-72,72 -72,-376 302.552,-376 302.552,72 -72,72\"/>\n",
       "<g id=\"clust1\" class=\"cluster\"><title>cluster0Reaction</title>\n",
       "<polygon fill=\"#333333\" stroke=\"black\" points=\"8,-8 8,-148 222.552,-148 222.552,-8 8,-8\"/>\n",
       "<text text-anchor=\"middle\" x=\"115.276\" y=\"-131.2\" font-family=\"Times,serif\" font-size=\"16.00\" fill=\"white\">1H + 1O2 [=] 1O + 1OH</text>\n",
       "</g>\n",
       "<g id=\"clust2\" class=\"cluster\"><title>cluster1Reaction</title>\n",
       "<polygon fill=\"#333333\" stroke=\"black\" points=\"8,-156 8,-296 222.552,-296 222.552,-156 8,-156\"/>\n",
       "<text text-anchor=\"middle\" x=\"115.276\" y=\"-279.2\" font-family=\"Times,serif\" font-size=\"16.00\" fill=\"white\">1H2 + 1O [=] 1H + 1OH</text>\n",
       "</g>\n",
       "<!-- 1H + 1O2 [=] 1O + 1OH &#45;&#45;&#45; H -->\n",
       "<g id=\"node1\" class=\"node\"><title>1H + 1O2 [=] 1O + 1OH &#45;&#45;&#45; H</title>\n",
       "<ellipse fill=\"black\" stroke=\"white\" cx=\"34\" cy=\"-66\" rx=\"18\" ry=\"18\"/>\n",
       "<text text-anchor=\"middle\" x=\"34\" y=\"-61.8\" font-family=\"Helvetica,sans-Serif\" font-size=\"14.00\" fill=\"white\">H</text>\n",
       "</g>\n",
       "<!-- 1H + 1O2 [=] 1O + 1OH &#45;&#45;&#45; O2 -->\n",
       "<g id=\"node2\" class=\"node\"><title>1H + 1O2 [=] 1O + 1OH &#45;&#45;&#45; O2</title>\n",
       "<ellipse fill=\"black\" stroke=\"white\" cx=\"109.904\" cy=\"-66\" rx=\"21.8081\" ry=\"21.8081\"/>\n",
       "<text text-anchor=\"middle\" x=\"109.904\" y=\"-61.8\" font-family=\"Helvetica,sans-Serif\" font-size=\"14.00\" fill=\"white\">O2</text>\n",
       "</g>\n",
       "<!-- 1H + 1O2 [=] 1O + 1OH &#45;&#45;&#45; H&#45;&gt;1H + 1O2 [=] 1O + 1OH &#45;&#45;&#45; O2 -->\n",
       "<g id=\"edge3\" class=\"edge\"><title>1H + 1O2 [=] 1O + 1OH &#45;&#45;&#45; H&#45;&gt;1H + 1O2 [=] 1O + 1OH &#45;&#45;&#45; O2</title>\n",
       "<path fill=\"none\" stroke=\"#0a20fa\" stroke-width=\"1.5\" d=\"M52.1408,-66C62.8009,-66 76.5841,-66 87.899,-66\"/>\n",
       "</g>\n",
       "<!-- 1H + 1O2 [=] 1O + 1OH &#45;&#45;&#45; O -->\n",
       "<g id=\"node3\" class=\"node\"><title>1H + 1O2 [=] 1O + 1OH &#45;&#45;&#45; O</title>\n",
       "<ellipse fill=\"black\" stroke=\"white\" cx=\"191.18\" cy=\"-34\" rx=\"18\" ry=\"18\"/>\n",
       "<text text-anchor=\"middle\" x=\"191.18\" y=\"-29.8\" font-family=\"Helvetica,sans-Serif\" font-size=\"14.00\" fill=\"white\">O</text>\n",
       "</g>\n",
       "<!-- 1H + 1O2 [=] 1O + 1OH &#45;&#45;&#45; H&#45;&gt;1H + 1O2 [=] 1O + 1OH &#45;&#45;&#45; O -->\n",
       "<g id=\"edge1\" class=\"edge\"><title>1H + 1O2 [=] 1O + 1OH &#45;&#45;&#45; H&#45;&gt;1H + 1O2 [=] 1O + 1OH &#45;&#45;&#45; O</title>\n",
       "<path fill=\"none\" stroke=\"#0a20fa\" stroke-width=\"2\" stroke-dasharray=\"5,2\" d=\"M57.305,-49.4779C66.3566,-43.7308 77.2113,-37.9802 88,-35 112.755,-28.1618 142.187,-28.7377 163.091,-30.5292\"/>\n",
       "<polygon fill=\"#0a20fa\" stroke=\"#0a20fa\" stroke-width=\"2\" points=\"55.264,-46.6326 48.9237,-55.1209 59.1735,-52.4392 55.264,-46.6326\"/>\n",
       "<polygon fill=\"#0a20fa\" stroke=\"#0a20fa\" stroke-width=\"2\" points=\"173.175,-31.544 162.775,-35.02 168.15,-31.5408 163.175,-31.0401 163.225,-30.5426 163.276,-30.0451 168.25,-30.5458 163.676,-26.0652 173.175,-31.544 173.175,-31.544\"/>\n",
       "</g>\n",
       "<!-- 1H + 1O2 [=] 1O + 1OH &#45;&#45;&#45; OH -->\n",
       "<g id=\"node4\" class=\"node\"><title>1H + 1O2 [=] 1O + 1OH &#45;&#45;&#45; OH</title>\n",
       "<ellipse fill=\"black\" stroke=\"white\" cx=\"191.18\" cy=\"-93\" rx=\"23.2447\" ry=\"23.2447\"/>\n",
       "<text text-anchor=\"middle\" x=\"191.18\" y=\"-88.8\" font-family=\"Helvetica,sans-Serif\" font-size=\"14.00\" fill=\"white\">OH</text>\n",
       "</g>\n",
       "<!-- 1H + 1O2 [=] 1O + 1OH &#45;&#45;&#45; H&#45;&gt;1H + 1O2 [=] 1O + 1OH &#45;&#45;&#45; OH -->\n",
       "<g id=\"edge2\" class=\"edge\"><title>1H + 1O2 [=] 1O + 1OH &#45;&#45;&#45; H&#45;&gt;1H + 1O2 [=] 1O + 1OH &#45;&#45;&#45; OH</title>\n",
       "<path fill=\"none\" stroke=\"#0a20fa\" stroke-width=\"2\" stroke-dasharray=\"5,2\" d=\"M57.2899,-82.5773C66.3396,-88.3315 77.1968,-94.0726 88,-97 110.909,-103.208 137.758,-101.841 158.184,-99.1174\"/>\n",
       "<polygon fill=\"#0a20fa\" stroke=\"#0a20fa\" stroke-width=\"2\" points=\"59.1586,-79.6159 48.9118,-76.9224 55.2424,-85.418 59.1586,-79.6159\"/>\n",
       "<polygon fill=\"#0a20fa\" stroke=\"#0a20fa\" stroke-width=\"2\" points=\"168.225,-97.6026 159.008,-103.544 163.356,-98.8429 158.412,-99.5888 158.337,-99.0944 158.262,-98.6 163.207,-97.8541 157.666,-94.6447 168.225,-97.6026 168.225,-97.6026\"/>\n",
       "</g>\n",
       "<!-- 1H + 1O2 [=] 1O + 1OH &#45;&#45;&#45; O2&#45;&gt;1H + 1O2 [=] 1O + 1OH &#45;&#45;&#45; O -->\n",
       "<g id=\"edge4\" class=\"edge\"><title>1H + 1O2 [=] 1O + 1OH &#45;&#45;&#45; O2&#45;&gt;1H + 1O2 [=] 1O + 1OH &#45;&#45;&#45; O</title>\n",
       "<path fill=\"none\" stroke=\"#0a20fa\" stroke-width=\"2\" stroke-dasharray=\"5,2\" d=\"M139.852,-54.315C148.022,-51.0171 156.847,-47.4549 164.791,-44.2483\"/>\n",
       "<polygon fill=\"#0a20fa\" stroke=\"#0a20fa\" stroke-width=\"2\" points=\"138.463,-51.1012 130.5,-58.0899 141.083,-57.5923 138.463,-51.1012\"/>\n",
       "<polygon fill=\"#0a20fa\" stroke=\"#0a20fa\" stroke-width=\"2\" points=\"174.267,-40.4234 166.678,-48.3394 169.817,-42.7586 165.181,-44.6302 164.994,-44.1665 164.806,-43.7029 169.443,-41.8313 163.309,-39.9937 174.267,-40.4234 174.267,-40.4234\"/>\n",
       "</g>\n",
       "<!-- 1H + 1O2 [=] 1O + 1OH &#45;&#45;&#45; O2&#45;&gt;1H + 1O2 [=] 1O + 1OH &#45;&#45;&#45; OH -->\n",
       "<g id=\"edge5\" class=\"edge\"><title>1H + 1O2 [=] 1O + 1OH &#45;&#45;&#45; O2&#45;&gt;1H + 1O2 [=] 1O + 1OH &#45;&#45;&#45; OH</title>\n",
       "<path fill=\"none\" stroke=\"#0a20fa\" stroke-width=\"2\" stroke-dasharray=\"5,2\" d=\"M140.643,-76.1286C146.635,-78.1695 152.95,-80.3203 158.991,-82.3776\"/>\n",
       "<polygon fill=\"#0a20fa\" stroke=\"#0a20fa\" stroke-width=\"2\" points=\"141.503,-72.7242 130.909,-72.8132 139.246,-79.3504 141.503,-72.7242\"/>\n",
       "<polygon fill=\"#0a20fa\" stroke=\"#0a20fa\" stroke-width=\"2\" points=\"168.792,-85.7156 157.875,-86.7513 163.898,-84.5769 159.165,-82.9649 159.326,-82.4916 159.487,-82.0183 164.22,-83.6303 160.777,-78.2319 168.792,-85.7156 168.792,-85.7156\"/>\n",
       "</g>\n",
       "<!-- 1H2 + 1O [=] 1H + 1OH &#45;&#45;&#45; O -->\n",
       "<g id=\"node5\" class=\"node\"><title>1H2 + 1O [=] 1H + 1OH &#45;&#45;&#45; O</title>\n",
       "<ellipse fill=\"black\" stroke=\"white\" cx=\"34\" cy=\"-213\" rx=\"18\" ry=\"18\"/>\n",
       "<text text-anchor=\"middle\" x=\"34\" y=\"-208.8\" font-family=\"Helvetica,sans-Serif\" font-size=\"14.00\" fill=\"white\">O</text>\n",
       "</g>\n",
       "<!-- 1H2 + 1O [=] 1H + 1OH &#45;&#45;&#45; H2 -->\n",
       "<g id=\"node6\" class=\"node\"><title>1H2 + 1O [=] 1H + 1OH &#45;&#45;&#45; H2</title>\n",
       "<ellipse fill=\"black\" stroke=\"white\" cx=\"109.904\" cy=\"-213\" rx=\"21.3236\" ry=\"21.3236\"/>\n",
       "<text text-anchor=\"middle\" x=\"109.904\" y=\"-208.8\" font-family=\"Helvetica,sans-Serif\" font-size=\"14.00\" fill=\"white\">H2</text>\n",
       "</g>\n",
       "<!-- 1H2 + 1O [=] 1H + 1OH &#45;&#45;&#45; O&#45;&gt;1H2 + 1O [=] 1H + 1OH &#45;&#45;&#45; H2 -->\n",
       "<g id=\"edge8\" class=\"edge\"><title>1H2 + 1O [=] 1H + 1OH &#45;&#45;&#45; O&#45;&gt;1H2 + 1O [=] 1H + 1OH &#45;&#45;&#45; H2</title>\n",
       "<path fill=\"none\" stroke=\"#27844e\" stroke-width=\"1.5\" d=\"M52.1408,-213C62.9715,-213 77.026,-213 88.4402,-213\"/>\n",
       "</g>\n",
       "<!-- 1H2 + 1O [=] 1H + 1OH &#45;&#45;&#45; H -->\n",
       "<g id=\"node7\" class=\"node\"><title>1H2 + 1O [=] 1H + 1OH &#45;&#45;&#45; H</title>\n",
       "<ellipse fill=\"black\" stroke=\"white\" cx=\"191.18\" cy=\"-182\" rx=\"18\" ry=\"18\"/>\n",
       "<text text-anchor=\"middle\" x=\"191.18\" y=\"-177.8\" font-family=\"Helvetica,sans-Serif\" font-size=\"14.00\" fill=\"white\">H</text>\n",
       "</g>\n",
       "<!-- 1H2 + 1O [=] 1H + 1OH &#45;&#45;&#45; O&#45;&gt;1H2 + 1O [=] 1H + 1OH &#45;&#45;&#45; H -->\n",
       "<g id=\"edge6\" class=\"edge\"><title>1H2 + 1O [=] 1H + 1OH &#45;&#45;&#45; O&#45;&gt;1H2 + 1O [=] 1H + 1OH &#45;&#45;&#45; H</title>\n",
       "<path fill=\"none\" stroke=\"#27844e\" stroke-width=\"2\" stroke-dasharray=\"5,2\" d=\"M57.3749,-197.007C66.4356,-191.444 77.2783,-185.88 88,-183 112.803,-176.337 142.229,-176.89 163.118,-178.629\"/>\n",
       "<polygon fill=\"#27844e\" stroke=\"#27844e\" stroke-width=\"2\" points=\"55.4526,-194.082 48.9787,-202.469 59.2697,-199.949 55.4526,-194.082\"/>\n",
       "<polygon fill=\"#27844e\" stroke=\"#27844e\" stroke-width=\"2\" points=\"173.194,-179.614 162.804,-183.119 168.169,-179.625 163.193,-179.138 163.242,-178.641 163.29,-178.143 168.267,-178.63 163.68,-174.162 173.194,-179.614 173.194,-179.614\"/>\n",
       "</g>\n",
       "<!-- 1H2 + 1O [=] 1H + 1OH &#45;&#45;&#45; OH -->\n",
       "<g id=\"node8\" class=\"node\"><title>1H2 + 1O [=] 1H + 1OH &#45;&#45;&#45; OH</title>\n",
       "<ellipse fill=\"black\" stroke=\"white\" cx=\"191.18\" cy=\"-241\" rx=\"23.2447\" ry=\"23.2447\"/>\n",
       "<text text-anchor=\"middle\" x=\"191.18\" y=\"-236.8\" font-family=\"Helvetica,sans-Serif\" font-size=\"14.00\" fill=\"white\">OH</text>\n",
       "</g>\n",
       "<!-- 1H2 + 1O [=] 1H + 1OH &#45;&#45;&#45; O&#45;&gt;1H2 + 1O [=] 1H + 1OH &#45;&#45;&#45; OH -->\n",
       "<g id=\"edge7\" class=\"edge\"><title>1H2 + 1O [=] 1H + 1OH &#45;&#45;&#45; O&#45;&gt;1H2 + 1O [=] 1H + 1OH &#45;&#45;&#45; OH</title>\n",
       "<path fill=\"none\" stroke=\"#27844e\" stroke-width=\"2\" stroke-dasharray=\"5,2\" d=\"M57.3603,-229.048C66.4191,-234.617 77.2643,-240.172 88,-243 110.793,-249.003 137.445,-248.238 157.814,-246.111\"/>\n",
       "<polygon fill=\"#27844e\" stroke=\"#27844e\" stroke-width=\"2\" points=\"59.2553,-226.105 48.9672,-223.575 55.4315,-231.969 59.2553,-226.105\"/>\n",
       "<polygon fill=\"#27844e\" stroke=\"#27844e\" stroke-width=\"2\" points=\"167.839,-244.904 158.449,-250.568 162.935,-245.998 157.97,-246.596 157.911,-246.1 157.851,-245.603 162.815,-245.006 157.373,-241.632 167.839,-244.904 167.839,-244.904\"/>\n",
       "</g>\n",
       "<!-- 1H2 + 1O [=] 1H + 1OH &#45;&#45;&#45; H2&#45;&gt;1H2 + 1O [=] 1H + 1OH &#45;&#45;&#45; H -->\n",
       "<g id=\"edge9\" class=\"edge\"><title>1H2 + 1O [=] 1H + 1OH &#45;&#45;&#45; H2&#45;&gt;1H2 + 1O [=] 1H + 1OH &#45;&#45;&#45; H</title>\n",
       "<path fill=\"none\" stroke=\"#27844e\" stroke-width=\"2\" stroke-dasharray=\"5,2\" d=\"M139.46,-201.833C147.656,-198.629 156.539,-195.155 164.547,-192.024\"/>\n",
       "<polygon fill=\"#27844e\" stroke=\"#27844e\" stroke-width=\"2\" points=\"138.133,-198.594 130.094,-205.496 140.682,-205.113 138.133,-198.594\"/>\n",
       "<polygon fill=\"#27844e\" stroke=\"#27844e\" stroke-width=\"2\" points=\"174.104,-188.286 166.43,-196.119 169.63,-190.573 164.973,-192.394 164.791,-191.928 164.609,-191.462 169.266,-189.641 163.152,-187.737 174.104,-188.286 174.104,-188.286\"/>\n",
       "</g>\n",
       "<!-- 1H2 + 1O [=] 1H + 1OH &#45;&#45;&#45; H2&#45;&gt;1H2 + 1O [=] 1H + 1OH &#45;&#45;&#45; OH -->\n",
       "<g id=\"edge10\" class=\"edge\"><title>1H2 + 1O [=] 1H + 1OH &#45;&#45;&#45; H2&#45;&gt;1H2 + 1O [=] 1H + 1OH &#45;&#45;&#45; OH</title>\n",
       "<path fill=\"none\" stroke=\"#27844e\" stroke-width=\"2\" stroke-dasharray=\"5,2\" d=\"M140.03,-223.287C146.296,-225.5 152.939,-227.847 159.27,-230.083\"/>\n",
       "<polygon fill=\"#27844e\" stroke=\"#27844e\" stroke-width=\"2\" points=\"141.095,-219.952 130.5,-219.921 138.764,-226.552 141.095,-219.952\"/>\n",
       "<polygon fill=\"#27844e\" stroke=\"#27844e\" stroke-width=\"2\" points=\"168.862,-233.471 157.934,-234.383 163.981,-232.277 159.266,-230.612 159.433,-230.14 159.599,-229.669 164.314,-231.334 160.931,-225.897 168.862,-233.471 168.862,-233.471\"/>\n",
       "</g>\n",
       "</g>\n",
       "</svg>\n"
      ],
      "text/plain": [
       "<graphviz.dot.Digraph at 0x11541a518>"
      ]
     },
     "execution_count": 23,
     "metadata": {},
     "output_type": "execute_result"
    }
   ],
   "source": [
    "dot_h.plot_reactions()"
   ]
  },
  {
   "cell_type": "markdown",
   "metadata": {},
   "source": [
    "#### plot specific reaction s"
   ]
  },
  {
   "cell_type": "code",
   "execution_count": 24,
   "metadata": {},
   "outputs": [
    {
     "data": {
      "image/svg+xml": [
       "<?xml version=\"1.0\" encoding=\"UTF-8\" standalone=\"no\"?>\n",
       "<!DOCTYPE svg PUBLIC \"-//W3C//DTD SVG 1.1//EN\"\n",
       " \"http://www.w3.org/Graphics/SVG/1.1/DTD/svg11.dtd\">\n",
       "<!-- Generated by graphviz version 2.38.0 (20140413.2041)\n",
       " -->\n",
       "<!-- Title: %3 Pages: 1 -->\n",
       "<svg width=\"374pt\" height=\"300pt\"\n",
       " viewBox=\"0.00 0.00 373.57 300.00\" xmlns=\"http://www.w3.org/2000/svg\" xmlns:xlink=\"http://www.w3.org/1999/xlink\">\n",
       "<g id=\"graph0\" class=\"graph\" transform=\"scale(1 1) rotate(0) translate(72 228)\">\n",
       "<title>%3</title>\n",
       "<polygon fill=\"#333333\" stroke=\"none\" points=\"-72,72 -72,-228 301.567,-228 301.567,72 -72,72\"/>\n",
       "<g id=\"clust1\" class=\"cluster\"><title>cluster0Reaction</title>\n",
       "<polygon fill=\"#333333\" stroke=\"black\" points=\"8,-8 8,-148 221.567,-148 221.567,-8 8,-8\"/>\n",
       "<text text-anchor=\"middle\" x=\"114.784\" y=\"-131.2\" font-family=\"Times,serif\" font-size=\"16.00\" fill=\"white\">1H2 + 1O [=] 1H + 1OH</text>\n",
       "</g>\n",
       "<!-- 1H2 + 1O [=] 1H + 1OH &#45;&#45;&#45; O -->\n",
       "<g id=\"node1\" class=\"node\"><title>1H2 + 1O [=] 1H + 1OH &#45;&#45;&#45; O</title>\n",
       "<ellipse fill=\"black\" stroke=\"white\" cx=\"34\" cy=\"-65\" rx=\"18\" ry=\"18\"/>\n",
       "<text text-anchor=\"middle\" x=\"34\" y=\"-60.8\" font-family=\"Helvetica,sans-Serif\" font-size=\"14.00\" fill=\"white\">O</text>\n",
       "</g>\n",
       "<!-- 1H2 + 1O [=] 1H + 1OH &#45;&#45;&#45; H2 -->\n",
       "<g id=\"node2\" class=\"node\"><title>1H2 + 1O [=] 1H + 1OH &#45;&#45;&#45; H2</title>\n",
       "<ellipse fill=\"black\" stroke=\"white\" cx=\"109.412\" cy=\"-65\" rx=\"21.3236\" ry=\"21.3236\"/>\n",
       "<text text-anchor=\"middle\" x=\"109.412\" y=\"-60.8\" font-family=\"Helvetica,sans-Serif\" font-size=\"14.00\" fill=\"white\">H2</text>\n",
       "</g>\n",
       "<!-- 1H2 + 1O [=] 1H + 1OH &#45;&#45;&#45; O&#45;&gt;1H2 + 1O [=] 1H + 1OH &#45;&#45;&#45; H2 -->\n",
       "<g id=\"edge3\" class=\"edge\"><title>1H2 + 1O [=] 1H + 1OH &#45;&#45;&#45; O&#45;&gt;1H2 + 1O [=] 1H + 1OH &#45;&#45;&#45; H2</title>\n",
       "<path fill=\"none\" stroke=\"#5ca024\" stroke-width=\"1.5\" d=\"M52.0266,-65C62.7005,-65 76.5264,-65 87.8159,-65\"/>\n",
       "</g>\n",
       "<!-- 1H2 + 1O [=] 1H + 1OH &#45;&#45;&#45; H -->\n",
       "<g id=\"node3\" class=\"node\"><title>1H2 + 1O [=] 1H + 1OH &#45;&#45;&#45; H</title>\n",
       "<ellipse fill=\"black\" stroke=\"white\" cx=\"190.195\" cy=\"-34\" rx=\"18\" ry=\"18\"/>\n",
       "<text text-anchor=\"middle\" x=\"190.195\" y=\"-29.8\" font-family=\"Helvetica,sans-Serif\" font-size=\"14.00\" fill=\"white\">H</text>\n",
       "</g>\n",
       "<!-- 1H2 + 1O [=] 1H + 1OH &#45;&#45;&#45; O&#45;&gt;1H2 + 1O [=] 1H + 1OH &#45;&#45;&#45; H -->\n",
       "<g id=\"edge1\" class=\"edge\"><title>1H2 + 1O [=] 1H + 1OH &#45;&#45;&#45; O&#45;&gt;1H2 + 1O [=] 1H + 1OH &#45;&#45;&#45; H</title>\n",
       "<path fill=\"none\" stroke=\"#5ca024\" stroke-width=\"2\" stroke-dasharray=\"5,2\" d=\"M57.3751,-49.0072C66.4358,-43.4451 77.2784,-37.8806 88,-35 112.419,-28.4392 141.364,-28.9389 162.028,-30.6341\"/>\n",
       "<polygon fill=\"#5ca024\" stroke=\"#5ca024\" stroke-width=\"2\" points=\"55.4528,-46.0822 48.9788,-54.469 59.2698,-51.95 55.4528,-46.0822\"/>\n",
       "<polygon fill=\"#5ca024\" stroke=\"#5ca024\" stroke-width=\"2\" points=\"172.012,-31.5986 161.626,-35.1161 166.987,-31.6154 162.011,-31.1346 162.059,-30.637 162.107,-30.1393 167.084,-30.6201 162.491,-26.1578 172.012,-31.5986 172.012,-31.5986\"/>\n",
       "</g>\n",
       "<!-- 1H2 + 1O [=] 1H + 1OH &#45;&#45;&#45; OH -->\n",
       "<g id=\"node4\" class=\"node\"><title>1H2 + 1O [=] 1H + 1OH &#45;&#45;&#45; OH</title>\n",
       "<ellipse fill=\"black\" stroke=\"white\" cx=\"190.195\" cy=\"-93\" rx=\"23.2447\" ry=\"23.2447\"/>\n",
       "<text text-anchor=\"middle\" x=\"190.195\" y=\"-88.8\" font-family=\"Helvetica,sans-Serif\" font-size=\"14.00\" fill=\"white\">OH</text>\n",
       "</g>\n",
       "<!-- 1H2 + 1O [=] 1H + 1OH &#45;&#45;&#45; O&#45;&gt;1H2 + 1O [=] 1H + 1OH &#45;&#45;&#45; OH -->\n",
       "<g id=\"edge2\" class=\"edge\"><title>1H2 + 1O [=] 1H + 1OH &#45;&#45;&#45; O&#45;&gt;1H2 + 1O [=] 1H + 1OH &#45;&#45;&#45; OH</title>\n",
       "<path fill=\"none\" stroke=\"#5ca024\" stroke-width=\"2\" stroke-dasharray=\"5,2\" d=\"M57.3603,-81.0481C66.4191,-86.6174 77.2643,-92.1724 88,-95 110.574,-100.946 136.969,-100.182 157.141,-98.0713\"/>\n",
       "<polygon fill=\"#5ca024\" stroke=\"#5ca024\" stroke-width=\"2\" points=\"59.2553,-78.1055 48.9672,-75.5745 55.4315,-83.9688 59.2553,-78.1055\"/>\n",
       "<polygon fill=\"#5ca024\" stroke=\"#5ca024\" stroke-width=\"2\" points=\"167.07,-96.8732 157.681,-102.539 162.166,-97.9687 157.202,-98.5678 157.142,-98.0714 157.082,-97.575 162.046,-96.9759 156.603,-93.6038 167.07,-96.8732 167.07,-96.8732\"/>\n",
       "</g>\n",
       "<!-- 1H2 + 1O [=] 1H + 1OH &#45;&#45;&#45; H2&#45;&gt;1H2 + 1O [=] 1H + 1OH &#45;&#45;&#45; H -->\n",
       "<g id=\"edge4\" class=\"edge\"><title>1H2 + 1O [=] 1H + 1OH &#45;&#45;&#45; H2&#45;&gt;1H2 + 1O [=] 1H + 1OH &#45;&#45;&#45; H</title>\n",
       "<path fill=\"none\" stroke=\"#5ca024\" stroke-width=\"2\" stroke-dasharray=\"5,2\" d=\"M138.79,-53.8335C146.935,-50.6286 155.763,-47.155 163.721,-44.0236\"/>\n",
       "<polygon fill=\"#5ca024\" stroke=\"#5ca024\" stroke-width=\"2\" points=\"137.507,-50.5772 129.483,-57.4958 140.07,-57.0911 137.507,-50.5772\"/>\n",
       "<polygon fill=\"#5ca024\" stroke=\"#5ca024\" stroke-width=\"2\" points=\"173.22,-40.2861 165.562,-48.1353 168.75,-42.5822 164.097,-44.4131 163.914,-43.9478 163.731,-43.4825 168.384,-41.6517 162.266,-39.7603 173.22,-40.2861 173.22,-40.2861\"/>\n",
       "</g>\n",
       "<!-- 1H2 + 1O [=] 1H + 1OH &#45;&#45;&#45; H2&#45;&gt;1H2 + 1O [=] 1H + 1OH &#45;&#45;&#45; OH -->\n",
       "<g id=\"edge5\" class=\"edge\"><title>1H2 + 1O [=] 1H + 1OH &#45;&#45;&#45; H2&#45;&gt;1H2 + 1O [=] 1H + 1OH &#45;&#45;&#45; OH</title>\n",
       "<path fill=\"none\" stroke=\"#5ca024\" stroke-width=\"2\" stroke-dasharray=\"5,2\" d=\"M139.357,-75.2873C145.584,-77.5003 152.186,-79.8467 158.477,-82.0828\"/>\n",
       "<polygon fill=\"#5ca024\" stroke=\"#5ca024\" stroke-width=\"2\" points=\"140.481,-71.9723 129.886,-71.9214 138.137,-78.5682 140.481,-71.9723\"/>\n",
       "<polygon fill=\"#5ca024\" stroke=\"#5ca024\" stroke-width=\"2\" points=\"168.01,-85.4706 157.08,-86.3619 163.131,-84.2673 158.42,-82.5929 158.587,-82.1217 158.755,-81.6506 163.466,-83.325 160.094,-77.8816 168.01,-85.4706 168.01,-85.4706\"/>\n",
       "</g>\n",
       "</g>\n",
       "</svg>\n"
      ],
      "text/plain": [
       "<graphviz.dot.Digraph at 0x1106bf470>"
      ]
     },
     "execution_count": 24,
     "metadata": {},
     "output_type": "execute_result"
    }
   ],
   "source": [
    "dot_h.plot_reactions(idxs=[1])"
   ]
  },
  {
   "cell_type": "code",
   "execution_count": null,
   "metadata": {
    "collapsed": true
   },
   "outputs": [],
   "source": []
  }
 ],
 "metadata": {
  "kernelspec": {
   "display_name": "Python 3",
   "language": "python",
   "name": "python3"
  },
  "language_info": {
   "codemirror_mode": {
    "name": "ipython",
    "version": 3
   },
   "file_extension": ".py",
   "mimetype": "text/x-python",
   "name": "python",
   "nbconvert_exporter": "python",
   "pygments_lexer": "ipython3",
   "version": "3.6.1"
  }
 },
 "nbformat": 4,
 "nbformat_minor": 2
}
